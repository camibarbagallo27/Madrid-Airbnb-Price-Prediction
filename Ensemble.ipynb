{
 "cells": [
  {
   "cell_type": "code",
   "execution_count": 1,
   "metadata": {},
   "outputs": [],
   "source": [
    "import pandas as pd\n",
    "from sklearn.model_selection import train_test_split\n",
    "from sklearn.preprocessing import StandardScaler\n",
    "from sklearn.preprocessing import MinMaxScaler\n",
    "import numpy as np\n",
    "import xgboost\n",
    "from sklearn.svm import SVR\n",
    "from sklearn.neural_network import MLPRegressor\n",
    "from sklearn.ensemble import VotingRegressor\n",
    "from sklearn.ensemble import BaggingRegressor\n",
    "from mlxtend.regressor import StackingRegressor"
   ]
  },
  {
   "cell_type": "code",
   "execution_count": 2,
   "metadata": {},
   "outputs": [],
   "source": [
    "df= pd.read_csv('./CSVs/Modelling.csv')"
   ]
  },
  {
   "cell_type": "code",
   "execution_count": 3,
   "metadata": {},
   "outputs": [],
   "source": [
    "pd.set_option('display.max_columns', None)\n",
    "pd.set_option(\"display.max_rows\",None)"
   ]
  },
  {
   "cell_type": "code",
   "execution_count": 4,
   "metadata": {
    "scrolled": true
   },
   "outputs": [
    {
     "data": {
      "text/html": [
       "<div>\n",
       "<style scoped>\n",
       "    .dataframe tbody tr th:only-of-type {\n",
       "        vertical-align: middle;\n",
       "    }\n",
       "\n",
       "    .dataframe tbody tr th {\n",
       "        vertical-align: top;\n",
       "    }\n",
       "\n",
       "    .dataframe thead th {\n",
       "        text-align: right;\n",
       "    }\n",
       "</style>\n",
       "<table border=\"1\" class=\"dataframe\">\n",
       "  <thead>\n",
       "    <tr style=\"text-align: right;\">\n",
       "      <th></th>\n",
       "      <th>maximum_nights</th>\n",
       "      <th>extra_people</th>\n",
       "      <th>guests_included</th>\n",
       "      <th>beds</th>\n",
       "      <th>availability_365</th>\n",
       "      <th>accommodates</th>\n",
       "      <th>bedrooms</th>\n",
       "      <th>host_listings_count</th>\n",
       "      <th>host_for</th>\n",
       "      <th>number_of_reviews_ltm</th>\n",
       "      <th>minimum_nights</th>\n",
       "      <th>bathrooms</th>\n",
       "      <th>secure</th>\n",
       "      <th>cleaning_fee</th>\n",
       "      <th>room_type_private_room</th>\n",
       "      <th>host_acceptance_rate</th>\n",
       "      <th>elevator</th>\n",
       "      <th>white_goods</th>\n",
       "      <th>host_response_rate</th>\n",
       "      <th>security_deposit</th>\n",
       "      <th>government</th>\n",
       "      <th>review_scores_value</th>\n",
       "      <th>area_name_salamanca</th>\n",
       "      <th>area_name_san_blas</th>\n",
       "      <th>price</th>\n",
       "    </tr>\n",
       "  </thead>\n",
       "  <tbody>\n",
       "    <tr>\n",
       "      <th>0</th>\n",
       "      <td>365</td>\n",
       "      <td>15.0</td>\n",
       "      <td>2</td>\n",
       "      <td>0.0</td>\n",
       "      <td>77</td>\n",
       "      <td>2</td>\n",
       "      <td>1.0</td>\n",
       "      <td>1.0</td>\n",
       "      <td>4010</td>\n",
       "      <td>14</td>\n",
       "      <td>1</td>\n",
       "      <td>1.0</td>\n",
       "      <td>0.0</td>\n",
       "      <td>1.0</td>\n",
       "      <td>1</td>\n",
       "      <td>3.0</td>\n",
       "      <td>1.0</td>\n",
       "      <td>1.0</td>\n",
       "      <td>4.0</td>\n",
       "      <td>0.0</td>\n",
       "      <td>1.0</td>\n",
       "      <td>10.0</td>\n",
       "      <td>0</td>\n",
       "      <td>0</td>\n",
       "      <td>70.0</td>\n",
       "    </tr>\n",
       "    <tr>\n",
       "      <th>1</th>\n",
       "      <td>40</td>\n",
       "      <td>8.0</td>\n",
       "      <td>1</td>\n",
       "      <td>1.0</td>\n",
       "      <td>200</td>\n",
       "      <td>1</td>\n",
       "      <td>1.0</td>\n",
       "      <td>2.0</td>\n",
       "      <td>3699</td>\n",
       "      <td>0</td>\n",
       "      <td>4</td>\n",
       "      <td>1.0</td>\n",
       "      <td>0.0</td>\n",
       "      <td>0.0</td>\n",
       "      <td>1</td>\n",
       "      <td>4.0</td>\n",
       "      <td>1.0</td>\n",
       "      <td>1.0</td>\n",
       "      <td>4.0</td>\n",
       "      <td>0.0</td>\n",
       "      <td>1.0</td>\n",
       "      <td>9.0</td>\n",
       "      <td>0</td>\n",
       "      <td>0</td>\n",
       "      <td>17.0</td>\n",
       "    </tr>\n",
       "    <tr>\n",
       "      <th>2</th>\n",
       "      <td>730</td>\n",
       "      <td>10.0</td>\n",
       "      <td>1</td>\n",
       "      <td>5.0</td>\n",
       "      <td>249</td>\n",
       "      <td>6</td>\n",
       "      <td>3.0</td>\n",
       "      <td>9.0</td>\n",
       "      <td>3703</td>\n",
       "      <td>0</td>\n",
       "      <td>15</td>\n",
       "      <td>2.0</td>\n",
       "      <td>0.0</td>\n",
       "      <td>1.0</td>\n",
       "      <td>0</td>\n",
       "      <td>3.0</td>\n",
       "      <td>1.0</td>\n",
       "      <td>1.0</td>\n",
       "      <td>4.0</td>\n",
       "      <td>1.0</td>\n",
       "      <td>1.0</td>\n",
       "      <td>9.0</td>\n",
       "      <td>0</td>\n",
       "      <td>0</td>\n",
       "      <td>50.0</td>\n",
       "    </tr>\n",
       "    <tr>\n",
       "      <th>3</th>\n",
       "      <td>730</td>\n",
       "      <td>10.0</td>\n",
       "      <td>2</td>\n",
       "      <td>1.0</td>\n",
       "      <td>364</td>\n",
       "      <td>3</td>\n",
       "      <td>0.0</td>\n",
       "      <td>1.0</td>\n",
       "      <td>3661</td>\n",
       "      <td>7</td>\n",
       "      <td>4</td>\n",
       "      <td>1.0</td>\n",
       "      <td>0.0</td>\n",
       "      <td>1.0</td>\n",
       "      <td>0</td>\n",
       "      <td>3.0</td>\n",
       "      <td>1.0</td>\n",
       "      <td>1.0</td>\n",
       "      <td>4.0</td>\n",
       "      <td>1.0</td>\n",
       "      <td>1.0</td>\n",
       "      <td>10.0</td>\n",
       "      <td>0</td>\n",
       "      <td>0</td>\n",
       "      <td>89.0</td>\n",
       "    </tr>\n",
       "    <tr>\n",
       "      <th>4</th>\n",
       "      <td>10</td>\n",
       "      <td>0.0</td>\n",
       "      <td>4</td>\n",
       "      <td>3.0</td>\n",
       "      <td>322</td>\n",
       "      <td>4</td>\n",
       "      <td>2.0</td>\n",
       "      <td>1.0</td>\n",
       "      <td>3661</td>\n",
       "      <td>16</td>\n",
       "      <td>3</td>\n",
       "      <td>1.5</td>\n",
       "      <td>0.0</td>\n",
       "      <td>0.0</td>\n",
       "      <td>0</td>\n",
       "      <td>4.0</td>\n",
       "      <td>1.0</td>\n",
       "      <td>1.0</td>\n",
       "      <td>4.0</td>\n",
       "      <td>1.0</td>\n",
       "      <td>0.0</td>\n",
       "      <td>10.0</td>\n",
       "      <td>0</td>\n",
       "      <td>0</td>\n",
       "      <td>115.0</td>\n",
       "    </tr>\n",
       "  </tbody>\n",
       "</table>\n",
       "</div>"
      ],
      "text/plain": [
       "   maximum_nights  extra_people  guests_included  beds  availability_365  \\\n",
       "0             365          15.0                2   0.0                77   \n",
       "1              40           8.0                1   1.0               200   \n",
       "2             730          10.0                1   5.0               249   \n",
       "3             730          10.0                2   1.0               364   \n",
       "4              10           0.0                4   3.0               322   \n",
       "\n",
       "   accommodates  bedrooms  host_listings_count  host_for  \\\n",
       "0             2       1.0                  1.0      4010   \n",
       "1             1       1.0                  2.0      3699   \n",
       "2             6       3.0                  9.0      3703   \n",
       "3             3       0.0                  1.0      3661   \n",
       "4             4       2.0                  1.0      3661   \n",
       "\n",
       "   number_of_reviews_ltm  minimum_nights  bathrooms  secure  cleaning_fee  \\\n",
       "0                     14               1        1.0     0.0           1.0   \n",
       "1                      0               4        1.0     0.0           0.0   \n",
       "2                      0              15        2.0     0.0           1.0   \n",
       "3                      7               4        1.0     0.0           1.0   \n",
       "4                     16               3        1.5     0.0           0.0   \n",
       "\n",
       "   room_type_private_room  host_acceptance_rate  elevator  white_goods  \\\n",
       "0                       1                   3.0       1.0          1.0   \n",
       "1                       1                   4.0       1.0          1.0   \n",
       "2                       0                   3.0       1.0          1.0   \n",
       "3                       0                   3.0       1.0          1.0   \n",
       "4                       0                   4.0       1.0          1.0   \n",
       "\n",
       "   host_response_rate  security_deposit  government  review_scores_value  \\\n",
       "0                 4.0               0.0         1.0                 10.0   \n",
       "1                 4.0               0.0         1.0                  9.0   \n",
       "2                 4.0               1.0         1.0                  9.0   \n",
       "3                 4.0               1.0         1.0                 10.0   \n",
       "4                 4.0               1.0         0.0                 10.0   \n",
       "\n",
       "   area_name_salamanca  area_name_san_blas  price  \n",
       "0                    0                   0   70.0  \n",
       "1                    0                   0   17.0  \n",
       "2                    0                   0   50.0  \n",
       "3                    0                   0   89.0  \n",
       "4                    0                   0  115.0  "
      ]
     },
     "execution_count": 4,
     "metadata": {},
     "output_type": "execute_result"
    }
   ],
   "source": [
    "df.head()"
   ]
  },
  {
   "cell_type": "markdown",
   "metadata": {},
   "source": [
    "# Train-Test Split"
   ]
  },
  {
   "cell_type": "code",
   "execution_count": 5,
   "metadata": {},
   "outputs": [
    {
     "name": "stdout",
     "output_type": "stream",
     "text": [
      "Dataset shape: (15283, 25)\n",
      "Dataset shape: (6550, 25)\n"
     ]
    }
   ],
   "source": [
    "splitter = train_test_split\n",
    "\"-----------------------\"\n",
    "\n",
    "df_train, df_test = splitter(df, test_size = 0.3, random_state = 42)\n",
    "print(\"Dataset shape: {shape}\".format(shape = df_train.shape))\n",
    "print(\"Dataset shape: {shape}\".format(shape = df_test.shape))"
   ]
  },
  {
   "cell_type": "code",
   "execution_count": 6,
   "metadata": {},
   "outputs": [],
   "source": [
    "target = 'price'\n",
    "#variables = features\n",
    "X_train= df_train.drop('price',axis=1)\n",
    "y_train = df_train[target]\n",
    "\n",
    "X_test= df_test.drop('price',axis=1)\n",
    "y_test = df_test[target]"
   ]
  },
  {
   "cell_type": "markdown",
   "metadata": {},
   "source": [
    "# Standardizing and Normalizing"
   ]
  },
  {
   "cell_type": "code",
   "execution_count": 7,
   "metadata": {},
   "outputs": [],
   "source": [
    "scaler_train = StandardScaler()\n",
    "scaler_test = StandardScaler()\n",
    "X_train_sc = scaler_train.fit_transform(X_train)\n",
    "X_test_sc = scaler_test.fit_transform(X_test)\n",
    "X_train = pd.DataFrame(X_train_sc, index=X_train.index, columns=X_train.columns)\n",
    "X_test = pd.DataFrame(X_test_sc, index=X_test.index, columns=X_test.columns)"
   ]
  },
  {
   "cell_type": "code",
   "execution_count": 8,
   "metadata": {},
   "outputs": [],
   "source": [
    "min_scaler_train = MinMaxScaler()\n",
    "min_scaler_test = MinMaxScaler()\n",
    "X_trains = min_scaler_train.fit_transform(X_train_sc)\n",
    "X_tests = min_scaler_test.fit_transform(X_test_sc)\n",
    "X_train = pd.DataFrame(X_trains, index=X_train.index, columns=X_train.columns)\n",
    "X_test = pd.DataFrame(X_tests, index=X_test.index, columns=X_test.columns)"
   ]
  },
  {
   "cell_type": "code",
   "execution_count": 9,
   "metadata": {},
   "outputs": [
    {
     "data": {
      "text/html": [
       "<div>\n",
       "<style scoped>\n",
       "    .dataframe tbody tr th:only-of-type {\n",
       "        vertical-align: middle;\n",
       "    }\n",
       "\n",
       "    .dataframe tbody tr th {\n",
       "        vertical-align: top;\n",
       "    }\n",
       "\n",
       "    .dataframe thead th {\n",
       "        text-align: right;\n",
       "    }\n",
       "</style>\n",
       "<table border=\"1\" class=\"dataframe\">\n",
       "  <thead>\n",
       "    <tr style=\"text-align: right;\">\n",
       "      <th></th>\n",
       "      <th>maximum_nights</th>\n",
       "      <th>extra_people</th>\n",
       "      <th>guests_included</th>\n",
       "      <th>beds</th>\n",
       "      <th>availability_365</th>\n",
       "      <th>accommodates</th>\n",
       "      <th>bedrooms</th>\n",
       "      <th>host_listings_count</th>\n",
       "      <th>host_for</th>\n",
       "      <th>number_of_reviews_ltm</th>\n",
       "      <th>minimum_nights</th>\n",
       "      <th>bathrooms</th>\n",
       "      <th>secure</th>\n",
       "      <th>cleaning_fee</th>\n",
       "      <th>room_type_private_room</th>\n",
       "      <th>host_acceptance_rate</th>\n",
       "      <th>elevator</th>\n",
       "      <th>white_goods</th>\n",
       "      <th>host_response_rate</th>\n",
       "      <th>security_deposit</th>\n",
       "      <th>government</th>\n",
       "      <th>review_scores_value</th>\n",
       "      <th>area_name_salamanca</th>\n",
       "      <th>area_name_san_blas</th>\n",
       "    </tr>\n",
       "  </thead>\n",
       "  <tbody>\n",
       "    <tr>\n",
       "      <th>3693</th>\n",
       "      <td>1.011600e-05</td>\n",
       "      <td>0.000000</td>\n",
       "      <td>0.000000</td>\n",
       "      <td>0.02</td>\n",
       "      <td>0.000000</td>\n",
       "      <td>0.052632</td>\n",
       "      <td>0.111111</td>\n",
       "      <td>0.001898</td>\n",
       "      <td>0.331536</td>\n",
       "      <td>0.000000</td>\n",
       "      <td>0.003559</td>\n",
       "      <td>0.090909</td>\n",
       "      <td>0.0</td>\n",
       "      <td>1.0</td>\n",
       "      <td>0.0</td>\n",
       "      <td>1.0</td>\n",
       "      <td>1.0</td>\n",
       "      <td>1.0</td>\n",
       "      <td>1.0</td>\n",
       "      <td>0.0</td>\n",
       "      <td>0.0</td>\n",
       "      <td>0.875</td>\n",
       "      <td>0.0</td>\n",
       "      <td>0.0</td>\n",
       "    </tr>\n",
       "    <tr>\n",
       "      <th>6385</th>\n",
       "      <td>1.011600e-05</td>\n",
       "      <td>0.000000</td>\n",
       "      <td>0.000000</td>\n",
       "      <td>0.02</td>\n",
       "      <td>0.715068</td>\n",
       "      <td>0.000000</td>\n",
       "      <td>0.111111</td>\n",
       "      <td>0.009488</td>\n",
       "      <td>0.478314</td>\n",
       "      <td>0.039877</td>\n",
       "      <td>0.024021</td>\n",
       "      <td>0.090909</td>\n",
       "      <td>0.0</td>\n",
       "      <td>1.0</td>\n",
       "      <td>1.0</td>\n",
       "      <td>1.0</td>\n",
       "      <td>0.0</td>\n",
       "      <td>1.0</td>\n",
       "      <td>1.0</td>\n",
       "      <td>1.0</td>\n",
       "      <td>1.0</td>\n",
       "      <td>0.875</td>\n",
       "      <td>0.0</td>\n",
       "      <td>0.0</td>\n",
       "    </tr>\n",
       "    <tr>\n",
       "      <th>4029</th>\n",
       "      <td>1.260000e-07</td>\n",
       "      <td>0.000000</td>\n",
       "      <td>0.000000</td>\n",
       "      <td>0.04</td>\n",
       "      <td>0.000000</td>\n",
       "      <td>0.157895</td>\n",
       "      <td>0.111111</td>\n",
       "      <td>0.001898</td>\n",
       "      <td>0.635874</td>\n",
       "      <td>0.000000</td>\n",
       "      <td>0.003559</td>\n",
       "      <td>0.090909</td>\n",
       "      <td>1.0</td>\n",
       "      <td>1.0</td>\n",
       "      <td>0.0</td>\n",
       "      <td>1.0</td>\n",
       "      <td>1.0</td>\n",
       "      <td>1.0</td>\n",
       "      <td>1.0</td>\n",
       "      <td>1.0</td>\n",
       "      <td>1.0</td>\n",
       "      <td>0.875</td>\n",
       "      <td>1.0</td>\n",
       "      <td>0.0</td>\n",
       "    </tr>\n",
       "    <tr>\n",
       "      <th>7220</th>\n",
       "      <td>8.010000e-07</td>\n",
       "      <td>0.055762</td>\n",
       "      <td>0.066667</td>\n",
       "      <td>0.04</td>\n",
       "      <td>0.873973</td>\n",
       "      <td>0.263158</td>\n",
       "      <td>0.222222</td>\n",
       "      <td>0.091082</td>\n",
       "      <td>0.520706</td>\n",
       "      <td>0.079755</td>\n",
       "      <td>0.001779</td>\n",
       "      <td>0.090909</td>\n",
       "      <td>0.0</td>\n",
       "      <td>1.0</td>\n",
       "      <td>0.0</td>\n",
       "      <td>1.0</td>\n",
       "      <td>0.0</td>\n",
       "      <td>1.0</td>\n",
       "      <td>1.0</td>\n",
       "      <td>1.0</td>\n",
       "      <td>0.0</td>\n",
       "      <td>1.000</td>\n",
       "      <td>0.0</td>\n",
       "      <td>0.0</td>\n",
       "    </tr>\n",
       "    <tr>\n",
       "      <th>3995</th>\n",
       "      <td>1.800000e-07</td>\n",
       "      <td>0.037175</td>\n",
       "      <td>0.000000</td>\n",
       "      <td>0.02</td>\n",
       "      <td>0.158904</td>\n",
       "      <td>0.052632</td>\n",
       "      <td>0.111111</td>\n",
       "      <td>0.001898</td>\n",
       "      <td>0.323940</td>\n",
       "      <td>0.015337</td>\n",
       "      <td>0.001779</td>\n",
       "      <td>0.090909</td>\n",
       "      <td>0.0</td>\n",
       "      <td>0.0</td>\n",
       "      <td>1.0</td>\n",
       "      <td>1.0</td>\n",
       "      <td>1.0</td>\n",
       "      <td>0.0</td>\n",
       "      <td>1.0</td>\n",
       "      <td>1.0</td>\n",
       "      <td>0.0</td>\n",
       "      <td>0.875</td>\n",
       "      <td>0.0</td>\n",
       "      <td>0.0</td>\n",
       "    </tr>\n",
       "  </tbody>\n",
       "</table>\n",
       "</div>"
      ],
      "text/plain": [
       "      maximum_nights  extra_people  guests_included  beds  availability_365  \\\n",
       "3693    1.011600e-05      0.000000         0.000000  0.02          0.000000   \n",
       "6385    1.011600e-05      0.000000         0.000000  0.02          0.715068   \n",
       "4029    1.260000e-07      0.000000         0.000000  0.04          0.000000   \n",
       "7220    8.010000e-07      0.055762         0.066667  0.04          0.873973   \n",
       "3995    1.800000e-07      0.037175         0.000000  0.02          0.158904   \n",
       "\n",
       "      accommodates  bedrooms  host_listings_count  host_for  \\\n",
       "3693      0.052632  0.111111             0.001898  0.331536   \n",
       "6385      0.000000  0.111111             0.009488  0.478314   \n",
       "4029      0.157895  0.111111             0.001898  0.635874   \n",
       "7220      0.263158  0.222222             0.091082  0.520706   \n",
       "3995      0.052632  0.111111             0.001898  0.323940   \n",
       "\n",
       "      number_of_reviews_ltm  minimum_nights  bathrooms  secure  cleaning_fee  \\\n",
       "3693               0.000000        0.003559   0.090909     0.0           1.0   \n",
       "6385               0.039877        0.024021   0.090909     0.0           1.0   \n",
       "4029               0.000000        0.003559   0.090909     1.0           1.0   \n",
       "7220               0.079755        0.001779   0.090909     0.0           1.0   \n",
       "3995               0.015337        0.001779   0.090909     0.0           0.0   \n",
       "\n",
       "      room_type_private_room  host_acceptance_rate  elevator  white_goods  \\\n",
       "3693                     0.0                   1.0       1.0          1.0   \n",
       "6385                     1.0                   1.0       0.0          1.0   \n",
       "4029                     0.0                   1.0       1.0          1.0   \n",
       "7220                     0.0                   1.0       0.0          1.0   \n",
       "3995                     1.0                   1.0       1.0          0.0   \n",
       "\n",
       "      host_response_rate  security_deposit  government  review_scores_value  \\\n",
       "3693                 1.0               0.0         0.0                0.875   \n",
       "6385                 1.0               1.0         1.0                0.875   \n",
       "4029                 1.0               1.0         1.0                0.875   \n",
       "7220                 1.0               1.0         0.0                1.000   \n",
       "3995                 1.0               1.0         0.0                0.875   \n",
       "\n",
       "      area_name_salamanca  area_name_san_blas  \n",
       "3693                  0.0                 0.0  \n",
       "6385                  0.0                 0.0  \n",
       "4029                  1.0                 0.0  \n",
       "7220                  0.0                 0.0  \n",
       "3995                  0.0                 0.0  "
      ]
     },
     "execution_count": 9,
     "metadata": {},
     "output_type": "execute_result"
    }
   ],
   "source": [
    "X_train.head()"
   ]
  },
  {
   "cell_type": "code",
   "execution_count": 10,
   "metadata": {},
   "outputs": [],
   "source": [
    "def mean_absolute_percentage_error(y_true,y_pred):\n",
    "    y_true = np.array(y_true)\n",
    "    y_pred = np.array(y_pred)\n",
    "    return (np.sum(np.abs(y_true-y_pred)/y_true)/len(y_true))*100"
   ]
  },
  {
   "cell_type": "markdown",
   "metadata": {},
   "source": [
    "# Average Ensemble"
   ]
  },
  {
   "cell_type": "code",
   "execution_count": 11,
   "metadata": {},
   "outputs": [],
   "source": [
    "model1 = SVR(C=1.5, cache_size=200, coef0=0.0, degree=3, epsilon=0.1, gamma='scale',\n",
    "    kernel='poly', max_iter=-1, shrinking=True, tol=0.001, verbose=False)\n",
    "model2 =xgboost.XGBRegressor(base_score=0.5, booster='gbtree', colsample_bylevel=1,\n",
    "             colsample_bynode=1, colsample_bytree=1, gamma=0,\n",
    "             importance_type='gain', learning_rate=0.1, max_delta_step=0,\n",
    "             max_depth=15, min_child_weight=3, missing=None, n_estimators=19,\n",
    "             n_jobs=1, nthread=None, objective='reg:linear', random_state=0,\n",
    "             reg_alpha=0, reg_lambda=1, scale_pos_weight=1, seed=None,\n",
    "             silent=None, subsample=1, verbosity=1)\n",
    "model3= MLPRegressor(hidden_layer_sizes=(16,10,16),activation='tanh',solver='adam',random_state=0)\n"
   ]
  },
  {
   "cell_type": "code",
   "execution_count": 12,
   "metadata": {},
   "outputs": [
    {
     "name": "stdout",
     "output_type": "stream",
     "text": [
      "[20:27:33] WARNING: /private/var/folders/fq/5gbmc25910vcch4dpn7ww91w0000gn/T/pip-install-gx4cqwyo/xgboost/xgboost/src/objective/regression_obj.cu:167: reg:linear is now deprecated in favor of reg:squarederror.\n"
     ]
    },
    {
     "name": "stderr",
     "output_type": "stream",
     "text": [
      "/Applications/anaconda3/lib/python3.7/site-packages/sklearn/neural_network/_multilayer_perceptron.py:571: ConvergenceWarning: Stochastic Optimizer: Maximum iterations (200) reached and the optimization hasn't converged yet.\n",
      "  % self.max_iter, ConvergenceWarning)\n"
     ]
    },
    {
     "data": {
      "text/plain": [
       "MLPRegressor(activation='tanh', alpha=0.0001, batch_size='auto', beta_1=0.9,\n",
       "             beta_2=0.999, early_stopping=False, epsilon=1e-08,\n",
       "             hidden_layer_sizes=(16, 10, 16), learning_rate='constant',\n",
       "             learning_rate_init=0.001, max_fun=15000, max_iter=200,\n",
       "             momentum=0.9, n_iter_no_change=10, nesterovs_momentum=True,\n",
       "             power_t=0.5, random_state=0, shuffle=True, solver='adam',\n",
       "             tol=0.0001, validation_fraction=0.1, verbose=False,\n",
       "             warm_start=False)"
      ]
     },
     "execution_count": 12,
     "metadata": {},
     "output_type": "execute_result"
    }
   ],
   "source": [
    "model1.fit(X_train,y_train)\n",
    "model2.fit(X_train,y_train)\n",
    "model3.fit(X_train,y_train)"
   ]
  },
  {
   "cell_type": "code",
   "execution_count": 13,
   "metadata": {},
   "outputs": [],
   "source": [
    "train_pred1=model1.predict(X_train)\n",
    "train_pred2=model2.predict(X_train)\n",
    "train_pred3=model3.predict(X_train)\n",
    "\n",
    "train_pred=(0.5*train_pred1+0.2*train_pred2 +0.3*train_pred3)"
   ]
  },
  {
   "cell_type": "code",
   "execution_count": 14,
   "metadata": {},
   "outputs": [],
   "source": [
    "test_pred1=model1.predict(X_test)\n",
    "test_pred2=model2.predict(X_test)\n",
    "test_pred3=model3.predict(X_test)\n",
    "\n",
    "test_pred=(0.5*test_pred1+0.2*test_pred2+0.3*test_pred3)"
   ]
  },
  {
   "cell_type": "code",
   "execution_count": 15,
   "metadata": {},
   "outputs": [
    {
     "name": "stdout",
     "output_type": "stream",
     "text": [
      "MAPE TRAIN: 52.14375377627849\n",
      "MAPE TEST: 54.582898638395164\n"
     ]
    }
   ],
   "source": [
    "print('MAPE TRAIN:',mean_absolute_percentage_error(y_train,train_pred) )\n",
    "print('MAPE TEST:',mean_absolute_percentage_error(y_test,test_pred) )"
   ]
  },
  {
   "cell_type": "code",
   "execution_count": 16,
   "metadata": {},
   "outputs": [
    {
     "name": "stdout",
     "output_type": "stream",
     "text": [
      "w1: 0.3333333333333333 w2: 0.3333333333333333 w3: 0.3333333333333333\n",
      "MAPE TRAIN: 51.79013694970246\n",
      "MAPE TEST: 60.82252636126029\n",
      "w1: 0.5 w2: 0.2 w3: 0.3\n",
      "MAPE TRAIN: 52.14375377627849\n",
      "MAPE TEST: 58.402047076476805\n",
      "w1: 0.6 w2: 0.2 w3: 0.2\n",
      "MAPE TRAIN: 46.741856954209005\n",
      "MAPE TEST: 53.15105940151178\n",
      "w1: 0.7 w2: 0.1 w3: 0.2\n",
      "MAPE TRAIN: 48.64774004757334\n",
      "MAPE TEST: 50.924145851743\n",
      "w1: 0.8 w2: 0.1 w3: 0.1\n",
      "MAPE TRAIN: 43.891008667626906\n",
      "MAPE TEST: 46.62539154505232\n",
      "w1: 0.9 w2: 0.05 w3: 0.05\n",
      "MAPE TRAIN: 42.87480848729827\n",
      "MAPE TEST: 44.29546582759422\n"
     ]
    }
   ],
   "source": [
    "n = 1/3\n",
    "w1=[n,0.5,0.6,0.7,0.8,0.9]\n",
    "w2=[n,0.2,0.2,0.1,0.1,0.05]\n",
    "w3=[n,0.3,0.2,0.2,0.1,0.05]\n",
    "for i in range(6):\n",
    "    train_pred=(w1[i]*train_pred1+w2[i]*train_pred2+w3[i]*train_pred3)\n",
    "    test_pred=(w1[i]*test_pred1+w2[i]*test_pred+w3[i]*test_pred3)\n",
    "    print('w1:',w1[i],'w2:',w2[i],'w3:',w3[i])\n",
    "    print('MAPE TRAIN:',mean_absolute_percentage_error(y_train,train_pred) )\n",
    "    print('MAPE TEST:',mean_absolute_percentage_error(y_test,test_pred) )\n"
   ]
  },
  {
   "cell_type": "markdown",
   "metadata": {},
   "source": [
    "# Voting Ensemble"
   ]
  },
  {
   "cell_type": "code",
   "execution_count": 17,
   "metadata": {},
   "outputs": [],
   "source": [
    "model= VotingRegressor([('svr', model1), ('xgboost', model2),('MLP',model3)])"
   ]
  },
  {
   "cell_type": "code",
   "execution_count": 18,
   "metadata": {},
   "outputs": [
    {
     "name": "stdout",
     "output_type": "stream",
     "text": [
      "[20:28:09] WARNING: /private/var/folders/fq/5gbmc25910vcch4dpn7ww91w0000gn/T/pip-install-gx4cqwyo/xgboost/xgboost/src/objective/regression_obj.cu:167: reg:linear is now deprecated in favor of reg:squarederror.\n"
     ]
    },
    {
     "name": "stderr",
     "output_type": "stream",
     "text": [
      "/Applications/anaconda3/lib/python3.7/site-packages/sklearn/neural_network/_multilayer_perceptron.py:571: ConvergenceWarning: Stochastic Optimizer: Maximum iterations (200) reached and the optimization hasn't converged yet.\n",
      "  % self.max_iter, ConvergenceWarning)\n"
     ]
    },
    {
     "data": {
      "text/plain": [
       "VotingRegressor(estimators=[('svr',\n",
       "                             SVR(C=1.5, cache_size=200, coef0=0.0, degree=3,\n",
       "                                 epsilon=0.1, gamma='scale', kernel='poly',\n",
       "                                 max_iter=-1, shrinking=True, tol=0.001,\n",
       "                                 verbose=False)),\n",
       "                            ('xgboost',\n",
       "                             XGBRegressor(base_score=0.5, booster='gbtree',\n",
       "                                          colsample_bylevel=1,\n",
       "                                          colsample_bynode=1,\n",
       "                                          colsample_bytree=1, gamma=0,\n",
       "                                          gpu_id=-1, importance_type='gain',\n",
       "                                          interaction_constraints...\n",
       "                                          beta_2=0.999, early_stopping=False,\n",
       "                                          epsilon=1e-08,\n",
       "                                          hidden_layer_sizes=(16, 10, 16),\n",
       "                                          learning_rate='constant',\n",
       "                                          learning_rate_init=0.001,\n",
       "                                          max_fun=15000, max_iter=200,\n",
       "                                          momentum=0.9, n_iter_no_change=10,\n",
       "                                          nesterovs_momentum=True, power_t=0.5,\n",
       "                                          random_state=0, shuffle=True,\n",
       "                                          solver='adam', tol=0.0001,\n",
       "                                          validation_fraction=0.1,\n",
       "                                          verbose=False, warm_start=False))],\n",
       "                n_jobs=None, weights=None)"
      ]
     },
     "execution_count": 18,
     "metadata": {},
     "output_type": "execute_result"
    }
   ],
   "source": [
    "model.fit(X_train,y_train)"
   ]
  },
  {
   "cell_type": "code",
   "execution_count": 19,
   "metadata": {},
   "outputs": [],
   "source": [
    "pred_train=model.predict(X_train)\n",
    "pred_test=model.predict(X_test)"
   ]
  },
  {
   "cell_type": "code",
   "execution_count": 20,
   "metadata": {},
   "outputs": [
    {
     "name": "stdout",
     "output_type": "stream",
     "text": [
      "MAPE TRAIN: 51.79013651607525\n",
      "MAPE TEST: 57.218005988298195\n"
     ]
    }
   ],
   "source": [
    "print('MAPE TRAIN:',mean_absolute_percentage_error(y_train,pred_train) )\n",
    "print('MAPE TEST:',mean_absolute_percentage_error(y_test,pred_test) )"
   ]
  },
  {
   "cell_type": "markdown",
   "metadata": {},
   "source": [
    "# Voting Ensemble 2"
   ]
  },
  {
   "cell_type": "code",
   "execution_count": 21,
   "metadata": {},
   "outputs": [],
   "source": [
    "model= VotingRegressor([('svr', model1),('MLP',model3)])"
   ]
  },
  {
   "cell_type": "code",
   "execution_count": 22,
   "metadata": {},
   "outputs": [
    {
     "name": "stderr",
     "output_type": "stream",
     "text": [
      "/Applications/anaconda3/lib/python3.7/site-packages/sklearn/neural_network/_multilayer_perceptron.py:571: ConvergenceWarning: Stochastic Optimizer: Maximum iterations (200) reached and the optimization hasn't converged yet.\n",
      "  % self.max_iter, ConvergenceWarning)\n"
     ]
    },
    {
     "data": {
      "text/plain": [
       "VotingRegressor(estimators=[('svr',\n",
       "                             SVR(C=1.5, cache_size=200, coef0=0.0, degree=3,\n",
       "                                 epsilon=0.1, gamma='scale', kernel='poly',\n",
       "                                 max_iter=-1, shrinking=True, tol=0.001,\n",
       "                                 verbose=False)),\n",
       "                            ('MLP',\n",
       "                             MLPRegressor(activation='tanh', alpha=0.0001,\n",
       "                                          batch_size='auto', beta_1=0.9,\n",
       "                                          beta_2=0.999, early_stopping=False,\n",
       "                                          epsilon=1e-08,\n",
       "                                          hidden_layer_sizes=(16, 10, 16),\n",
       "                                          learning_rate='constant',\n",
       "                                          learning_rate_init=0.001,\n",
       "                                          max_fun=15000, max_iter=200,\n",
       "                                          momentum=0.9, n_iter_no_change=10,\n",
       "                                          nesterovs_momentum=True, power_t=0.5,\n",
       "                                          random_state=0, shuffle=True,\n",
       "                                          solver='adam', tol=0.0001,\n",
       "                                          validation_fraction=0.1,\n",
       "                                          verbose=False, warm_start=False))],\n",
       "                n_jobs=None, weights=None)"
      ]
     },
     "execution_count": 22,
     "metadata": {},
     "output_type": "execute_result"
    }
   ],
   "source": [
    "model.fit(X_train,y_train)"
   ]
  },
  {
   "cell_type": "code",
   "execution_count": 23,
   "metadata": {},
   "outputs": [],
   "source": [
    "pred_train=model.predict(X_train)\n",
    "pred_test=model.predict(X_test)"
   ]
  },
  {
   "cell_type": "code",
   "execution_count": 24,
   "metadata": {},
   "outputs": [
    {
     "name": "stdout",
     "output_type": "stream",
     "text": [
      "MAPE TRAIN: 67.61919430821155\n",
      "MAPE TEST: 64.30532788155192\n"
     ]
    }
   ],
   "source": [
    "print('MAPE TRAIN:',mean_absolute_percentage_error(y_train,pred_train) )\n",
    "print('MAPE TEST:',mean_absolute_percentage_error(y_test,pred_test) )"
   ]
  },
  {
   "cell_type": "markdown",
   "metadata": {},
   "source": [
    "# Bagging Regressor with SVR"
   ]
  },
  {
   "cell_type": "code",
   "execution_count": 25,
   "metadata": {},
   "outputs": [],
   "source": [
    "regr = BaggingRegressor(base_estimator=SVR(),\n",
    "                       n_estimators=10, random_state=0).fit(X_train, y_train)"
   ]
  },
  {
   "cell_type": "code",
   "execution_count": 26,
   "metadata": {},
   "outputs": [],
   "source": [
    "pred_train=regr.predict(X_train)\n",
    "pred_test=regr.predict(X_test)"
   ]
  },
  {
   "cell_type": "code",
   "execution_count": 27,
   "metadata": {},
   "outputs": [
    {
     "name": "stdout",
     "output_type": "stream",
     "text": [
      "MAPE TRAIN: 42.72519242518326\n",
      "MAPE TEST: 42.5609989184344\n"
     ]
    }
   ],
   "source": [
    "print('MAPE TRAIN:',mean_absolute_percentage_error(y_train,pred_train) )\n",
    "print('MAPE TEST:',mean_absolute_percentage_error(y_test,pred_test) )"
   ]
  },
  {
   "cell_type": "code",
   "execution_count": 28,
   "metadata": {},
   "outputs": [
    {
     "name": "stdout",
     "output_type": "stream",
     "text": [
      "Fitting 5 folds for each of 3 candidates, totalling 15 fits\n",
      "[CV] n_estimators=5 ..................................................\n"
     ]
    },
    {
     "name": "stderr",
     "output_type": "stream",
     "text": [
      "[Parallel(n_jobs=1)]: Using backend SequentialBackend with 1 concurrent workers.\n"
     ]
    },
    {
     "name": "stdout",
     "output_type": "stream",
     "text": [
      "[CV] ................................... n_estimators=5, total=  22.6s\n",
      "[CV] n_estimators=5 ..................................................\n"
     ]
    },
    {
     "name": "stderr",
     "output_type": "stream",
     "text": [
      "[Parallel(n_jobs=1)]: Done   1 out of   1 | elapsed:   22.6s remaining:    0.0s\n"
     ]
    },
    {
     "name": "stdout",
     "output_type": "stream",
     "text": [
      "[CV] ................................... n_estimators=5, total=  22.4s\n",
      "[CV] n_estimators=5 ..................................................\n",
      "[CV] ................................... n_estimators=5, total=  21.6s\n",
      "[CV] n_estimators=5 ..................................................\n",
      "[CV] ................................... n_estimators=5, total=  21.5s\n",
      "[CV] n_estimators=5 ..................................................\n",
      "[CV] ................................... n_estimators=5, total=  21.6s\n",
      "[CV] n_estimators=10 .................................................\n",
      "[CV] .................................. n_estimators=10, total=  44.9s\n",
      "[CV] n_estimators=10 .................................................\n",
      "[CV] .................................. n_estimators=10, total=  44.1s\n",
      "[CV] n_estimators=10 .................................................\n",
      "[CV] .................................. n_estimators=10, total=  43.0s\n",
      "[CV] n_estimators=10 .................................................\n",
      "[CV] .................................. n_estimators=10, total=  43.2s\n",
      "[CV] n_estimators=10 .................................................\n",
      "[CV] .................................. n_estimators=10, total=  42.9s\n",
      "[CV] n_estimators=15 .................................................\n",
      "[CV] .................................. n_estimators=15, total= 1.1min\n",
      "[CV] n_estimators=15 .................................................\n",
      "[CV] .................................. n_estimators=15, total= 1.1min\n",
      "[CV] n_estimators=15 .................................................\n",
      "[CV] .................................. n_estimators=15, total= 1.1min\n",
      "[CV] n_estimators=15 .................................................\n",
      "[CV] .................................. n_estimators=15, total= 1.1min\n",
      "[CV] n_estimators=15 .................................................\n",
      "[CV] .................................. n_estimators=15, total= 1.1min\n"
     ]
    },
    {
     "name": "stderr",
     "output_type": "stream",
     "text": [
      "[Parallel(n_jobs=1)]: Done  15 out of  15 | elapsed: 10.9min finished\n"
     ]
    },
    {
     "data": {
      "text/plain": [
       "GridSearchCV(cv=None, error_score=nan,\n",
       "             estimator=BaggingRegressor(base_estimator=SVR(C=1.0,\n",
       "                                                           cache_size=200,\n",
       "                                                           coef0=0.0, degree=3,\n",
       "                                                           epsilon=0.1,\n",
       "                                                           gamma='scale',\n",
       "                                                           kernel='rbf',\n",
       "                                                           max_iter=-1,\n",
       "                                                           shrinking=True,\n",
       "                                                           tol=0.001,\n",
       "                                                           verbose=False),\n",
       "                                        bootstrap=True,\n",
       "                                        bootstrap_features=False,\n",
       "                                        max_features=1.0, max_samples=1.0,\n",
       "                                        n_estimators=10, n_jobs=None,\n",
       "                                        oob_score=False, random_state=None,\n",
       "                                        verbose=0, warm_start=False),\n",
       "             iid='deprecated', n_jobs=None,\n",
       "             param_grid={'n_estimators': [5, 10, 15]}, pre_dispatch='2*n_jobs',\n",
       "             refit=True, return_train_score=False, scoring=None, verbose=2)"
      ]
     },
     "execution_count": 28,
     "metadata": {},
     "output_type": "execute_result"
    }
   ],
   "source": [
    "from sklearn.model_selection import GridSearchCV\n",
    "param_grid = {'n_estimators': [5,10,15]}\n",
    "grid = GridSearchCV(BaggingRegressor(base_estimator=SVR()),param_grid,refit=True,verbose=2)\n",
    "grid.fit(X_train,y_train)"
   ]
  },
  {
   "cell_type": "code",
   "execution_count": 29,
   "metadata": {},
   "outputs": [
    {
     "name": "stdout",
     "output_type": "stream",
     "text": [
      "BaggingRegressor(base_estimator=SVR(C=1.0, cache_size=200, coef0=0.0, degree=3,\n",
      "                                    epsilon=0.1, gamma='scale', kernel='rbf',\n",
      "                                    max_iter=-1, shrinking=True, tol=0.001,\n",
      "                                    verbose=False),\n",
      "                 bootstrap=True, bootstrap_features=False, max_features=1.0,\n",
      "                 max_samples=1.0, n_estimators=5, n_jobs=None, oob_score=False,\n",
      "                 random_state=None, verbose=0, warm_start=False)\n"
     ]
    }
   ],
   "source": [
    "print(grid.best_estimator_)"
   ]
  },
  {
   "cell_type": "code",
   "execution_count": 30,
   "metadata": {},
   "outputs": [],
   "source": [
    "train_pred= grid.predict(X_train)\n",
    "test_pred= grid.predict(X_test)"
   ]
  },
  {
   "cell_type": "code",
   "execution_count": 31,
   "metadata": {},
   "outputs": [
    {
     "name": "stdout",
     "output_type": "stream",
     "text": [
      "MAPE TRAIN: 42.53759926665413\n",
      "MAPE TEST: 42.40352419427205\n"
     ]
    }
   ],
   "source": [
    "print('MAPE TRAIN:',mean_absolute_percentage_error(y_train,train_pred) )\n",
    "print('MAPE TEST:',mean_absolute_percentage_error(y_test,test_pred) )"
   ]
  },
  {
   "cell_type": "markdown",
   "metadata": {},
   "source": [
    "# Bagging Regressor with Decision Tree"
   ]
  },
  {
   "cell_type": "code",
   "execution_count": 32,
   "metadata": {},
   "outputs": [],
   "source": [
    "regr2 = BaggingRegressor(n_estimators=10, random_state=0).fit(X_train, y_train)"
   ]
  },
  {
   "cell_type": "code",
   "execution_count": 33,
   "metadata": {},
   "outputs": [],
   "source": [
    "pred_train=regr2.predict(X_train)\n",
    "pred_test=regr2.predict(X_test)"
   ]
  },
  {
   "cell_type": "code",
   "execution_count": 34,
   "metadata": {},
   "outputs": [
    {
     "name": "stdout",
     "output_type": "stream",
     "text": [
      "MAPE TRAIN: 30.71912425399927\n",
      "MAPE TEST: 79.49654559667067\n"
     ]
    }
   ],
   "source": [
    "print('MAPE TRAIN:',mean_absolute_percentage_error(y_train,pred_train) )\n",
    "print('MAPE TEST:',mean_absolute_percentage_error(y_test,pred_test) )"
   ]
  },
  {
   "cell_type": "markdown",
   "metadata": {},
   "source": [
    "# Stacking"
   ]
  },
  {
   "cell_type": "code",
   "execution_count": 35,
   "metadata": {},
   "outputs": [],
   "source": [
    "tregr = StackingRegressor(regressors=[model2, model3],meta_regressor=model1)"
   ]
  },
  {
   "cell_type": "code",
   "execution_count": 36,
   "metadata": {},
   "outputs": [
    {
     "name": "stdout",
     "output_type": "stream",
     "text": [
      "[20:43:17] WARNING: /private/var/folders/fq/5gbmc25910vcch4dpn7ww91w0000gn/T/pip-install-gx4cqwyo/xgboost/xgboost/src/objective/regression_obj.cu:167: reg:linear is now deprecated in favor of reg:squarederror.\n"
     ]
    },
    {
     "name": "stderr",
     "output_type": "stream",
     "text": [
      "/Applications/anaconda3/lib/python3.7/site-packages/sklearn/neural_network/_multilayer_perceptron.py:571: ConvergenceWarning: Stochastic Optimizer: Maximum iterations (200) reached and the optimization hasn't converged yet.\n",
      "  % self.max_iter, ConvergenceWarning)\n"
     ]
    },
    {
     "data": {
      "text/plain": [
       "StackingRegressor(meta_regressor=SVR(C=1.5, cache_size=200, coef0=0.0, degree=3,\n",
       "                                     epsilon=0.1, gamma='scale', kernel='poly',\n",
       "                                     max_iter=-1, shrinking=True, tol=0.001,\n",
       "                                     verbose=False),\n",
       "                  refit=True,\n",
       "                  regressors=[XGBRegressor(base_score=0.5, booster='gbtree',\n",
       "                                           colsample_bylevel=1,\n",
       "                                           colsample_bynode=1,\n",
       "                                           colsample_bytree=1, gamma=0,\n",
       "                                           gpu_id=-1, importance_type='gain',\n",
       "                                           interaction_co...\n",
       "                                           hidden_layer_sizes=(16, 10, 16),\n",
       "                                           learning_rate='constant',\n",
       "                                           learning_rate_init=0.001,\n",
       "                                           max_fun=15000, max_iter=200,\n",
       "                                           momentum=0.9, n_iter_no_change=10,\n",
       "                                           nesterovs_momentum=True, power_t=0.5,\n",
       "                                           random_state=0, shuffle=True,\n",
       "                                           solver='adam', tol=0.0001,\n",
       "                                           validation_fraction=0.1,\n",
       "                                           verbose=False, warm_start=False)],\n",
       "                  store_train_meta_features=False,\n",
       "                  use_features_in_secondary=False, verbose=0)"
      ]
     },
     "execution_count": 36,
     "metadata": {},
     "output_type": "execute_result"
    }
   ],
   "source": [
    "tregr.fit(X_train,y_train)"
   ]
  },
  {
   "cell_type": "code",
   "execution_count": 37,
   "metadata": {},
   "outputs": [],
   "source": [
    "pred_train=tregr.predict(X_train)\n",
    "pred_test=tregr.predict(X_test)"
   ]
  },
  {
   "cell_type": "code",
   "execution_count": 38,
   "metadata": {},
   "outputs": [
    {
     "name": "stdout",
     "output_type": "stream",
     "text": [
      "MAPE TRAIN: 50.69088452266547\n",
      "MAPE TEST: 61.43351844504134\n"
     ]
    }
   ],
   "source": [
    "print('MAPE TRAIN:',mean_absolute_percentage_error(y_train,pred_train) )\n",
    "print('MAPE TEST:',mean_absolute_percentage_error(y_test,pred_test) )"
   ]
  },
  {
   "cell_type": "markdown",
   "metadata": {},
   "source": [
    "Camila Barbagallo, Ryan Daher, Paula García, Rocío González Lantero"
   ]
  }
 ],
 "metadata": {
  "kernelspec": {
   "display_name": "Python 3",
   "language": "python",
   "name": "python3"
  },
  "language_info": {
   "codemirror_mode": {
    "name": "ipython",
    "version": 3
   },
   "file_extension": ".py",
   "mimetype": "text/x-python",
   "name": "python",
   "nbconvert_exporter": "python",
   "pygments_lexer": "ipython3",
   "version": "3.7.6"
  }
 },
 "nbformat": 4,
 "nbformat_minor": 4
}
