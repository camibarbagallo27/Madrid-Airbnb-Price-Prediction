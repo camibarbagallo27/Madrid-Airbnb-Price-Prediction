{
 "cells": [
  {
   "cell_type": "code",
   "execution_count": 16,
   "metadata": {
    "colab": {},
    "colab_type": "code",
    "id": "Muzp1ilbqzQQ"
   },
   "outputs": [],
   "source": [
    "import pandas as pd\n",
    "import numpy as np\n",
    "from sklearn.model_selection import train_test_split\n",
    "from sklearn.preprocessing import StandardScaler\n",
    "from sklearn.preprocessing import MinMaxScaler\n",
    "from sklearn.svm import SVR\n",
    "from sklearn.model_selection import GridSearchCV"
   ]
  },
  {
   "cell_type": "code",
   "execution_count": 2,
   "metadata": {
    "colab": {},
    "colab_type": "code",
    "id": "4cpth3vOqzQb"
   },
   "outputs": [],
   "source": [
    "df= pd.read_csv('./CSVs/Modelling.csv')"
   ]
  },
  {
   "cell_type": "code",
   "execution_count": 3,
   "metadata": {
    "colab": {},
    "colab_type": "code",
    "id": "GPPBSjAaqzQi"
   },
   "outputs": [],
   "source": [
    "pd.set_option('display.max_columns', None)\n",
    "pd.set_option(\"display.max_rows\",None)"
   ]
  },
  {
   "cell_type": "code",
   "execution_count": 4,
   "metadata": {
    "colab": {},
    "colab_type": "code",
    "id": "_0-FQ2JjqzQs",
    "outputId": "40690e3b-4c69-43b5-d778-afceed903f46"
   },
   "outputs": [
    {
     "data": {
      "text/html": [
       "<div>\n",
       "<style scoped>\n",
       "    .dataframe tbody tr th:only-of-type {\n",
       "        vertical-align: middle;\n",
       "    }\n",
       "\n",
       "    .dataframe tbody tr th {\n",
       "        vertical-align: top;\n",
       "    }\n",
       "\n",
       "    .dataframe thead th {\n",
       "        text-align: right;\n",
       "    }\n",
       "</style>\n",
       "<table border=\"1\" class=\"dataframe\">\n",
       "  <thead>\n",
       "    <tr style=\"text-align: right;\">\n",
       "      <th></th>\n",
       "      <th>maximum_nights</th>\n",
       "      <th>extra_people</th>\n",
       "      <th>guests_included</th>\n",
       "      <th>beds</th>\n",
       "      <th>availability_365</th>\n",
       "      <th>accommodates</th>\n",
       "      <th>bedrooms</th>\n",
       "      <th>host_listings_count</th>\n",
       "      <th>host_for</th>\n",
       "      <th>number_of_reviews_ltm</th>\n",
       "      <th>minimum_nights</th>\n",
       "      <th>bathrooms</th>\n",
       "      <th>secure</th>\n",
       "      <th>cleaning_fee</th>\n",
       "      <th>room_type_private_room</th>\n",
       "      <th>host_acceptance_rate</th>\n",
       "      <th>elevator</th>\n",
       "      <th>white_goods</th>\n",
       "      <th>host_response_rate</th>\n",
       "      <th>security_deposit</th>\n",
       "      <th>government</th>\n",
       "      <th>review_scores_value</th>\n",
       "      <th>area_name_salamanca</th>\n",
       "      <th>area_name_san_blas</th>\n",
       "      <th>price</th>\n",
       "    </tr>\n",
       "  </thead>\n",
       "  <tbody>\n",
       "    <tr>\n",
       "      <th>0</th>\n",
       "      <td>365</td>\n",
       "      <td>15.0</td>\n",
       "      <td>2</td>\n",
       "      <td>0.0</td>\n",
       "      <td>77</td>\n",
       "      <td>2</td>\n",
       "      <td>1.0</td>\n",
       "      <td>1.0</td>\n",
       "      <td>4010</td>\n",
       "      <td>14</td>\n",
       "      <td>1</td>\n",
       "      <td>1.0</td>\n",
       "      <td>0.0</td>\n",
       "      <td>1.0</td>\n",
       "      <td>1</td>\n",
       "      <td>3.0</td>\n",
       "      <td>1.0</td>\n",
       "      <td>1.0</td>\n",
       "      <td>4.0</td>\n",
       "      <td>0.0</td>\n",
       "      <td>1.0</td>\n",
       "      <td>10.0</td>\n",
       "      <td>0</td>\n",
       "      <td>0</td>\n",
       "      <td>70.0</td>\n",
       "    </tr>\n",
       "    <tr>\n",
       "      <th>1</th>\n",
       "      <td>40</td>\n",
       "      <td>8.0</td>\n",
       "      <td>1</td>\n",
       "      <td>1.0</td>\n",
       "      <td>200</td>\n",
       "      <td>1</td>\n",
       "      <td>1.0</td>\n",
       "      <td>2.0</td>\n",
       "      <td>3699</td>\n",
       "      <td>0</td>\n",
       "      <td>4</td>\n",
       "      <td>1.0</td>\n",
       "      <td>0.0</td>\n",
       "      <td>0.0</td>\n",
       "      <td>1</td>\n",
       "      <td>4.0</td>\n",
       "      <td>1.0</td>\n",
       "      <td>1.0</td>\n",
       "      <td>4.0</td>\n",
       "      <td>0.0</td>\n",
       "      <td>1.0</td>\n",
       "      <td>9.0</td>\n",
       "      <td>0</td>\n",
       "      <td>0</td>\n",
       "      <td>17.0</td>\n",
       "    </tr>\n",
       "    <tr>\n",
       "      <th>2</th>\n",
       "      <td>730</td>\n",
       "      <td>10.0</td>\n",
       "      <td>1</td>\n",
       "      <td>5.0</td>\n",
       "      <td>249</td>\n",
       "      <td>6</td>\n",
       "      <td>3.0</td>\n",
       "      <td>9.0</td>\n",
       "      <td>3703</td>\n",
       "      <td>0</td>\n",
       "      <td>15</td>\n",
       "      <td>2.0</td>\n",
       "      <td>0.0</td>\n",
       "      <td>1.0</td>\n",
       "      <td>0</td>\n",
       "      <td>3.0</td>\n",
       "      <td>1.0</td>\n",
       "      <td>1.0</td>\n",
       "      <td>4.0</td>\n",
       "      <td>1.0</td>\n",
       "      <td>1.0</td>\n",
       "      <td>9.0</td>\n",
       "      <td>0</td>\n",
       "      <td>0</td>\n",
       "      <td>50.0</td>\n",
       "    </tr>\n",
       "    <tr>\n",
       "      <th>3</th>\n",
       "      <td>730</td>\n",
       "      <td>10.0</td>\n",
       "      <td>2</td>\n",
       "      <td>1.0</td>\n",
       "      <td>364</td>\n",
       "      <td>3</td>\n",
       "      <td>0.0</td>\n",
       "      <td>1.0</td>\n",
       "      <td>3661</td>\n",
       "      <td>7</td>\n",
       "      <td>4</td>\n",
       "      <td>1.0</td>\n",
       "      <td>0.0</td>\n",
       "      <td>1.0</td>\n",
       "      <td>0</td>\n",
       "      <td>3.0</td>\n",
       "      <td>1.0</td>\n",
       "      <td>1.0</td>\n",
       "      <td>4.0</td>\n",
       "      <td>1.0</td>\n",
       "      <td>1.0</td>\n",
       "      <td>10.0</td>\n",
       "      <td>0</td>\n",
       "      <td>0</td>\n",
       "      <td>89.0</td>\n",
       "    </tr>\n",
       "    <tr>\n",
       "      <th>4</th>\n",
       "      <td>10</td>\n",
       "      <td>0.0</td>\n",
       "      <td>4</td>\n",
       "      <td>3.0</td>\n",
       "      <td>322</td>\n",
       "      <td>4</td>\n",
       "      <td>2.0</td>\n",
       "      <td>1.0</td>\n",
       "      <td>3661</td>\n",
       "      <td>16</td>\n",
       "      <td>3</td>\n",
       "      <td>1.5</td>\n",
       "      <td>0.0</td>\n",
       "      <td>0.0</td>\n",
       "      <td>0</td>\n",
       "      <td>4.0</td>\n",
       "      <td>1.0</td>\n",
       "      <td>1.0</td>\n",
       "      <td>4.0</td>\n",
       "      <td>1.0</td>\n",
       "      <td>0.0</td>\n",
       "      <td>10.0</td>\n",
       "      <td>0</td>\n",
       "      <td>0</td>\n",
       "      <td>115.0</td>\n",
       "    </tr>\n",
       "  </tbody>\n",
       "</table>\n",
       "</div>"
      ],
      "text/plain": [
       "   maximum_nights  extra_people  guests_included  beds  availability_365  \\\n",
       "0             365          15.0                2   0.0                77   \n",
       "1              40           8.0                1   1.0               200   \n",
       "2             730          10.0                1   5.0               249   \n",
       "3             730          10.0                2   1.0               364   \n",
       "4              10           0.0                4   3.0               322   \n",
       "\n",
       "   accommodates  bedrooms  host_listings_count  host_for  \\\n",
       "0             2       1.0                  1.0      4010   \n",
       "1             1       1.0                  2.0      3699   \n",
       "2             6       3.0                  9.0      3703   \n",
       "3             3       0.0                  1.0      3661   \n",
       "4             4       2.0                  1.0      3661   \n",
       "\n",
       "   number_of_reviews_ltm  minimum_nights  bathrooms  secure  cleaning_fee  \\\n",
       "0                     14               1        1.0     0.0           1.0   \n",
       "1                      0               4        1.0     0.0           0.0   \n",
       "2                      0              15        2.0     0.0           1.0   \n",
       "3                      7               4        1.0     0.0           1.0   \n",
       "4                     16               3        1.5     0.0           0.0   \n",
       "\n",
       "   room_type_private_room  host_acceptance_rate  elevator  white_goods  \\\n",
       "0                       1                   3.0       1.0          1.0   \n",
       "1                       1                   4.0       1.0          1.0   \n",
       "2                       0                   3.0       1.0          1.0   \n",
       "3                       0                   3.0       1.0          1.0   \n",
       "4                       0                   4.0       1.0          1.0   \n",
       "\n",
       "   host_response_rate  security_deposit  government  review_scores_value  \\\n",
       "0                 4.0               0.0         1.0                 10.0   \n",
       "1                 4.0               0.0         1.0                  9.0   \n",
       "2                 4.0               1.0         1.0                  9.0   \n",
       "3                 4.0               1.0         1.0                 10.0   \n",
       "4                 4.0               1.0         0.0                 10.0   \n",
       "\n",
       "   area_name_salamanca  area_name_san_blas  price  \n",
       "0                    0                   0   70.0  \n",
       "1                    0                   0   17.0  \n",
       "2                    0                   0   50.0  \n",
       "3                    0                   0   89.0  \n",
       "4                    0                   0  115.0  "
      ]
     },
     "execution_count": 4,
     "metadata": {},
     "output_type": "execute_result"
    }
   ],
   "source": [
    "df.head()"
   ]
  },
  {
   "cell_type": "code",
   "execution_count": 5,
   "metadata": {
    "colab": {},
    "colab_type": "code",
    "id": "dsRU5UF9qzQ7",
    "outputId": "360b6f35-27f8-4dad-a3b7-bb6de2fa09db"
   },
   "outputs": [
    {
     "data": {
      "text/plain": [
       "maximum_nights              int64\n",
       "extra_people              float64\n",
       "guests_included             int64\n",
       "beds                      float64\n",
       "availability_365            int64\n",
       "accommodates                int64\n",
       "bedrooms                  float64\n",
       "host_listings_count       float64\n",
       "host_for                    int64\n",
       "number_of_reviews_ltm       int64\n",
       "minimum_nights              int64\n",
       "bathrooms                 float64\n",
       "secure                    float64\n",
       "cleaning_fee              float64\n",
       "room_type_private_room      int64\n",
       "host_acceptance_rate      float64\n",
       "elevator                  float64\n",
       "white_goods               float64\n",
       "host_response_rate        float64\n",
       "security_deposit          float64\n",
       "government                float64\n",
       "review_scores_value       float64\n",
       "area_name_salamanca         int64\n",
       "area_name_san_blas          int64\n",
       "price                     float64\n",
       "dtype: object"
      ]
     },
     "execution_count": 5,
     "metadata": {},
     "output_type": "execute_result"
    }
   ],
   "source": [
    "df.dtypes"
   ]
  },
  {
   "cell_type": "markdown",
   "metadata": {
    "colab_type": "text",
    "id": "S3HP0hNaqzSt"
   },
   "source": [
    "# Train Test Split"
   ]
  },
  {
   "cell_type": "code",
   "execution_count": 6,
   "metadata": {
    "colab": {},
    "colab_type": "code",
    "id": "Vs5ch0DLqzSv",
    "outputId": "cdc168fa-80dc-4730-ae03-c35a8b6a7acf"
   },
   "outputs": [
    {
     "name": "stdout",
     "output_type": "stream",
     "text": [
      "Dataset shape: (15283, 25)\n",
      "Dataset shape: (6550, 25)\n"
     ]
    }
   ],
   "source": [
    "splitter = train_test_split\n",
    "\"-----------------------\"\n",
    "\n",
    "df_train, df_test = splitter(df, test_size = 0.3, random_state = 42)\n",
    "print(\"Dataset shape: {shape}\".format(shape = df_train.shape))\n",
    "print(\"Dataset shape: {shape}\".format(shape = df_test.shape))"
   ]
  },
  {
   "cell_type": "code",
   "execution_count": 7,
   "metadata": {
    "colab": {},
    "colab_type": "code",
    "id": "0KMOu16PqzS2"
   },
   "outputs": [],
   "source": [
    "target = 'price'\n",
    "\n",
    "X_train= df_train.drop('price',axis=1)\n",
    "y_train = df_train[target]\n",
    "\n",
    "X_test= df_test.drop('price',axis=1)\n",
    "y_test = df_test[target]"
   ]
  },
  {
   "cell_type": "markdown",
   "metadata": {
    "colab_type": "text",
    "id": "us6p1mzPqzTQ"
   },
   "source": [
    "# Standardizing and Scaling"
   ]
  },
  {
   "cell_type": "code",
   "execution_count": 8,
   "metadata": {
    "colab": {},
    "colab_type": "code",
    "id": "uFyr43pVqzTR"
   },
   "outputs": [],
   "source": [
    "scaler_train = StandardScaler()\n",
    "scaler_test = StandardScaler()\n",
    "X_train_sc = scaler_train.fit_transform(X_train)\n",
    "X_test_sc = scaler_test.fit_transform(X_test)\n",
    "X_train = pd.DataFrame(X_train_sc, index=X_train.index, columns=X_train.columns)\n",
    "X_test = pd.DataFrame(X_test_sc, index=X_test.index, columns=X_test.columns)"
   ]
  },
  {
   "cell_type": "code",
   "execution_count": 9,
   "metadata": {
    "colab": {},
    "colab_type": "code",
    "id": "SgIhheEVqzTa"
   },
   "outputs": [],
   "source": [
    "min_scaler_train = MinMaxScaler()\n",
    "min_scaler_test = MinMaxScaler()\n",
    "X_trains = min_scaler_train.fit_transform(X_train_sc)\n",
    "X_tests = min_scaler_test.fit_transform(X_test_sc)\n",
    "X_train = pd.DataFrame(X_trains, index=X_train.index, columns=X_train.columns)\n",
    "X_test = pd.DataFrame(X_tests, index=X_test.index, columns=X_test.columns)"
   ]
  },
  {
   "cell_type": "code",
   "execution_count": 10,
   "metadata": {
    "colab": {},
    "colab_type": "code",
    "id": "KnHWAb6CqzTf",
    "outputId": "c26876e6-0d02-475d-a25d-2b1d75b8ac7f"
   },
   "outputs": [
    {
     "data": {
      "text/html": [
       "<div>\n",
       "<style scoped>\n",
       "    .dataframe tbody tr th:only-of-type {\n",
       "        vertical-align: middle;\n",
       "    }\n",
       "\n",
       "    .dataframe tbody tr th {\n",
       "        vertical-align: top;\n",
       "    }\n",
       "\n",
       "    .dataframe thead th {\n",
       "        text-align: right;\n",
       "    }\n",
       "</style>\n",
       "<table border=\"1\" class=\"dataframe\">\n",
       "  <thead>\n",
       "    <tr style=\"text-align: right;\">\n",
       "      <th></th>\n",
       "      <th>maximum_nights</th>\n",
       "      <th>extra_people</th>\n",
       "      <th>guests_included</th>\n",
       "      <th>beds</th>\n",
       "      <th>availability_365</th>\n",
       "      <th>accommodates</th>\n",
       "      <th>bedrooms</th>\n",
       "      <th>host_listings_count</th>\n",
       "      <th>host_for</th>\n",
       "      <th>number_of_reviews_ltm</th>\n",
       "      <th>minimum_nights</th>\n",
       "      <th>bathrooms</th>\n",
       "      <th>secure</th>\n",
       "      <th>cleaning_fee</th>\n",
       "      <th>room_type_private_room</th>\n",
       "      <th>host_acceptance_rate</th>\n",
       "      <th>elevator</th>\n",
       "      <th>white_goods</th>\n",
       "      <th>host_response_rate</th>\n",
       "      <th>security_deposit</th>\n",
       "      <th>government</th>\n",
       "      <th>review_scores_value</th>\n",
       "      <th>area_name_salamanca</th>\n",
       "      <th>area_name_san_blas</th>\n",
       "    </tr>\n",
       "  </thead>\n",
       "  <tbody>\n",
       "    <tr>\n",
       "      <th>3693</th>\n",
       "      <td>1.011600e-05</td>\n",
       "      <td>0.000000</td>\n",
       "      <td>0.000000</td>\n",
       "      <td>0.02</td>\n",
       "      <td>0.000000</td>\n",
       "      <td>0.052632</td>\n",
       "      <td>0.111111</td>\n",
       "      <td>0.001898</td>\n",
       "      <td>0.331536</td>\n",
       "      <td>0.000000</td>\n",
       "      <td>0.003559</td>\n",
       "      <td>0.090909</td>\n",
       "      <td>0.0</td>\n",
       "      <td>1.0</td>\n",
       "      <td>0.0</td>\n",
       "      <td>1.0</td>\n",
       "      <td>1.0</td>\n",
       "      <td>1.0</td>\n",
       "      <td>1.0</td>\n",
       "      <td>0.0</td>\n",
       "      <td>0.0</td>\n",
       "      <td>0.875</td>\n",
       "      <td>0.0</td>\n",
       "      <td>0.0</td>\n",
       "    </tr>\n",
       "    <tr>\n",
       "      <th>6385</th>\n",
       "      <td>1.011600e-05</td>\n",
       "      <td>0.000000</td>\n",
       "      <td>0.000000</td>\n",
       "      <td>0.02</td>\n",
       "      <td>0.715068</td>\n",
       "      <td>0.000000</td>\n",
       "      <td>0.111111</td>\n",
       "      <td>0.009488</td>\n",
       "      <td>0.478314</td>\n",
       "      <td>0.039877</td>\n",
       "      <td>0.024021</td>\n",
       "      <td>0.090909</td>\n",
       "      <td>0.0</td>\n",
       "      <td>1.0</td>\n",
       "      <td>1.0</td>\n",
       "      <td>1.0</td>\n",
       "      <td>0.0</td>\n",
       "      <td>1.0</td>\n",
       "      <td>1.0</td>\n",
       "      <td>1.0</td>\n",
       "      <td>1.0</td>\n",
       "      <td>0.875</td>\n",
       "      <td>0.0</td>\n",
       "      <td>0.0</td>\n",
       "    </tr>\n",
       "    <tr>\n",
       "      <th>4029</th>\n",
       "      <td>1.260000e-07</td>\n",
       "      <td>0.000000</td>\n",
       "      <td>0.000000</td>\n",
       "      <td>0.04</td>\n",
       "      <td>0.000000</td>\n",
       "      <td>0.157895</td>\n",
       "      <td>0.111111</td>\n",
       "      <td>0.001898</td>\n",
       "      <td>0.635874</td>\n",
       "      <td>0.000000</td>\n",
       "      <td>0.003559</td>\n",
       "      <td>0.090909</td>\n",
       "      <td>1.0</td>\n",
       "      <td>1.0</td>\n",
       "      <td>0.0</td>\n",
       "      <td>1.0</td>\n",
       "      <td>1.0</td>\n",
       "      <td>1.0</td>\n",
       "      <td>1.0</td>\n",
       "      <td>1.0</td>\n",
       "      <td>1.0</td>\n",
       "      <td>0.875</td>\n",
       "      <td>1.0</td>\n",
       "      <td>0.0</td>\n",
       "    </tr>\n",
       "    <tr>\n",
       "      <th>7220</th>\n",
       "      <td>8.010000e-07</td>\n",
       "      <td>0.055762</td>\n",
       "      <td>0.066667</td>\n",
       "      <td>0.04</td>\n",
       "      <td>0.873973</td>\n",
       "      <td>0.263158</td>\n",
       "      <td>0.222222</td>\n",
       "      <td>0.091082</td>\n",
       "      <td>0.520706</td>\n",
       "      <td>0.079755</td>\n",
       "      <td>0.001779</td>\n",
       "      <td>0.090909</td>\n",
       "      <td>0.0</td>\n",
       "      <td>1.0</td>\n",
       "      <td>0.0</td>\n",
       "      <td>1.0</td>\n",
       "      <td>0.0</td>\n",
       "      <td>1.0</td>\n",
       "      <td>1.0</td>\n",
       "      <td>1.0</td>\n",
       "      <td>0.0</td>\n",
       "      <td>1.000</td>\n",
       "      <td>0.0</td>\n",
       "      <td>0.0</td>\n",
       "    </tr>\n",
       "    <tr>\n",
       "      <th>3995</th>\n",
       "      <td>1.800000e-07</td>\n",
       "      <td>0.037175</td>\n",
       "      <td>0.000000</td>\n",
       "      <td>0.02</td>\n",
       "      <td>0.158904</td>\n",
       "      <td>0.052632</td>\n",
       "      <td>0.111111</td>\n",
       "      <td>0.001898</td>\n",
       "      <td>0.323940</td>\n",
       "      <td>0.015337</td>\n",
       "      <td>0.001779</td>\n",
       "      <td>0.090909</td>\n",
       "      <td>0.0</td>\n",
       "      <td>0.0</td>\n",
       "      <td>1.0</td>\n",
       "      <td>1.0</td>\n",
       "      <td>1.0</td>\n",
       "      <td>0.0</td>\n",
       "      <td>1.0</td>\n",
       "      <td>1.0</td>\n",
       "      <td>0.0</td>\n",
       "      <td>0.875</td>\n",
       "      <td>0.0</td>\n",
       "      <td>0.0</td>\n",
       "    </tr>\n",
       "  </tbody>\n",
       "</table>\n",
       "</div>"
      ],
      "text/plain": [
       "      maximum_nights  extra_people  guests_included  beds  availability_365  \\\n",
       "3693    1.011600e-05      0.000000         0.000000  0.02          0.000000   \n",
       "6385    1.011600e-05      0.000000         0.000000  0.02          0.715068   \n",
       "4029    1.260000e-07      0.000000         0.000000  0.04          0.000000   \n",
       "7220    8.010000e-07      0.055762         0.066667  0.04          0.873973   \n",
       "3995    1.800000e-07      0.037175         0.000000  0.02          0.158904   \n",
       "\n",
       "      accommodates  bedrooms  host_listings_count  host_for  \\\n",
       "3693      0.052632  0.111111             0.001898  0.331536   \n",
       "6385      0.000000  0.111111             0.009488  0.478314   \n",
       "4029      0.157895  0.111111             0.001898  0.635874   \n",
       "7220      0.263158  0.222222             0.091082  0.520706   \n",
       "3995      0.052632  0.111111             0.001898  0.323940   \n",
       "\n",
       "      number_of_reviews_ltm  minimum_nights  bathrooms  secure  cleaning_fee  \\\n",
       "3693               0.000000        0.003559   0.090909     0.0           1.0   \n",
       "6385               0.039877        0.024021   0.090909     0.0           1.0   \n",
       "4029               0.000000        0.003559   0.090909     1.0           1.0   \n",
       "7220               0.079755        0.001779   0.090909     0.0           1.0   \n",
       "3995               0.015337        0.001779   0.090909     0.0           0.0   \n",
       "\n",
       "      room_type_private_room  host_acceptance_rate  elevator  white_goods  \\\n",
       "3693                     0.0                   1.0       1.0          1.0   \n",
       "6385                     1.0                   1.0       0.0          1.0   \n",
       "4029                     0.0                   1.0       1.0          1.0   \n",
       "7220                     0.0                   1.0       0.0          1.0   \n",
       "3995                     1.0                   1.0       1.0          0.0   \n",
       "\n",
       "      host_response_rate  security_deposit  government  review_scores_value  \\\n",
       "3693                 1.0               0.0         0.0                0.875   \n",
       "6385                 1.0               1.0         1.0                0.875   \n",
       "4029                 1.0               1.0         1.0                0.875   \n",
       "7220                 1.0               1.0         0.0                1.000   \n",
       "3995                 1.0               1.0         0.0                0.875   \n",
       "\n",
       "      area_name_salamanca  area_name_san_blas  \n",
       "3693                  0.0                 0.0  \n",
       "6385                  0.0                 0.0  \n",
       "4029                  1.0                 0.0  \n",
       "7220                  0.0                 0.0  \n",
       "3995                  0.0                 0.0  "
      ]
     },
     "execution_count": 10,
     "metadata": {},
     "output_type": "execute_result"
    }
   ],
   "source": [
    "X_train.head()"
   ]
  },
  {
   "cell_type": "markdown",
   "metadata": {
    "colab_type": "text",
    "id": "5FB_CaqDqzTm"
   },
   "source": [
    "10 components"
   ]
  },
  {
   "cell_type": "markdown",
   "metadata": {
    "colab_type": "text",
    "id": "ViYvczsYqzVA"
   },
   "source": [
    "# SVR"
   ]
  },
  {
   "cell_type": "code",
   "execution_count": 11,
   "metadata": {
    "colab": {},
    "colab_type": "code",
    "id": "HM4_FPRmqzVE",
    "outputId": "cdf57619-191b-4fec-eb9d-5270976628f7"
   },
   "outputs": [
    {
     "data": {
      "text/plain": [
       "SVR(C=1.0, cache_size=200, coef0=0.0, degree=3, epsilon=0.1, gamma='scale',\n",
       "    kernel='rbf', max_iter=-1, shrinking=True, tol=0.001, verbose=False)"
      ]
     },
     "execution_count": 11,
     "metadata": {},
     "output_type": "execute_result"
    }
   ],
   "source": [
    "clf = SVR()\n",
    "clf.fit(X_train, y_train)"
   ]
  },
  {
   "cell_type": "code",
   "execution_count": 12,
   "metadata": {
    "colab": {},
    "colab_type": "code",
    "id": "jWJkmMneqzVK"
   },
   "outputs": [],
   "source": [
    "pred_train = clf.predict(X_train)\n",
    "pred_test = clf.predict(X_test)"
   ]
  },
  {
   "cell_type": "code",
   "execution_count": 17,
   "metadata": {},
   "outputs": [],
   "source": [
    "def mean_absolute_percentage_error(y_true,y_pred):\n",
    "    y_true = np.array(y_true)\n",
    "    y_pred = np.array(y_pred)\n",
    "    return (np.sum(np.abs(y_true-y_pred)/y_true)/len(y_true))*100"
   ]
  },
  {
   "cell_type": "code",
   "execution_count": 18,
   "metadata": {
    "colab": {},
    "colab_type": "code",
    "id": "BNow5ElgqzVP",
    "outputId": "5fa4d70e-f496-4a95-c860-5cdd7272e76a"
   },
   "outputs": [
    {
     "name": "stdout",
     "output_type": "stream",
     "text": [
      "MAPE TRAIN: 42.67382108987092\n",
      "MAPE TEST: 42.50242216548482\n"
     ]
    }
   ],
   "source": [
    "print('MAPE TRAIN:',mean_absolute_percentage_error(y_train,pred_train) )\n",
    "print('MAPE TEST:',mean_absolute_percentage_error(y_test,pred_test) )"
   ]
  },
  {
   "cell_type": "markdown",
   "metadata": {
    "colab_type": "text",
    "id": "779eyEW9qzVX"
   },
   "source": [
    "# Fine Tuning"
   ]
  },
  {
   "cell_type": "code",
   "execution_count": 19,
   "metadata": {
    "colab": {},
    "colab_type": "code",
    "id": "l_-gXdAbqzVX",
    "outputId": "09551999-5607-47c9-86e2-5e3c79ac1e63"
   },
   "outputs": [
    {
     "name": "stdout",
     "output_type": "stream",
     "text": [
      "Fitting 5 folds for each of 9 candidates, totalling 45 fits\n",
      "[CV] C=0.5, kernel=rbf ...............................................\n"
     ]
    },
    {
     "name": "stderr",
     "output_type": "stream",
     "text": [
      "[Parallel(n_jobs=1)]: Using backend SequentialBackend with 1 concurrent workers.\n"
     ]
    },
    {
     "name": "stdout",
     "output_type": "stream",
     "text": [
      "[CV] ................................ C=0.5, kernel=rbf, total=  10.5s\n",
      "[CV] C=0.5, kernel=rbf ...............................................\n"
     ]
    },
    {
     "name": "stderr",
     "output_type": "stream",
     "text": [
      "[Parallel(n_jobs=1)]: Done   1 out of   1 | elapsed:   10.5s remaining:    0.0s\n"
     ]
    },
    {
     "name": "stdout",
     "output_type": "stream",
     "text": [
      "[CV] ................................ C=0.5, kernel=rbf, total=  10.5s\n",
      "[CV] C=0.5, kernel=rbf ...............................................\n",
      "[CV] ................................ C=0.5, kernel=rbf, total=  10.4s\n",
      "[CV] C=0.5, kernel=rbf ...............................................\n",
      "[CV] ................................ C=0.5, kernel=rbf, total=  10.6s\n",
      "[CV] C=0.5, kernel=rbf ...............................................\n",
      "[CV] ................................ C=0.5, kernel=rbf, total=  10.2s\n",
      "[CV] C=0.5, kernel=poly ..............................................\n",
      "[CV] ............................... C=0.5, kernel=poly, total=   9.3s\n",
      "[CV] C=0.5, kernel=poly ..............................................\n",
      "[CV] ............................... C=0.5, kernel=poly, total=   8.0s\n",
      "[CV] C=0.5, kernel=poly ..............................................\n",
      "[CV] ............................... C=0.5, kernel=poly, total=   8.0s\n",
      "[CV] C=0.5, kernel=poly ..............................................\n",
      "[CV] ............................... C=0.5, kernel=poly, total=   8.1s\n",
      "[CV] C=0.5, kernel=poly ..............................................\n",
      "[CV] ............................... C=0.5, kernel=poly, total=   8.1s\n",
      "[CV] C=0.5, kernel=sigmoid ...........................................\n",
      "[CV] ............................ C=0.5, kernel=sigmoid, total=  13.0s\n",
      "[CV] C=0.5, kernel=sigmoid ...........................................\n",
      "[CV] ............................ C=0.5, kernel=sigmoid, total=  14.2s\n",
      "[CV] C=0.5, kernel=sigmoid ...........................................\n",
      "[CV] ............................ C=0.5, kernel=sigmoid, total=  13.5s\n",
      "[CV] C=0.5, kernel=sigmoid ...........................................\n",
      "[CV] ............................ C=0.5, kernel=sigmoid, total=  12.6s\n",
      "[CV] C=0.5, kernel=sigmoid ...........................................\n",
      "[CV] ............................ C=0.5, kernel=sigmoid, total=  12.2s\n",
      "[CV] C=1, kernel=rbf .................................................\n",
      "[CV] .................................. C=1, kernel=rbf, total=  10.0s\n",
      "[CV] C=1, kernel=rbf .................................................\n",
      "[CV] .................................. C=1, kernel=rbf, total=   9.9s\n",
      "[CV] C=1, kernel=rbf .................................................\n",
      "[CV] .................................. C=1, kernel=rbf, total=  10.4s\n",
      "[CV] C=1, kernel=rbf .................................................\n",
      "[CV] .................................. C=1, kernel=rbf, total=  10.3s\n",
      "[CV] C=1, kernel=rbf .................................................\n",
      "[CV] .................................. C=1, kernel=rbf, total=  10.2s\n",
      "[CV] C=1, kernel=poly ................................................\n",
      "[CV] ................................. C=1, kernel=poly, total=   7.9s\n",
      "[CV] C=1, kernel=poly ................................................\n",
      "[CV] ................................. C=1, kernel=poly, total=  17.5s\n",
      "[CV] C=1, kernel=poly ................................................\n",
      "[CV] ................................. C=1, kernel=poly, total=   8.0s\n",
      "[CV] C=1, kernel=poly ................................................\n",
      "[CV] ................................. C=1, kernel=poly, total=   8.9s\n",
      "[CV] C=1, kernel=poly ................................................\n",
      "[CV] ................................. C=1, kernel=poly, total=   8.6s\n",
      "[CV] C=1, kernel=sigmoid .............................................\n",
      "[CV] .............................. C=1, kernel=sigmoid, total=  13.8s\n",
      "[CV] C=1, kernel=sigmoid .............................................\n",
      "[CV] .............................. C=1, kernel=sigmoid, total=  14.4s\n",
      "[CV] C=1, kernel=sigmoid .............................................\n",
      "[CV] .............................. C=1, kernel=sigmoid, total=  13.2s\n",
      "[CV] C=1, kernel=sigmoid .............................................\n",
      "[CV] .............................. C=1, kernel=sigmoid, total=  13.2s\n",
      "[CV] C=1, kernel=sigmoid .............................................\n",
      "[CV] .............................. C=1, kernel=sigmoid, total=  13.7s\n",
      "[CV] C=1.5, kernel=rbf ...............................................\n",
      "[CV] ................................ C=1.5, kernel=rbf, total=  12.0s\n",
      "[CV] C=1.5, kernel=rbf ...............................................\n",
      "[CV] ................................ C=1.5, kernel=rbf, total=  10.3s\n",
      "[CV] C=1.5, kernel=rbf ...............................................\n",
      "[CV] ................................ C=1.5, kernel=rbf, total=  10.0s\n",
      "[CV] C=1.5, kernel=rbf ...............................................\n",
      "[CV] ................................ C=1.5, kernel=rbf, total=  10.7s\n",
      "[CV] C=1.5, kernel=rbf ...............................................\n",
      "[CV] ................................ C=1.5, kernel=rbf, total=  10.6s\n",
      "[CV] C=1.5, kernel=poly ..............................................\n",
      "[CV] ............................... C=1.5, kernel=poly, total=   7.7s\n",
      "[CV] C=1.5, kernel=poly ..............................................\n",
      "[CV] ............................... C=1.5, kernel=poly, total=   7.8s\n",
      "[CV] C=1.5, kernel=poly ..............................................\n",
      "[CV] ............................... C=1.5, kernel=poly, total=   8.5s\n",
      "[CV] C=1.5, kernel=poly ..............................................\n",
      "[CV] ............................... C=1.5, kernel=poly, total=   8.1s\n",
      "[CV] C=1.5, kernel=poly ..............................................\n",
      "[CV] ............................... C=1.5, kernel=poly, total=   8.1s\n",
      "[CV] C=1.5, kernel=sigmoid ...........................................\n",
      "[CV] ............................ C=1.5, kernel=sigmoid, total=  14.6s\n",
      "[CV] C=1.5, kernel=sigmoid ...........................................\n",
      "[CV] ............................ C=1.5, kernel=sigmoid, total=  16.1s\n",
      "[CV] C=1.5, kernel=sigmoid ...........................................\n",
      "[CV] ............................ C=1.5, kernel=sigmoid, total=  13.6s\n",
      "[CV] C=1.5, kernel=sigmoid ...........................................\n",
      "[CV] ............................ C=1.5, kernel=sigmoid, total=  21.2s\n",
      "[CV] C=1.5, kernel=sigmoid ...........................................\n",
      "[CV] ............................ C=1.5, kernel=sigmoid, total=  19.4s\n"
     ]
    },
    {
     "name": "stderr",
     "output_type": "stream",
     "text": [
      "[Parallel(n_jobs=1)]: Done  45 out of  45 | elapsed:  8.5min finished\n"
     ]
    },
    {
     "data": {
      "text/plain": [
       "GridSearchCV(cv=None, error_score=nan,\n",
       "             estimator=SVR(C=1.0, cache_size=200, coef0=0.0, degree=3,\n",
       "                           epsilon=0.1, gamma='scale', kernel='rbf',\n",
       "                           max_iter=-1, shrinking=True, tol=0.001,\n",
       "                           verbose=False),\n",
       "             iid='deprecated', n_jobs=None,\n",
       "             param_grid={'C': [0.5, 1, 1.5],\n",
       "                         'kernel': ['rbf', 'poly', 'sigmoid']},\n",
       "             pre_dispatch='2*n_jobs', refit=True, return_train_score=False,\n",
       "             scoring=None, verbose=2)"
      ]
     },
     "execution_count": 19,
     "metadata": {},
     "output_type": "execute_result"
    }
   ],
   "source": [
    "param_grid = {'C': [0.5,1,1.5],'kernel': ['rbf', 'poly', 'sigmoid']}\n",
    "grid = GridSearchCV(SVR(),param_grid,refit=True,verbose=2)\n",
    "grid.fit(X_train,y_train)"
   ]
  },
  {
   "cell_type": "code",
   "execution_count": 20,
   "metadata": {
    "colab": {},
    "colab_type": "code",
    "id": "f-NF5VzXqzVf",
    "outputId": "d3ca2536-699a-4524-cc9f-18ef175c1a40"
   },
   "outputs": [
    {
     "name": "stdout",
     "output_type": "stream",
     "text": [
      "SVR(C=1.5, cache_size=200, coef0=0.0, degree=3, epsilon=0.1, gamma='scale',\n",
      "    kernel='poly', max_iter=-1, shrinking=True, tol=0.001, verbose=False)\n"
     ]
    }
   ],
   "source": [
    "print(grid.best_estimator_)"
   ]
  },
  {
   "cell_type": "code",
   "execution_count": 21,
   "metadata": {
    "colab": {},
    "colab_type": "code",
    "id": "ULesdZcHqzVu"
   },
   "outputs": [],
   "source": [
    "train_pred= grid.predict(X_train)\n",
    "test_pred= grid.predict(X_test)"
   ]
  },
  {
   "cell_type": "code",
   "execution_count": 22,
   "metadata": {
    "colab": {},
    "colab_type": "code",
    "id": "b5tfdU4XqzVz",
    "outputId": "e8d41b1d-0ff5-45d7-a2e5-38568af37fe9"
   },
   "outputs": [
    {
     "name": "stdout",
     "output_type": "stream",
     "text": [
      "MAPE TRAIN: 42.20379258095625\n",
      "MAPE TEST: 42.60881391846855\n"
     ]
    }
   ],
   "source": [
    "print('MAPE TRAIN:',mean_absolute_percentage_error(y_train,train_pred) )\n",
    "print('MAPE TEST:',mean_absolute_percentage_error(y_test,test_pred) )"
   ]
  },
  {
   "cell_type": "markdown",
   "metadata": {
    "colab_type": "text",
    "id": "NS6Q9FtSqzV-"
   },
   "source": [
    "The best model from both of these is the one prior to fine tuning, we will keep those parameters:\n",
    "\n",
    "SVR(C=1.0, cache_size=200, coef0=0.0, degree=3, epsilon=0.1, gamma='scale',\n",
    "    kernel='rbf', max_iter=-1, shrinking=True, tol=0.001, verbose=False)"
   ]
  },
  {
   "cell_type": "markdown",
   "metadata": {
    "colab_type": "text",
    "id": "THWBOuQMqzWF"
   },
   "source": [
    "Camila Barbagallo, Ryan Daher, Paula García, Rocío González Lantero"
   ]
  }
 ],
 "metadata": {
  "colab": {
   "collapsed_sections": [
    "S3HP0hNaqzSt",
    "us6p1mzPqzTQ",
    "ViYvczsYqzVA",
    "779eyEW9qzVX"
   ],
   "name": "SVR.ipynb",
   "provenance": []
  },
  "kernelspec": {
   "display_name": "Python 3",
   "language": "python",
   "name": "python3"
  },
  "language_info": {
   "codemirror_mode": {
    "name": "ipython",
    "version": 3
   },
   "file_extension": ".py",
   "mimetype": "text/x-python",
   "name": "python",
   "nbconvert_exporter": "python",
   "pygments_lexer": "ipython3",
   "version": "3.7.6"
  }
 },
 "nbformat": 4,
 "nbformat_minor": 1
}
