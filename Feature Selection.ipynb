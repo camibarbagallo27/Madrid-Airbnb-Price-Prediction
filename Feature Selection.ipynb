{
 "cells": [
  {
   "cell_type": "code",
   "execution_count": 10,
   "metadata": {},
   "outputs": [],
   "source": [
    "import pandas as pd\n",
    "from sklearn.model_selection import train_test_split\n",
    "from sklearn.preprocessing import StandardScaler\n",
    "from sklearn.preprocessing import MinMaxScaler\n",
    "from sklearn.decomposition import PCA\n",
    "import matplotlib.pyplot as plt\n",
    "import numpy as np\n",
    "from sklearn.feature_selection import RFE\n",
    "import lightgbm as lgb\n",
    "from sklearn.feature_selection import SelectKBest\n",
    "from sklearn.feature_selection import chi2\n",
    "from sklearn.ensemble import ExtraTreesClassifier\n",
    "import matplotlib.pyplot as plt\n",
    "from sklearn.decomposition import LatentDirichletAllocation as LDA"
   ]
  },
  {
   "cell_type": "code",
   "execution_count": 2,
   "metadata": {},
   "outputs": [],
   "source": [
    "df= pd.read_csv('./CSVs/Cleaned_df.csv')"
   ]
  },
  {
   "cell_type": "code",
   "execution_count": 3,
   "metadata": {},
   "outputs": [
    {
     "data": {
      "text/html": [
       "<div>\n",
       "<style scoped>\n",
       "    .dataframe tbody tr th:only-of-type {\n",
       "        vertical-align: middle;\n",
       "    }\n",
       "\n",
       "    .dataframe tbody tr th {\n",
       "        vertical-align: top;\n",
       "    }\n",
       "\n",
       "    .dataframe thead th {\n",
       "        text-align: right;\n",
       "    }\n",
       "</style>\n",
       "<table border=\"1\" class=\"dataframe\">\n",
       "  <thead>\n",
       "    <tr style=\"text-align: right;\">\n",
       "      <th></th>\n",
       "      <th>host_response_rate</th>\n",
       "      <th>host_acceptance_rate</th>\n",
       "      <th>host_is_superhost</th>\n",
       "      <th>host_listings_count</th>\n",
       "      <th>host_has_profile_pic</th>\n",
       "      <th>host_identity_verified</th>\n",
       "      <th>accommodates</th>\n",
       "      <th>bathrooms</th>\n",
       "      <th>bedrooms</th>\n",
       "      <th>beds</th>\n",
       "      <th>...</th>\n",
       "      <th>area_name_san_blas</th>\n",
       "      <th>area_name_san_fernando_de_henares</th>\n",
       "      <th>area_name_tetuan_de_las_victorias</th>\n",
       "      <th>area_name_usera</th>\n",
       "      <th>area_name_vicalvaro</th>\n",
       "      <th>area_name_villa_de_vallecas</th>\n",
       "      <th>area_name_villaverde</th>\n",
       "      <th>host_response_time_within_a_day</th>\n",
       "      <th>host_response_time_within_a_few_hours</th>\n",
       "      <th>host_response_time_within_an_hour</th>\n",
       "    </tr>\n",
       "  </thead>\n",
       "  <tbody>\n",
       "    <tr>\n",
       "      <th>0</th>\n",
       "      <td>4.0</td>\n",
       "      <td>3.0</td>\n",
       "      <td>1</td>\n",
       "      <td>1.0</td>\n",
       "      <td>1</td>\n",
       "      <td>0</td>\n",
       "      <td>2</td>\n",
       "      <td>1.0</td>\n",
       "      <td>1.0</td>\n",
       "      <td>0.0</td>\n",
       "      <td>...</td>\n",
       "      <td>0</td>\n",
       "      <td>0</td>\n",
       "      <td>0</td>\n",
       "      <td>0</td>\n",
       "      <td>0</td>\n",
       "      <td>0</td>\n",
       "      <td>0</td>\n",
       "      <td>0</td>\n",
       "      <td>1</td>\n",
       "      <td>0</td>\n",
       "    </tr>\n",
       "    <tr>\n",
       "      <th>1</th>\n",
       "      <td>4.0</td>\n",
       "      <td>4.0</td>\n",
       "      <td>0</td>\n",
       "      <td>2.0</td>\n",
       "      <td>1</td>\n",
       "      <td>1</td>\n",
       "      <td>1</td>\n",
       "      <td>1.0</td>\n",
       "      <td>1.0</td>\n",
       "      <td>1.0</td>\n",
       "      <td>...</td>\n",
       "      <td>0</td>\n",
       "      <td>0</td>\n",
       "      <td>0</td>\n",
       "      <td>0</td>\n",
       "      <td>0</td>\n",
       "      <td>0</td>\n",
       "      <td>0</td>\n",
       "      <td>0</td>\n",
       "      <td>0</td>\n",
       "      <td>1</td>\n",
       "    </tr>\n",
       "    <tr>\n",
       "      <th>2</th>\n",
       "      <td>4.0</td>\n",
       "      <td>3.0</td>\n",
       "      <td>0</td>\n",
       "      <td>9.0</td>\n",
       "      <td>1</td>\n",
       "      <td>0</td>\n",
       "      <td>6</td>\n",
       "      <td>2.0</td>\n",
       "      <td>3.0</td>\n",
       "      <td>5.0</td>\n",
       "      <td>...</td>\n",
       "      <td>0</td>\n",
       "      <td>0</td>\n",
       "      <td>0</td>\n",
       "      <td>1</td>\n",
       "      <td>0</td>\n",
       "      <td>0</td>\n",
       "      <td>0</td>\n",
       "      <td>0</td>\n",
       "      <td>0</td>\n",
       "      <td>1</td>\n",
       "    </tr>\n",
       "    <tr>\n",
       "      <th>3</th>\n",
       "      <td>4.0</td>\n",
       "      <td>3.0</td>\n",
       "      <td>0</td>\n",
       "      <td>1.0</td>\n",
       "      <td>1</td>\n",
       "      <td>1</td>\n",
       "      <td>3</td>\n",
       "      <td>1.0</td>\n",
       "      <td>0.0</td>\n",
       "      <td>1.0</td>\n",
       "      <td>...</td>\n",
       "      <td>0</td>\n",
       "      <td>0</td>\n",
       "      <td>0</td>\n",
       "      <td>0</td>\n",
       "      <td>0</td>\n",
       "      <td>0</td>\n",
       "      <td>0</td>\n",
       "      <td>0</td>\n",
       "      <td>1</td>\n",
       "      <td>0</td>\n",
       "    </tr>\n",
       "    <tr>\n",
       "      <th>4</th>\n",
       "      <td>4.0</td>\n",
       "      <td>4.0</td>\n",
       "      <td>1</td>\n",
       "      <td>1.0</td>\n",
       "      <td>1</td>\n",
       "      <td>0</td>\n",
       "      <td>4</td>\n",
       "      <td>1.5</td>\n",
       "      <td>2.0</td>\n",
       "      <td>3.0</td>\n",
       "      <td>...</td>\n",
       "      <td>0</td>\n",
       "      <td>0</td>\n",
       "      <td>0</td>\n",
       "      <td>0</td>\n",
       "      <td>0</td>\n",
       "      <td>0</td>\n",
       "      <td>0</td>\n",
       "      <td>0</td>\n",
       "      <td>0</td>\n",
       "      <td>1</td>\n",
       "    </tr>\n",
       "  </tbody>\n",
       "</table>\n",
       "<p>5 rows × 113 columns</p>\n",
       "</div>"
      ],
      "text/plain": [
       "   host_response_rate  host_acceptance_rate  host_is_superhost  \\\n",
       "0                 4.0                   3.0                  1   \n",
       "1                 4.0                   4.0                  0   \n",
       "2                 4.0                   3.0                  0   \n",
       "3                 4.0                   3.0                  0   \n",
       "4                 4.0                   4.0                  1   \n",
       "\n",
       "   host_listings_count  host_has_profile_pic  host_identity_verified  \\\n",
       "0                  1.0                     1                       0   \n",
       "1                  2.0                     1                       1   \n",
       "2                  9.0                     1                       0   \n",
       "3                  1.0                     1                       1   \n",
       "4                  1.0                     1                       0   \n",
       "\n",
       "   accommodates  bathrooms  bedrooms  beds  ...  area_name_san_blas  \\\n",
       "0             2        1.0       1.0   0.0  ...                   0   \n",
       "1             1        1.0       1.0   1.0  ...                   0   \n",
       "2             6        2.0       3.0   5.0  ...                   0   \n",
       "3             3        1.0       0.0   1.0  ...                   0   \n",
       "4             4        1.5       2.0   3.0  ...                   0   \n",
       "\n",
       "   area_name_san_fernando_de_henares  area_name_tetuan_de_las_victorias  \\\n",
       "0                                  0                                  0   \n",
       "1                                  0                                  0   \n",
       "2                                  0                                  0   \n",
       "3                                  0                                  0   \n",
       "4                                  0                                  0   \n",
       "\n",
       "   area_name_usera  area_name_vicalvaro  area_name_villa_de_vallecas  \\\n",
       "0                0                    0                            0   \n",
       "1                0                    0                            0   \n",
       "2                1                    0                            0   \n",
       "3                0                    0                            0   \n",
       "4                0                    0                            0   \n",
       "\n",
       "   area_name_villaverde  host_response_time_within_a_day  \\\n",
       "0                     0                                0   \n",
       "1                     0                                0   \n",
       "2                     0                                0   \n",
       "3                     0                                0   \n",
       "4                     0                                0   \n",
       "\n",
       "   host_response_time_within_a_few_hours  host_response_time_within_an_hour  \n",
       "0                                      1                                  0  \n",
       "1                                      0                                  1  \n",
       "2                                      0                                  1  \n",
       "3                                      1                                  0  \n",
       "4                                      0                                  1  \n",
       "\n",
       "[5 rows x 113 columns]"
      ]
     },
     "execution_count": 3,
     "metadata": {},
     "output_type": "execute_result"
    }
   ],
   "source": [
    "df.head()"
   ]
  },
  {
   "cell_type": "markdown",
   "metadata": {},
   "source": [
    "# KBest: Chi-Square"
   ]
  },
  {
   "cell_type": "markdown",
   "metadata": {},
   "source": [
    "## Area_name"
   ]
  },
  {
   "cell_type": "code",
   "execution_count": 6,
   "metadata": {},
   "outputs": [
    {
     "name": "stdout",
     "output_type": "stream",
     "text": [
      "                           Specs        Score\n",
      "25            area_name_san_blas  2078.425402\n",
      "24           area_name_salamanca  1185.200440\n",
      "6          area_name_city_center  1157.898224\n",
      "16              area_name_madrid   968.042695\n",
      "31          area_name_villaverde   877.061216\n",
      "22  area_name_puente_de_vallecas   780.090115\n",
      "23              area_name_retiro   769.099136\n",
      "14              area_name_latina   763.424443\n",
      "28               area_name_usera   762.603878\n",
      "7        area_name_ciudad_lineal   725.269925\n"
     ]
    }
   ],
   "source": [
    "X = df[['area_name_arganzuela', 'area_name_barajas_de_madrid', 'area_name_boadilla_del_monte', 'area_name_carabanchel', 'area_name_chamartin', 'area_name_chamberi', 'area_name_city_center', 'area_name_ciudad_lineal', 'area_name_coslada', 'area_name_el_pardo', 'area_name_fuencarral_el_pardo', 'area_name_hortaleza', 'area_name_las_matas', 'area_name_las_tablas','area_name_latina','area_name_leganes','area_name_madrid', 'area_name_majadahonda', 'area_name_moncloa_aravaca', 'area_name_moratalaz', 'area_name_pinar_de_chamartin', 'area_name_pozuelo_de_alarcon', 'area_name_puente_de_vallecas', 'area_name_retiro', 'area_name_salamanca', 'area_name_san_blas', 'area_name_san_fernando_de_henares', 'area_name_tetuan_de_las_victorias', 'area_name_usera', 'area_name_vicalvaro', 'area_name_villa_de_vallecas', 'area_name_villaverde']].copy() #independent columns\n",
    "y = df['price'].copy()    #target column i.e price range\n",
    "#apply SelectKBest class to extract top 10 best features\n",
    "bestfeatures = SelectKBest(score_func=chi2, k=10)\n",
    "fit = bestfeatures.fit(X,y)\n",
    "dfscores = pd.DataFrame(fit.scores_)\n",
    "dfcolumns = pd.DataFrame(X.columns)\n",
    "#concat two dataframes for better visualization \n",
    "featureScores = pd.concat([dfcolumns,dfscores],axis=1)\n",
    "featureScores.columns = ['Specs','Score']  #naming the dataframe columns\n",
    "print(featureScores.nlargest(10,'Score'))  #print 10 best features"
   ]
  },
  {
   "cell_type": "markdown",
   "metadata": {},
   "source": [
    "## Amenities"
   ]
  },
  {
   "cell_type": "code",
   "execution_count": 7,
   "metadata": {},
   "outputs": [
    {
     "name": "stdout",
     "output_type": "stream",
     "text": [
      "                   Specs        Score\n",
      "13        child_friendly  1683.564792\n",
      "1       air_conditioning  1558.077619\n",
      "2   high_end_electronics  1519.640748\n",
      "9         coffee_machine  1400.518232\n",
      "10        cooking_basics  1174.781801\n",
      "17       long_term_stays  1095.461281\n",
      "7              breakfast   931.420967\n",
      "20       smoking_allowed   927.173635\n",
      "4                balcony   876.609404\n",
      "0           check_in_24h   854.063123\n"
     ]
    }
   ],
   "source": [
    "X = df[['check_in_24h', 'air_conditioning', 'high_end_electronics', 'bbq', 'balcony', 'nature_and_views', 'bed_linen', 'breakfast', 'tv', 'coffee_machine', 'cooking_basics', 'white_goods', 'elevator', 'child_friendly', 'parking', 'host_greeting', 'internet', 'long_term_stays', 'pets_allowed', 'private_entrance', 'smoking_allowed']].copy() #independent columns\n",
    "y = df['price'].copy()    #target column i.e price range\n",
    "#apply SelectKBest class to extract top 10 best features\n",
    "bestfeatures = SelectKBest(score_func=chi2, k=10)\n",
    "fit = bestfeatures.fit(X,y)\n",
    "dfscores = pd.DataFrame(fit.scores_)\n",
    "dfcolumns = pd.DataFrame(X.columns)\n",
    "#concat two dataframes for better visualization \n",
    "featureScores = pd.concat([dfcolumns,dfscores],axis=1)\n",
    "featureScores.columns = ['Specs','Score']  #naming the dataframe columns\n",
    "print(featureScores.nlargest(10,'Score'))  #print 10 best features"
   ]
  },
  {
   "cell_type": "markdown",
   "metadata": {},
   "source": [
    "## Host_Verifications"
   ]
  },
  {
   "cell_type": "code",
   "execution_count": 8,
   "metadata": {},
   "outputs": [
    {
     "name": "stdout",
     "output_type": "stream",
     "text": [
      "      Specs       Score\n",
      "4    manual  844.482210\n",
      "7    selfie  798.648772\n",
      "6   reviews  726.845081\n",
      "1  facebook  591.883187\n"
     ]
    }
   ],
   "source": [
    "X = df[['email', 'facebook', 'government', 'external_verifications', 'manual', 'phone', 'reviews', 'selfie']].copy() #independent columns\n",
    "y = df['price'].copy()    #target column i.e price range\n",
    "#apply SelectKBest class to extract top 10 best features\n",
    "bestfeatures = SelectKBest(score_func=chi2, k=4)\n",
    "fit = bestfeatures.fit(X,y)\n",
    "dfscores = pd.DataFrame(fit.scores_)\n",
    "dfcolumns = pd.DataFrame(X.columns)\n",
    "#concat two dataframes for better visualization \n",
    "featureScores = pd.concat([dfcolumns,dfscores],axis=1)\n",
    "featureScores.columns = ['Specs','Score']  #naming the dataframe columns\n",
    "print(featureScores.nlargest(4,'Score'))  #print 4 best features"
   ]
  },
  {
   "cell_type": "markdown",
   "metadata": {},
   "source": [
    "## Everything except for ones above"
   ]
  },
  {
   "cell_type": "code",
   "execution_count": 9,
   "metadata": {},
   "outputs": [
    {
     "name": "stdout",
     "output_type": "stream",
     "text": [
      "                                  Specs         Score\n",
      "15                       maximum_nights  3.914360e+10\n",
      "3                   host_listings_count  6.947369e+05\n",
      "22                             host_for  5.856590e+05\n",
      "16                     availability_365  1.664129e+05\n",
      "13                         extra_people  5.482247e+04\n",
      "17                number_of_reviews_ltm  5.333387e+04\n",
      "14                       minimum_nights  3.353003e+04\n",
      "6                          accommodates  1.005550e+04\n",
      "41               room_type_private_room  6.757180e+03\n",
      "9                                  beds  5.980833e+03\n",
      "12                      guests_included  5.214722e+03\n",
      "8                              bedrooms  3.015230e+03\n",
      "42                room_type_shared_room  2.734211e+03\n",
      "10                     security_deposit  2.200268e+03\n",
      "49  cancellation_policy_super_strict_30  2.088087e+03\n",
      "58                   area_name_san_blas  2.078425e+03\n",
      "40                 room_type_hotel_room  1.825135e+03\n",
      "30                       child_friendly  1.683565e+03\n",
      "24                     air_conditioning  1.558078e+03\n",
      "25                 high_end_electronics  1.519641e+03\n",
      "28                       coffee_machine  1.400518e+03\n",
      "11                         cleaning_fee  1.196223e+03\n",
      "57                  area_name_salamanca  1.185200e+03\n",
      "29                       cooking_basics  1.174782e+03\n",
      "51                area_name_city_center  1.157898e+03\n",
      "31                      long_term_stays  1.095461e+03\n",
      "7                             bathrooms  1.050340e+03\n",
      "37      host_response_time_within_a_day  1.023790e+03\n",
      "47         cancellation_policy_moderate  9.917280e+02\n",
      "54                     area_name_madrid  9.680427e+02\n"
     ]
    }
   ],
   "source": [
    "X = df[['host_response_rate', 'host_acceptance_rate', 'host_is_superhost', 'host_listings_count', 'host_has_profile_pic', 'host_identity_verified', 'accommodates', 'bathrooms', 'bedrooms', 'beds', 'security_deposit', 'cleaning_fee', 'guests_included', 'extra_people', 'minimum_nights', 'maximum_nights', 'availability_365', 'number_of_reviews_ltm', 'review_scores_cleanliness', 'instant_bookable', 'require_guest_profile_picture', 'require_guest_phone_verification', 'host_for', 'check_in_24h', 'air_conditioning', 'high_end_electronics', 'balcony', 'breakfast', 'coffee_machine', 'cooking_basics', 'child_friendly', 'long_term_stays', 'smoking_allowed', 'facebook', 'manual','reviews', 'selfie', 'host_response_time_within_a_day', 'host_response_time_within_a_few_hours', 'host_response_time_within_an_hour', 'room_type_hotel_room', 'room_type_private_room', 'room_type_shared_room', 'bed_type_couch', 'bed_type_futon', 'bed_type_pull_out_sofa', 'bed_type_real_bed', 'cancellation_policy_moderate', 'cancellation_policy_strict_14_with_grace_period', 'cancellation_policy_super_strict_30', 'cancellation_policy_super_strict_60', 'area_name_city_center', 'area_name_ciudad_lineal', 'area_name_latina', 'area_name_madrid', 'area_name_puente_de_vallecas', 'area_name_retiro', 'area_name_salamanca', 'area_name_san_blas', 'area_name_usera', 'area_name_villaverde']].copy() #independent columns\n",
    "y = df['price'].copy()    #target column i.e price range\n",
    "#apply SelectKBest class to extract top 10 best features\n",
    "bestfeatures = SelectKBest(score_func=chi2, k=8)\n",
    "fit = bestfeatures.fit(X,y)\n",
    "dfscores = pd.DataFrame(fit.scores_)\n",
    "dfcolumns = pd.DataFrame(X.columns)\n",
    "#concat two dataframes for better visualization \n",
    "featureScores = pd.concat([dfcolumns,dfscores],axis=1)\n",
    "featureScores.columns = ['Specs','Score']  #naming the dataframe columns\n",
    "print(featureScores.nlargest(30,'Score'))  #print 30 best features"
   ]
  },
  {
   "cell_type": "markdown",
   "metadata": {},
   "source": [
    "# ExtraTrees Classifier"
   ]
  },
  {
   "cell_type": "code",
   "execution_count": 11,
   "metadata": {},
   "outputs": [
    {
     "name": "stdout",
     "output_type": "stream",
     "text": [
      "availability_365                                   0.069901\n",
      "number_of_reviews_ltm                              0.059552\n",
      "host_for                                           0.055878\n",
      "host_listings_count                                0.052945\n",
      "accommodates                                       0.043754\n",
      "minimum_nights                                     0.041546\n",
      "maximum_nights                                     0.039961\n",
      "beds                                               0.038950\n",
      "extra_people                                       0.037172\n",
      "review_scores_cleanliness                          0.032774\n",
      "bathrooms                                          0.029116\n",
      "bedrooms                                           0.028473\n",
      "guests_included                                    0.026093\n",
      "smoking_allowed                                    0.018818\n",
      "host_identity_verified                             0.018269\n",
      "instant_bookable                                   0.018073\n",
      "host_acceptance_rate                               0.017748\n",
      "area_name_madrid                                   0.017684\n",
      "cancellation_policy_moderate                       0.016799\n",
      "long_term_stays                                    0.016272\n",
      "cancellation_policy_strict_14_with_grace_period    0.015968\n",
      "area_name_city_center                              0.015602\n",
      "child_friendly                                     0.015272\n",
      "reviews                                            0.015184\n",
      "host_is_superhost                                  0.014804\n",
      "facebook                                           0.014778\n",
      "balcony                                            0.014605\n",
      "host_response_time_within_an_hour                  0.014346\n",
      "manual                                             0.013675\n",
      "selfie                                             0.013663\n",
      "breakfast                                          0.013628\n",
      "security_deposit                                   0.013181\n",
      "air_conditioning                                   0.012268\n",
      "coffee_machine                                     0.012070\n",
      "cooking_basics                                     0.011267\n",
      "dtype: float64\n"
     ]
    },
    {
     "data": {
      "image/png": "[encoded data removed]",
      "text/plain": [
       "<Figure size 432x288 with 1 Axes>"
      ]
     },
     "metadata": {
      "needs_background": "light"
     },
     "output_type": "display_data"
    }
   ],
   "source": [
    "X = df[['host_response_rate', 'host_acceptance_rate', 'host_is_superhost', 'host_listings_count', 'host_has_profile_pic', 'host_identity_verified', 'accommodates', 'bathrooms', 'bedrooms', 'beds', 'security_deposit', 'cleaning_fee', 'guests_included', 'extra_people', 'minimum_nights', 'maximum_nights', 'availability_365', 'number_of_reviews_ltm', 'review_scores_cleanliness', 'instant_bookable', 'require_guest_profile_picture', 'require_guest_phone_verification', 'host_for', 'check_in_24h', 'air_conditioning', 'high_end_electronics', 'balcony', 'breakfast', 'coffee_machine', 'cooking_basics', 'child_friendly', 'long_term_stays', 'smoking_allowed', 'facebook', 'manual','reviews', 'selfie', 'host_response_time_within_a_day', 'host_response_time_within_a_few_hours', 'host_response_time_within_an_hour', 'room_type_hotel_room', 'room_type_private_room', 'room_type_shared_room', 'bed_type_couch', 'bed_type_futon', 'bed_type_pull_out_sofa', 'bed_type_real_bed', 'cancellation_policy_moderate', 'cancellation_policy_strict_14_with_grace_period', 'cancellation_policy_super_strict_30', 'cancellation_policy_super_strict_60', 'area_name_city_center', 'area_name_ciudad_lineal', 'area_name_latina', 'area_name_madrid', 'area_name_puente_de_vallecas', 'area_name_retiro', 'area_name_salamanca', 'area_name_san_blas', 'area_name_usera', 'area_name_villaverde']].copy() #independent columns\n",
    "y = df['price'].copy()    #target column i.e price range\n",
    "model = ExtraTreesClassifier()\n",
    "model.fit(X,y)\n",
    "#print(model.feature_importances_) #use inbuilt class feature_importances of tree based classifiers\n",
    "#plot graph of feature importances for better visualization\n",
    "feat_importances = pd.Series(model.feature_importances_, index=X.columns)\n",
    "feat_importances.nlargest(35).plot(kind='bar')\n",
    "print(feat_importances.nlargest(35)) \n",
    "plt.tight_layout()\n",
    "plt.show()"
   ]
  },
  {
   "cell_type": "markdown",
   "metadata": {},
   "source": [
    "# Train-Test Split"
   ]
  },
  {
   "cell_type": "code",
   "execution_count": 4,
   "metadata": {},
   "outputs": [
    {
     "name": "stdout",
     "output_type": "stream",
     "text": [
      "Dataset shape: (15283, 113)\n",
      "Dataset shape: (6550, 113)\n"
     ]
    }
   ],
   "source": [
    "splitter = train_test_split\n",
    "\"-----------------------\"\n",
    "\n",
    "df_train, df_test = splitter(df, test_size = 0.3, random_state = 42)\n",
    "print(\"Dataset shape: {shape}\".format(shape = df_train.shape))\n",
    "print(\"Dataset shape: {shape}\".format(shape = df_test.shape))"
   ]
  },
  {
   "cell_type": "code",
   "execution_count": 5,
   "metadata": {},
   "outputs": [],
   "source": [
    "target = 'price'\n",
    "X_train= df_train.drop('price',axis=1)\n",
    "y_train = df_train[target]\n",
    "\n",
    "X_test= df_test.drop('price',axis=1)\n",
    "y_test = df_test[target]"
   ]
  },
  {
   "cell_type": "markdown",
   "metadata": {},
   "source": [
    "# Standardizing and Normalizing"
   ]
  },
  {
   "cell_type": "code",
   "execution_count": 6,
   "metadata": {},
   "outputs": [],
   "source": [
    "scaler = StandardScaler()\n",
    "X_train_sc = scaler.fit_transform(X_train)\n",
    "X_test_sc = scaler.fit_transform(X_test)\n",
    "X_train = pd.DataFrame(X_train_sc, index=X_train.index, columns=X_train.columns)\n",
    "X_test = pd.DataFrame(X_test_sc, index=X_test.index, columns=X_test.columns)"
   ]
  },
  {
   "cell_type": "code",
   "execution_count": 7,
   "metadata": {},
   "outputs": [],
   "source": [
    "scaler = MinMaxScaler()\n",
    "X_trains = scaler.fit_transform(X_train_sc)\n",
    "X_tests = scaler.fit_transform(X_test_sc)\n",
    "X_train = pd.DataFrame(X_trains, index=X_train.index, columns=X_train.columns)\n",
    "X_test = pd.DataFrame(X_tests, index=X_test.index, columns=X_test.columns)"
   ]
  },
  {
   "cell_type": "code",
   "execution_count": 8,
   "metadata": {},
   "outputs": [
    {
     "data": {
      "text/html": [
       "<div>\n",
       "<style scoped>\n",
       "    .dataframe tbody tr th:only-of-type {\n",
       "        vertical-align: middle;\n",
       "    }\n",
       "\n",
       "    .dataframe tbody tr th {\n",
       "        vertical-align: top;\n",
       "    }\n",
       "\n",
       "    .dataframe thead th {\n",
       "        text-align: right;\n",
       "    }\n",
       "</style>\n",
       "<table border=\"1\" class=\"dataframe\">\n",
       "  <thead>\n",
       "    <tr style=\"text-align: right;\">\n",
       "      <th></th>\n",
       "      <th>host_response_rate</th>\n",
       "      <th>host_acceptance_rate</th>\n",
       "      <th>host_is_superhost</th>\n",
       "      <th>host_listings_count</th>\n",
       "      <th>host_has_profile_pic</th>\n",
       "      <th>host_identity_verified</th>\n",
       "      <th>accommodates</th>\n",
       "      <th>bathrooms</th>\n",
       "      <th>bedrooms</th>\n",
       "      <th>beds</th>\n",
       "      <th>...</th>\n",
       "      <th>area_name_san_blas</th>\n",
       "      <th>area_name_san_fernando_de_henares</th>\n",
       "      <th>area_name_tetuan_de_las_victorias</th>\n",
       "      <th>area_name_usera</th>\n",
       "      <th>area_name_vicalvaro</th>\n",
       "      <th>area_name_villa_de_vallecas</th>\n",
       "      <th>area_name_villaverde</th>\n",
       "      <th>host_response_time_within_a_day</th>\n",
       "      <th>host_response_time_within_a_few_hours</th>\n",
       "      <th>host_response_time_within_an_hour</th>\n",
       "    </tr>\n",
       "  </thead>\n",
       "  <tbody>\n",
       "    <tr>\n",
       "      <th>3693</th>\n",
       "      <td>1.0</td>\n",
       "      <td>1.0</td>\n",
       "      <td>0.0</td>\n",
       "      <td>0.001898</td>\n",
       "      <td>1.0</td>\n",
       "      <td>0.0</td>\n",
       "      <td>0.052632</td>\n",
       "      <td>0.090909</td>\n",
       "      <td>0.111111</td>\n",
       "      <td>0.02</td>\n",
       "      <td>...</td>\n",
       "      <td>0.0</td>\n",
       "      <td>0.0</td>\n",
       "      <td>0.0</td>\n",
       "      <td>0.0</td>\n",
       "      <td>0.0</td>\n",
       "      <td>0.0</td>\n",
       "      <td>0.0</td>\n",
       "      <td>0.0</td>\n",
       "      <td>0.0</td>\n",
       "      <td>1.0</td>\n",
       "    </tr>\n",
       "    <tr>\n",
       "      <th>6385</th>\n",
       "      <td>1.0</td>\n",
       "      <td>1.0</td>\n",
       "      <td>0.0</td>\n",
       "      <td>0.009488</td>\n",
       "      <td>1.0</td>\n",
       "      <td>1.0</td>\n",
       "      <td>0.000000</td>\n",
       "      <td>0.090909</td>\n",
       "      <td>0.111111</td>\n",
       "      <td>0.02</td>\n",
       "      <td>...</td>\n",
       "      <td>0.0</td>\n",
       "      <td>0.0</td>\n",
       "      <td>0.0</td>\n",
       "      <td>0.0</td>\n",
       "      <td>0.0</td>\n",
       "      <td>0.0</td>\n",
       "      <td>0.0</td>\n",
       "      <td>0.0</td>\n",
       "      <td>1.0</td>\n",
       "      <td>0.0</td>\n",
       "    </tr>\n",
       "    <tr>\n",
       "      <th>4029</th>\n",
       "      <td>1.0</td>\n",
       "      <td>1.0</td>\n",
       "      <td>0.0</td>\n",
       "      <td>0.001898</td>\n",
       "      <td>1.0</td>\n",
       "      <td>0.0</td>\n",
       "      <td>0.157895</td>\n",
       "      <td>0.090909</td>\n",
       "      <td>0.111111</td>\n",
       "      <td>0.04</td>\n",
       "      <td>...</td>\n",
       "      <td>0.0</td>\n",
       "      <td>0.0</td>\n",
       "      <td>0.0</td>\n",
       "      <td>0.0</td>\n",
       "      <td>0.0</td>\n",
       "      <td>0.0</td>\n",
       "      <td>0.0</td>\n",
       "      <td>0.0</td>\n",
       "      <td>0.0</td>\n",
       "      <td>1.0</td>\n",
       "    </tr>\n",
       "    <tr>\n",
       "      <th>7220</th>\n",
       "      <td>1.0</td>\n",
       "      <td>1.0</td>\n",
       "      <td>0.0</td>\n",
       "      <td>0.091082</td>\n",
       "      <td>1.0</td>\n",
       "      <td>0.0</td>\n",
       "      <td>0.263158</td>\n",
       "      <td>0.090909</td>\n",
       "      <td>0.222222</td>\n",
       "      <td>0.04</td>\n",
       "      <td>...</td>\n",
       "      <td>0.0</td>\n",
       "      <td>0.0</td>\n",
       "      <td>0.0</td>\n",
       "      <td>0.0</td>\n",
       "      <td>0.0</td>\n",
       "      <td>0.0</td>\n",
       "      <td>0.0</td>\n",
       "      <td>0.0</td>\n",
       "      <td>0.0</td>\n",
       "      <td>1.0</td>\n",
       "    </tr>\n",
       "    <tr>\n",
       "      <th>3995</th>\n",
       "      <td>1.0</td>\n",
       "      <td>1.0</td>\n",
       "      <td>0.0</td>\n",
       "      <td>0.001898</td>\n",
       "      <td>1.0</td>\n",
       "      <td>0.0</td>\n",
       "      <td>0.052632</td>\n",
       "      <td>0.090909</td>\n",
       "      <td>0.111111</td>\n",
       "      <td>0.02</td>\n",
       "      <td>...</td>\n",
       "      <td>0.0</td>\n",
       "      <td>0.0</td>\n",
       "      <td>0.0</td>\n",
       "      <td>1.0</td>\n",
       "      <td>0.0</td>\n",
       "      <td>0.0</td>\n",
       "      <td>0.0</td>\n",
       "      <td>0.0</td>\n",
       "      <td>1.0</td>\n",
       "      <td>0.0</td>\n",
       "    </tr>\n",
       "  </tbody>\n",
       "</table>\n",
       "<p>5 rows × 112 columns</p>\n",
       "</div>"
      ],
      "text/plain": [
       "      host_response_rate  host_acceptance_rate  host_is_superhost  \\\n",
       "3693                 1.0                   1.0                0.0   \n",
       "6385                 1.0                   1.0                0.0   \n",
       "4029                 1.0                   1.0                0.0   \n",
       "7220                 1.0                   1.0                0.0   \n",
       "3995                 1.0                   1.0                0.0   \n",
       "\n",
       "      host_listings_count  host_has_profile_pic  host_identity_verified  \\\n",
       "3693             0.001898                   1.0                     0.0   \n",
       "6385             0.009488                   1.0                     1.0   \n",
       "4029             0.001898                   1.0                     0.0   \n",
       "7220             0.091082                   1.0                     0.0   \n",
       "3995             0.001898                   1.0                     0.0   \n",
       "\n",
       "      accommodates  bathrooms  bedrooms  beds  ...  area_name_san_blas  \\\n",
       "3693      0.052632   0.090909  0.111111  0.02  ...                 0.0   \n",
       "6385      0.000000   0.090909  0.111111  0.02  ...                 0.0   \n",
       "4029      0.157895   0.090909  0.111111  0.04  ...                 0.0   \n",
       "7220      0.263158   0.090909  0.222222  0.04  ...                 0.0   \n",
       "3995      0.052632   0.090909  0.111111  0.02  ...                 0.0   \n",
       "\n",
       "      area_name_san_fernando_de_henares  area_name_tetuan_de_las_victorias  \\\n",
       "3693                                0.0                                0.0   \n",
       "6385                                0.0                                0.0   \n",
       "4029                                0.0                                0.0   \n",
       "7220                                0.0                                0.0   \n",
       "3995                                0.0                                0.0   \n",
       "\n",
       "      area_name_usera  area_name_vicalvaro  area_name_villa_de_vallecas  \\\n",
       "3693              0.0                  0.0                          0.0   \n",
       "6385              0.0                  0.0                          0.0   \n",
       "4029              0.0                  0.0                          0.0   \n",
       "7220              0.0                  0.0                          0.0   \n",
       "3995              1.0                  0.0                          0.0   \n",
       "\n",
       "      area_name_villaverde  host_response_time_within_a_day  \\\n",
       "3693                   0.0                              0.0   \n",
       "6385                   0.0                              0.0   \n",
       "4029                   0.0                              0.0   \n",
       "7220                   0.0                              0.0   \n",
       "3995                   0.0                              0.0   \n",
       "\n",
       "      host_response_time_within_a_few_hours  host_response_time_within_an_hour  \n",
       "3693                                    0.0                                1.0  \n",
       "6385                                    1.0                                0.0  \n",
       "4029                                    0.0                                1.0  \n",
       "7220                                    0.0                                1.0  \n",
       "3995                                    1.0                                0.0  \n",
       "\n",
       "[5 rows x 112 columns]"
      ]
     },
     "execution_count": 8,
     "metadata": {},
     "output_type": "execute_result"
    }
   ],
   "source": [
    "X_train.head()"
   ]
  },
  {
   "cell_type": "markdown",
   "metadata": {},
   "source": [
    "# PCA\n",
    "We decided to see what was the optimum size of components in PCA to check how many features we needed from the components."
   ]
  },
  {
   "cell_type": "code",
   "execution_count": 9,
   "metadata": {},
   "outputs": [
    {
     "data": {
      "text/plain": [
       "Text(0.5, 0.85, '80% cut-off threshold')"
      ]
     },
     "execution_count": 9,
     "metadata": {},
     "output_type": "execute_result"
    },
    {
     "data": {
      "image/png": "[encoded data removed]",
      "text/plain": [
       "<Figure size 432x288 with 1 Axes>"
      ]
     },
     "metadata": {
      "needs_background": "light"
     },
     "output_type": "display_data"
    }
   ],
   "source": [
    "pca = PCA().fit(X_train)\n",
    "plt.plot(np.cumsum(pca.explained_variance_ratio_))\n",
    "plt.xlabel('number of components')\n",
    "plt.ylabel('cumulative explained variance');\n",
    "plt.grid()\n",
    "plt.axhline(y=0.80, color='r', linestyle='-')\n",
    "plt.text(0.5, 0.85, '80% cut-off threshold', color = 'red', fontsize=16)"
   ]
  },
  {
   "cell_type": "code",
   "execution_count": 10,
   "metadata": {},
   "outputs": [
    {
     "data": {
      "text/plain": [
       "PCA(copy=True, iterated_power='auto', n_components=0.9, random_state=None,\n",
       "    svd_solver='auto', tol=0.0, whiten=False)"
      ]
     },
     "execution_count": 10,
     "metadata": {},
     "output_type": "execute_result"
    }
   ],
   "source": [
    "pca = PCA(0.9)\n",
    "pca.fit(X_train)"
   ]
  },
  {
   "cell_type": "code",
   "execution_count": 11,
   "metadata": {},
   "outputs": [
    {
     "data": {
      "text/plain": [
       "0.9"
      ]
     },
     "execution_count": 11,
     "metadata": {},
     "output_type": "execute_result"
    }
   ],
   "source": [
    "pca.n_components"
   ]
  },
  {
   "cell_type": "code",
   "execution_count": 12,
   "metadata": {},
   "outputs": [
    {
     "name": "stdout",
     "output_type": "stream",
     "text": [
      "42\n"
     ]
    }
   ],
   "source": [
    "print(len(pca.components_))"
   ]
  },
  {
   "cell_type": "code",
   "execution_count": 13,
   "metadata": {},
   "outputs": [
    {
     "name": "stdout",
     "output_type": "stream",
     "text": [
      "[[ 0.02759512  0.04744489  0.12845899 ... -0.03844342 -0.03404557\n",
      "   0.09200792]\n",
      " [-0.00778678 -0.04135748  0.05513266 ...  0.04417015  0.05721555\n",
      "  -0.10440051]\n",
      " [-0.01160119 -0.0813247   0.03117316 ...  0.06491163  0.10254621\n",
      "  -0.17399278]\n",
      " ...\n",
      " [ 0.00921362 -0.01612468  0.00923577 ...  0.00111769  0.00862568\n",
      "  -0.00285438]\n",
      " [ 0.02165702 -0.00728705  0.01088701 ... -0.01636334  0.0101418\n",
      "   0.01558877]\n",
      " [-0.12388666 -0.89585244  0.07118465 ... -0.22633206  0.02559674\n",
      "   0.08858541]]\n"
     ]
    }
   ],
   "source": [
    "print(pca.components_)"
   ]
  },
  {
   "cell_type": "code",
   "execution_count": 14,
   "metadata": {},
   "outputs": [
    {
     "name": "stdout",
     "output_type": "stream",
     "text": [
      "[1.1369408  0.55036388 0.51292604 0.44414489 0.33528275 0.31228568\n",
      " 0.26651029 0.22768917 0.21309933 0.20571822 0.1879583  0.17798224\n",
      " 0.17074362 0.15229387 0.14575718 0.13964202 0.13636182 0.13410594\n",
      " 0.12432182 0.12244469 0.12001842 0.11603982 0.11321121 0.10755759\n",
      " 0.10530301 0.10190406 0.1002637  0.0983582  0.09689311 0.09209577\n",
      " 0.09152269 0.08822025 0.08295513 0.07087058 0.0650241  0.06029158\n",
      " 0.06001519 0.05746778 0.05380326 0.0524487  0.04988713 0.04678429]\n"
     ]
    }
   ],
   "source": [
    "print(pca.explained_variance_)"
   ]
  },
  {
   "cell_type": "code",
   "execution_count": 15,
   "metadata": {},
   "outputs": [
    {
     "name": "stdout",
     "output_type": "stream",
     "text": [
      "[0.1366079441389375, 0.20273634605634094, 0.2643664437361669, 0.31773221294322834, 0.35801776480950204, 0.3955401268256026, 0.42756239483917574, 0.4549201507773446, 0.4805248798177541, 0.505242739813864, 0.5278266748645445, 0.5492119467542139, 0.5697274693385692, 0.58802618202053, 0.605539484809884, 0.6223180270493701, 0.6387024400032821, 0.6548158005488848, 0.669753560107471, 0.6844657754433774, 0.6988864645323798, 0.7128291091651082, 0.7264318846755581, 0.7393553557313164, 0.7520079304424739, 0.7642521074318176, 0.7762991885005985, 0.7881173158559973, 0.7997594076042658, 0.8108250798177988, 0.8218218932947318, 0.8324219056608186, 0.842389292869407, 0.850904673913883, 0.8587175767850502, 0.8659618492567759, 0.8731729123779616, 0.8800778942096799, 0.8865425692362596, 0.8928444884820087, 0.8988386244279397, 0.9044599425397825]\n"
     ]
    }
   ],
   "source": [
    "cum_explained_var = []\n",
    "for i in range(0, len(pca.explained_variance_ratio_)):\n",
    "    if i == 0:\n",
    "        cum_explained_var.append(pca.explained_variance_ratio_[i])\n",
    "    else:\n",
    "        cum_explained_var.append(pca.explained_variance_ratio_[i] + \n",
    "                                 cum_explained_var[i-1])\n",
    "\n",
    "print(cum_explained_var)"
   ]
  },
  {
   "cell_type": "markdown",
   "metadata": {},
   "source": [
    "# LDA\n",
    "We run an LDA for the same reasons"
   ]
  },
  {
   "cell_type": "code",
   "execution_count": 16,
   "metadata": {},
   "outputs": [
    {
     "data": {
      "text/plain": [
       "LatentDirichletAllocation(batch_size=128, doc_topic_prior=None,\n",
       "                          evaluate_every=-1, learning_decay=0.7,\n",
       "                          learning_method='batch', learning_offset=10.0,\n",
       "                          max_doc_update_iter=100, max_iter=10,\n",
       "                          mean_change_tol=0.001, n_components=10, n_jobs=None,\n",
       "                          perp_tol=0.1, random_state=None,\n",
       "                          topic_word_prior=None, total_samples=1000000.0,\n",
       "                          verbose=0)"
      ]
     },
     "execution_count": 16,
     "metadata": {},
     "output_type": "execute_result"
    }
   ],
   "source": [
    "clf = LDA()\n",
    "clf.fit(X_train, y_train)"
   ]
  },
  {
   "cell_type": "markdown",
   "metadata": {},
   "source": [
    "# Feature Selection: LightGBM RFE"
   ]
  },
  {
   "cell_type": "code",
   "execution_count": 17,
   "metadata": {},
   "outputs": [
    {
     "data": {
      "text/html": [
       "<div>\n",
       "<style scoped>\n",
       "    .dataframe tbody tr th:only-of-type {\n",
       "        vertical-align: middle;\n",
       "    }\n",
       "\n",
       "    .dataframe tbody tr th {\n",
       "        vertical-align: top;\n",
       "    }\n",
       "\n",
       "    .dataframe thead th {\n",
       "        text-align: right;\n",
       "    }\n",
       "</style>\n",
       "<table border=\"1\" class=\"dataframe\">\n",
       "  <thead>\n",
       "    <tr style=\"text-align: right;\">\n",
       "      <th></th>\n",
       "      <th>cols</th>\n",
       "      <th>fea_imp</th>\n",
       "    </tr>\n",
       "  </thead>\n",
       "  <tbody>\n",
       "    <tr>\n",
       "      <th>27</th>\n",
       "      <td>host_for</td>\n",
       "      <td>306</td>\n",
       "    </tr>\n",
       "    <tr>\n",
       "      <th>16</th>\n",
       "      <td>availability_365</td>\n",
       "      <td>284</td>\n",
       "    </tr>\n",
       "    <tr>\n",
       "      <th>3</th>\n",
       "      <td>host_listings_count</td>\n",
       "      <td>217</td>\n",
       "    </tr>\n",
       "    <tr>\n",
       "      <th>13</th>\n",
       "      <td>extra_people</td>\n",
       "      <td>215</td>\n",
       "    </tr>\n",
       "    <tr>\n",
       "      <th>17</th>\n",
       "      <td>number_of_reviews_ltm</td>\n",
       "      <td>174</td>\n",
       "    </tr>\n",
       "    <tr>\n",
       "      <th>...</th>\n",
       "      <td>...</td>\n",
       "      <td>...</td>\n",
       "    </tr>\n",
       "    <tr>\n",
       "      <th>98</th>\n",
       "      <td>area_name_pozuelo_de_alarcon</td>\n",
       "      <td>1</td>\n",
       "    </tr>\n",
       "    <tr>\n",
       "      <th>78</th>\n",
       "      <td>area_name_barajas_de_madrid</td>\n",
       "      <td>1</td>\n",
       "    </tr>\n",
       "    <tr>\n",
       "      <th>2</th>\n",
       "      <td>host_is_superhost</td>\n",
       "      <td>1</td>\n",
       "    </tr>\n",
       "    <tr>\n",
       "      <th>77</th>\n",
       "      <td>area_name_arganzuela</td>\n",
       "      <td>1</td>\n",
       "    </tr>\n",
       "    <tr>\n",
       "      <th>21</th>\n",
       "      <td>review_scores_communication</td>\n",
       "      <td>1</td>\n",
       "    </tr>\n",
       "  </tbody>\n",
       "</table>\n",
       "<p>83 rows × 2 columns</p>\n",
       "</div>"
      ],
      "text/plain": [
       "                            cols  fea_imp\n",
       "27                      host_for      306\n",
       "16              availability_365      284\n",
       "3            host_listings_count      217\n",
       "13                  extra_people      215\n",
       "17         number_of_reviews_ltm      174\n",
       "..                           ...      ...\n",
       "98  area_name_pozuelo_de_alarcon        1\n",
       "78   area_name_barajas_de_madrid        1\n",
       "2              host_is_superhost        1\n",
       "77          area_name_arganzuela        1\n",
       "21   review_scores_communication        1\n",
       "\n",
       "[83 rows x 2 columns]"
      ]
     },
     "execution_count": 17,
     "metadata": {},
     "output_type": "execute_result"
    }
   ],
   "source": [
    "gbm = lgb.LGBMRegressor()\n",
    "gbm.fit(X_train, y_train)\n",
    "gbm.booster_.feature_importance()\n",
    "fea_imp_ = pd.DataFrame({'cols':X_train.columns, 'fea_imp':gbm.feature_importances_})\n",
    "fea_imp_.loc[fea_imp_.fea_imp > 0].sort_values(by=['fea_imp'], ascending = False)"
   ]
  },
  {
   "cell_type": "code",
   "execution_count": 18,
   "metadata": {},
   "outputs": [
    {
     "name": "stdout",
     "output_type": "stream",
     "text": [
      "[False False False  True False False  True False  True  True False False\n",
      "  True  True False  True  True  True False False False False False False\n",
      " False False False  True False False False False False False False False\n",
      " False False False False False False False False False False False False\n",
      " False False False False False False False False False False False False\n",
      " False False False False False False False False False False False False\n",
      " False False False False False False False False False False False False\n",
      " False False False False False False False False False False False False\n",
      " False False False False False False False False False False False False\n",
      " False False False False]\n"
     ]
    },
    {
     "data": {
      "text/html": [
       "<div>\n",
       "<style scoped>\n",
       "    .dataframe tbody tr th:only-of-type {\n",
       "        vertical-align: middle;\n",
       "    }\n",
       "\n",
       "    .dataframe tbody tr th {\n",
       "        vertical-align: top;\n",
       "    }\n",
       "\n",
       "    .dataframe thead th {\n",
       "        text-align: right;\n",
       "    }\n",
       "</style>\n",
       "<table border=\"1\" class=\"dataframe\">\n",
       "  <thead>\n",
       "    <tr style=\"text-align: right;\">\n",
       "      <th></th>\n",
       "      <th>cols</th>\n",
       "      <th>fea_rank</th>\n",
       "    </tr>\n",
       "  </thead>\n",
       "  <tbody>\n",
       "    <tr>\n",
       "      <th>17</th>\n",
       "      <td>number_of_reviews_ltm</td>\n",
       "      <td>1</td>\n",
       "    </tr>\n",
       "    <tr>\n",
       "      <th>15</th>\n",
       "      <td>maximum_nights</td>\n",
       "      <td>1</td>\n",
       "    </tr>\n",
       "    <tr>\n",
       "      <th>13</th>\n",
       "      <td>extra_people</td>\n",
       "      <td>1</td>\n",
       "    </tr>\n",
       "    <tr>\n",
       "      <th>12</th>\n",
       "      <td>guests_included</td>\n",
       "      <td>1</td>\n",
       "    </tr>\n",
       "    <tr>\n",
       "      <th>9</th>\n",
       "      <td>beds</td>\n",
       "      <td>1</td>\n",
       "    </tr>\n",
       "    <tr>\n",
       "      <th>...</th>\n",
       "      <td>...</td>\n",
       "      <td>...</td>\n",
       "    </tr>\n",
       "    <tr>\n",
       "      <th>95</th>\n",
       "      <td>area_name_moncloa_aravaca</td>\n",
       "      <td>99</td>\n",
       "    </tr>\n",
       "    <tr>\n",
       "      <th>37</th>\n",
       "      <td>sent_id</td>\n",
       "      <td>100</td>\n",
       "    </tr>\n",
       "    <tr>\n",
       "      <th>40</th>\n",
       "      <td>high_end_electronics</td>\n",
       "      <td>101</td>\n",
       "    </tr>\n",
       "    <tr>\n",
       "      <th>64</th>\n",
       "      <td>accessible</td>\n",
       "      <td>102</td>\n",
       "    </tr>\n",
       "    <tr>\n",
       "      <th>55</th>\n",
       "      <td>host_greeting</td>\n",
       "      <td>103</td>\n",
       "    </tr>\n",
       "  </tbody>\n",
       "</table>\n",
       "<p>112 rows × 2 columns</p>\n",
       "</div>"
      ],
      "text/plain": [
       "                         cols  fea_rank\n",
       "17      number_of_reviews_ltm         1\n",
       "15             maximum_nights         1\n",
       "13               extra_people         1\n",
       "12            guests_included         1\n",
       "9                        beds         1\n",
       "..                        ...       ...\n",
       "95  area_name_moncloa_aravaca        99\n",
       "37                    sent_id       100\n",
       "40       high_end_electronics       101\n",
       "64                 accessible       102\n",
       "55              host_greeting       103\n",
       "\n",
       "[112 rows x 2 columns]"
      ]
     },
     "execution_count": 18,
     "metadata": {},
     "output_type": "execute_result"
    }
   ],
   "source": [
    "rfe = RFE(gbm, 10)\n",
    "rfe = rfe.fit(X_train, y_train)\n",
    "print(rfe.support_)\n",
    "fea_rank_ = pd.DataFrame({'cols':X_train.columns, 'fea_rank':rfe.ranking_})\n",
    "fea_rank_.loc[fea_rank_.fea_rank > 0].sort_values(by=['fea_rank'], ascending = True)"
   ]
  },
  {
   "cell_type": "code",
   "execution_count": 19,
   "metadata": {},
   "outputs": [],
   "source": [
    "features = fea_rank_.sort_values(by=['fea_rank'], ascending = True)"
   ]
  },
  {
   "cell_type": "code",
   "execution_count": 20,
   "metadata": {},
   "outputs": [],
   "source": [
    "features = features[:24]"
   ]
  },
  {
   "cell_type": "code",
   "execution_count": 21,
   "metadata": {},
   "outputs": [
    {
     "data": {
      "text/plain": [
       "Index(['cols', 'fea_rank'], dtype='object')"
      ]
     },
     "execution_count": 21,
     "metadata": {},
     "output_type": "execute_result"
    }
   ],
   "source": [
    "features.columns"
   ]
  },
  {
   "cell_type": "code",
   "execution_count": 22,
   "metadata": {},
   "outputs": [],
   "source": [
    "features.drop('fea_rank', axis=1, inplace=True)"
   ]
  },
  {
   "cell_type": "code",
   "execution_count": 23,
   "metadata": {},
   "outputs": [],
   "source": [
    "features = features['cols']"
   ]
  },
  {
   "cell_type": "code",
   "execution_count": 24,
   "metadata": {},
   "outputs": [
    {
     "data": {
      "text/plain": [
       "17      number_of_reviews_ltm\n",
       "15             maximum_nights\n",
       "13               extra_people\n",
       "12            guests_included\n",
       "9                        beds\n",
       "16           availability_365\n",
       "8                    bedrooms\n",
       "27                   host_for\n",
       "3         host_listings_count\n",
       "6                accommodates\n",
       "14             minimum_nights\n",
       "7                   bathrooms\n",
       "61                     secure\n",
       "11               cleaning_fee\n",
       "67     room_type_private_room\n",
       "1        host_acceptance_rate\n",
       "50                   elevator\n",
       "49                white_goods\n",
       "0          host_response_rate\n",
       "10           security_deposit\n",
       "31                 government\n",
       "23        review_scores_value\n",
       "101       area_name_salamanca\n",
       "102        area_name_san_blas\n",
       "Name: cols, dtype: object"
      ]
     },
     "execution_count": 24,
     "metadata": {},
     "output_type": "execute_result"
    }
   ],
   "source": [
    "features"
   ]
  },
  {
   "cell_type": "markdown",
   "metadata": {},
   "source": [
    "# Creating a new CSV with only the features needed"
   ]
  },
  {
   "cell_type": "code",
   "execution_count": 28,
   "metadata": {},
   "outputs": [],
   "source": [
    "df= pd.read_csv('./CSVs/Cleaned_df.csv')"
   ]
  },
  {
   "cell_type": "code",
   "execution_count": 30,
   "metadata": {},
   "outputs": [
    {
     "data": {
      "text/html": [
       "<div>\n",
       "<style scoped>\n",
       "    .dataframe tbody tr th:only-of-type {\n",
       "        vertical-align: middle;\n",
       "    }\n",
       "\n",
       "    .dataframe tbody tr th {\n",
       "        vertical-align: top;\n",
       "    }\n",
       "\n",
       "    .dataframe thead th {\n",
       "        text-align: right;\n",
       "    }\n",
       "</style>\n",
       "<table border=\"1\" class=\"dataframe\">\n",
       "  <thead>\n",
       "    <tr style=\"text-align: right;\">\n",
       "      <th></th>\n",
       "      <th>maximum_nights</th>\n",
       "      <th>extra_people</th>\n",
       "      <th>guests_included</th>\n",
       "      <th>beds</th>\n",
       "      <th>availability_365</th>\n",
       "      <th>accommodates</th>\n",
       "      <th>bedrooms</th>\n",
       "      <th>host_listings_count</th>\n",
       "      <th>host_for</th>\n",
       "      <th>number_of_reviews_ltm</th>\n",
       "      <th>...</th>\n",
       "      <th>host_acceptance_rate</th>\n",
       "      <th>elevator</th>\n",
       "      <th>white_goods</th>\n",
       "      <th>host_response_rate</th>\n",
       "      <th>security_deposit</th>\n",
       "      <th>government</th>\n",
       "      <th>review_scores_value</th>\n",
       "      <th>area_name_salamanca</th>\n",
       "      <th>area_name_san_blas</th>\n",
       "      <th>price</th>\n",
       "    </tr>\n",
       "  </thead>\n",
       "  <tbody>\n",
       "    <tr>\n",
       "      <th>0</th>\n",
       "      <td>365</td>\n",
       "      <td>15.0</td>\n",
       "      <td>2</td>\n",
       "      <td>0.0</td>\n",
       "      <td>77</td>\n",
       "      <td>2</td>\n",
       "      <td>1.0</td>\n",
       "      <td>1.0</td>\n",
       "      <td>4010</td>\n",
       "      <td>14</td>\n",
       "      <td>...</td>\n",
       "      <td>3.0</td>\n",
       "      <td>1.0</td>\n",
       "      <td>1.0</td>\n",
       "      <td>4.0</td>\n",
       "      <td>0.0</td>\n",
       "      <td>1.0</td>\n",
       "      <td>10.0</td>\n",
       "      <td>0</td>\n",
       "      <td>0</td>\n",
       "      <td>70.0</td>\n",
       "    </tr>\n",
       "    <tr>\n",
       "      <th>1</th>\n",
       "      <td>40</td>\n",
       "      <td>8.0</td>\n",
       "      <td>1</td>\n",
       "      <td>1.0</td>\n",
       "      <td>200</td>\n",
       "      <td>1</td>\n",
       "      <td>1.0</td>\n",
       "      <td>2.0</td>\n",
       "      <td>3699</td>\n",
       "      <td>0</td>\n",
       "      <td>...</td>\n",
       "      <td>4.0</td>\n",
       "      <td>1.0</td>\n",
       "      <td>1.0</td>\n",
       "      <td>4.0</td>\n",
       "      <td>0.0</td>\n",
       "      <td>1.0</td>\n",
       "      <td>9.0</td>\n",
       "      <td>0</td>\n",
       "      <td>0</td>\n",
       "      <td>17.0</td>\n",
       "    </tr>\n",
       "    <tr>\n",
       "      <th>2</th>\n",
       "      <td>730</td>\n",
       "      <td>10.0</td>\n",
       "      <td>1</td>\n",
       "      <td>5.0</td>\n",
       "      <td>249</td>\n",
       "      <td>6</td>\n",
       "      <td>3.0</td>\n",
       "      <td>9.0</td>\n",
       "      <td>3703</td>\n",
       "      <td>0</td>\n",
       "      <td>...</td>\n",
       "      <td>3.0</td>\n",
       "      <td>1.0</td>\n",
       "      <td>1.0</td>\n",
       "      <td>4.0</td>\n",
       "      <td>1.0</td>\n",
       "      <td>1.0</td>\n",
       "      <td>9.0</td>\n",
       "      <td>0</td>\n",
       "      <td>0</td>\n",
       "      <td>50.0</td>\n",
       "    </tr>\n",
       "    <tr>\n",
       "      <th>3</th>\n",
       "      <td>730</td>\n",
       "      <td>10.0</td>\n",
       "      <td>2</td>\n",
       "      <td>1.0</td>\n",
       "      <td>364</td>\n",
       "      <td>3</td>\n",
       "      <td>0.0</td>\n",
       "      <td>1.0</td>\n",
       "      <td>3661</td>\n",
       "      <td>7</td>\n",
       "      <td>...</td>\n",
       "      <td>3.0</td>\n",
       "      <td>1.0</td>\n",
       "      <td>1.0</td>\n",
       "      <td>4.0</td>\n",
       "      <td>1.0</td>\n",
       "      <td>1.0</td>\n",
       "      <td>10.0</td>\n",
       "      <td>0</td>\n",
       "      <td>0</td>\n",
       "      <td>89.0</td>\n",
       "    </tr>\n",
       "    <tr>\n",
       "      <th>4</th>\n",
       "      <td>10</td>\n",
       "      <td>0.0</td>\n",
       "      <td>4</td>\n",
       "      <td>3.0</td>\n",
       "      <td>322</td>\n",
       "      <td>4</td>\n",
       "      <td>2.0</td>\n",
       "      <td>1.0</td>\n",
       "      <td>3661</td>\n",
       "      <td>16</td>\n",
       "      <td>...</td>\n",
       "      <td>4.0</td>\n",
       "      <td>1.0</td>\n",
       "      <td>1.0</td>\n",
       "      <td>4.0</td>\n",
       "      <td>1.0</td>\n",
       "      <td>0.0</td>\n",
       "      <td>10.0</td>\n",
       "      <td>0</td>\n",
       "      <td>0</td>\n",
       "      <td>115.0</td>\n",
       "    </tr>\n",
       "  </tbody>\n",
       "</table>\n",
       "<p>5 rows × 25 columns</p>\n",
       "</div>"
      ],
      "text/plain": [
       "   maximum_nights  extra_people  guests_included  beds  availability_365  \\\n",
       "0             365          15.0                2   0.0                77   \n",
       "1              40           8.0                1   1.0               200   \n",
       "2             730          10.0                1   5.0               249   \n",
       "3             730          10.0                2   1.0               364   \n",
       "4              10           0.0                4   3.0               322   \n",
       "\n",
       "   accommodates  bedrooms  host_listings_count  host_for  \\\n",
       "0             2       1.0                  1.0      4010   \n",
       "1             1       1.0                  2.0      3699   \n",
       "2             6       3.0                  9.0      3703   \n",
       "3             3       0.0                  1.0      3661   \n",
       "4             4       2.0                  1.0      3661   \n",
       "\n",
       "   number_of_reviews_ltm  ...  host_acceptance_rate  elevator  white_goods  \\\n",
       "0                     14  ...                   3.0       1.0          1.0   \n",
       "1                      0  ...                   4.0       1.0          1.0   \n",
       "2                      0  ...                   3.0       1.0          1.0   \n",
       "3                      7  ...                   3.0       1.0          1.0   \n",
       "4                     16  ...                   4.0       1.0          1.0   \n",
       "\n",
       "   host_response_rate  security_deposit  government  review_scores_value  \\\n",
       "0                 4.0               0.0         1.0                 10.0   \n",
       "1                 4.0               0.0         1.0                  9.0   \n",
       "2                 4.0               1.0         1.0                  9.0   \n",
       "3                 4.0               1.0         1.0                 10.0   \n",
       "4                 4.0               1.0         0.0                 10.0   \n",
       "\n",
       "   area_name_salamanca  area_name_san_blas  price  \n",
       "0                    0                   0   70.0  \n",
       "1                    0                   0   17.0  \n",
       "2                    0                   0   50.0  \n",
       "3                    0                   0   89.0  \n",
       "4                    0                   0  115.0  \n",
       "\n",
       "[5 rows x 25 columns]"
      ]
     },
     "execution_count": 30,
     "metadata": {},
     "output_type": "execute_result"
    }
   ],
   "source": [
    "mod= df[['maximum_nights','extra_people','guests_included','beds','availability_365','accommodates','bedrooms','host_listings_count','host_for','number_of_reviews_ltm','minimum_nights','bathrooms','secure','cleaning_fee','room_type_private_room','host_acceptance_rate','elevator','white_goods','host_response_rate','security_deposit','government','review_scores_value','area_name_salamanca','area_name_san_blas','price']]\n",
    "mod.head()"
   ]
  },
  {
   "cell_type": "code",
   "execution_count": 31,
   "metadata": {},
   "outputs": [],
   "source": [
    "mod.to_csv('./CSVs/Modelling.csv',index=False)"
   ]
  },
  {
   "cell_type": "markdown",
   "metadata": {},
   "source": [
    "Camila Barbagallo, Ryan Daher, Rocío González Lantero, Paula García"
   ]
  }
 ],
 "metadata": {
  "kernelspec": {
   "display_name": "Python 3",
   "language": "python",
   "name": "python3"
  },
  "language_info": {
   "codemirror_mode": {
    "name": "ipython",
    "version": 3
   },
   "file_extension": ".py",
   "mimetype": "text/x-python",
   "name": "python",
   "nbconvert_exporter": "python",
   "pygments_lexer": "ipython3",
   "version": "3.7.6"
  }
 },
 "nbformat": 4,
 "nbformat_minor": 4
}
