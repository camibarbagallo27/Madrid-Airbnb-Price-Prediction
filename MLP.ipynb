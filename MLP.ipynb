{
 "cells": [
  {
   "cell_type": "code",
   "execution_count": 15,
   "metadata": {
    "colab": {},
    "colab_type": "code",
    "id": "Z7U91m4GKF3c"
   },
   "outputs": [],
   "source": [
    "import pandas as pd\n",
    "import numpy as np\n",
    "from sklearn.model_selection import train_test_split\n",
    "from sklearn.preprocessing import StandardScaler\n",
    "from sklearn.preprocessing import MinMaxScaler\n",
    "from sklearn.neural_network import MLPRegressor\n",
    "import matplotlib.pyplot as plt"
   ]
  },
  {
   "cell_type": "code",
   "execution_count": 16,
   "metadata": {
    "colab": {},
    "colab_type": "code",
    "id": "s5XoqRma-vzv",
    "scrolled": true
   },
   "outputs": [],
   "source": [
    "df= pd.read_csv('./CSVs/Modelling.csv')"
   ]
  },
  {
   "cell_type": "code",
   "execution_count": 17,
   "metadata": {
    "colab": {},
    "colab_type": "code",
    "id": "rPqw-cO1KF3i"
   },
   "outputs": [],
   "source": [
    "pd.set_option('display.max_columns', None)\n",
    "pd.set_option(\"display.max_rows\",None)"
   ]
  },
  {
   "cell_type": "code",
   "execution_count": 18,
   "metadata": {
    "colab": {
     "base_uri": "https://localhost:8080/",
     "height": 564
    },
    "colab_type": "code",
    "executionInfo": {
     "elapsed": 609,
     "status": "ok",
     "timestamp": 1589040213059,
     "user": {
      "displayName": "Paula García",
      "photoUrl": "https://lh3.googleusercontent.com/a-/AOh14Gg4WKb6washm9YXiMQPHtgkJvqmBqySAQeKnD1n=s64",
      "userId": "11785220129244425743"
     },
     "user_tz": -120
    },
    "id": "cdXX4UrUKF3k",
    "outputId": "b51f7f83-0358-490e-86b3-4d90a3f6d1b1"
   },
   "outputs": [
    {
     "data": {
      "text/html": [
       "<div>\n",
       "<style scoped>\n",
       "    .dataframe tbody tr th:only-of-type {\n",
       "        vertical-align: middle;\n",
       "    }\n",
       "\n",
       "    .dataframe tbody tr th {\n",
       "        vertical-align: top;\n",
       "    }\n",
       "\n",
       "    .dataframe thead th {\n",
       "        text-align: right;\n",
       "    }\n",
       "</style>\n",
       "<table border=\"1\" class=\"dataframe\">\n",
       "  <thead>\n",
       "    <tr style=\"text-align: right;\">\n",
       "      <th></th>\n",
       "      <th>maximum_nights</th>\n",
       "      <th>extra_people</th>\n",
       "      <th>guests_included</th>\n",
       "      <th>beds</th>\n",
       "      <th>availability_365</th>\n",
       "      <th>accommodates</th>\n",
       "      <th>bedrooms</th>\n",
       "      <th>host_listings_count</th>\n",
       "      <th>host_for</th>\n",
       "      <th>number_of_reviews_ltm</th>\n",
       "      <th>minimum_nights</th>\n",
       "      <th>bathrooms</th>\n",
       "      <th>secure</th>\n",
       "      <th>cleaning_fee</th>\n",
       "      <th>room_type_private_room</th>\n",
       "      <th>host_acceptance_rate</th>\n",
       "      <th>elevator</th>\n",
       "      <th>white_goods</th>\n",
       "      <th>host_response_rate</th>\n",
       "      <th>security_deposit</th>\n",
       "      <th>government</th>\n",
       "      <th>review_scores_value</th>\n",
       "      <th>area_name_salamanca</th>\n",
       "      <th>area_name_san_blas</th>\n",
       "      <th>price</th>\n",
       "    </tr>\n",
       "  </thead>\n",
       "  <tbody>\n",
       "    <tr>\n",
       "      <th>0</th>\n",
       "      <td>365</td>\n",
       "      <td>15.0</td>\n",
       "      <td>2</td>\n",
       "      <td>0.0</td>\n",
       "      <td>77</td>\n",
       "      <td>2</td>\n",
       "      <td>1.0</td>\n",
       "      <td>1.0</td>\n",
       "      <td>4010</td>\n",
       "      <td>14</td>\n",
       "      <td>1</td>\n",
       "      <td>1.0</td>\n",
       "      <td>0.0</td>\n",
       "      <td>1.0</td>\n",
       "      <td>1</td>\n",
       "      <td>3.0</td>\n",
       "      <td>1.0</td>\n",
       "      <td>1.0</td>\n",
       "      <td>4.0</td>\n",
       "      <td>0.0</td>\n",
       "      <td>1.0</td>\n",
       "      <td>10.0</td>\n",
       "      <td>0</td>\n",
       "      <td>0</td>\n",
       "      <td>70.0</td>\n",
       "    </tr>\n",
       "    <tr>\n",
       "      <th>1</th>\n",
       "      <td>40</td>\n",
       "      <td>8.0</td>\n",
       "      <td>1</td>\n",
       "      <td>1.0</td>\n",
       "      <td>200</td>\n",
       "      <td>1</td>\n",
       "      <td>1.0</td>\n",
       "      <td>2.0</td>\n",
       "      <td>3699</td>\n",
       "      <td>0</td>\n",
       "      <td>4</td>\n",
       "      <td>1.0</td>\n",
       "      <td>0.0</td>\n",
       "      <td>0.0</td>\n",
       "      <td>1</td>\n",
       "      <td>4.0</td>\n",
       "      <td>1.0</td>\n",
       "      <td>1.0</td>\n",
       "      <td>4.0</td>\n",
       "      <td>0.0</td>\n",
       "      <td>1.0</td>\n",
       "      <td>9.0</td>\n",
       "      <td>0</td>\n",
       "      <td>0</td>\n",
       "      <td>17.0</td>\n",
       "    </tr>\n",
       "    <tr>\n",
       "      <th>2</th>\n",
       "      <td>730</td>\n",
       "      <td>10.0</td>\n",
       "      <td>1</td>\n",
       "      <td>5.0</td>\n",
       "      <td>249</td>\n",
       "      <td>6</td>\n",
       "      <td>3.0</td>\n",
       "      <td>9.0</td>\n",
       "      <td>3703</td>\n",
       "      <td>0</td>\n",
       "      <td>15</td>\n",
       "      <td>2.0</td>\n",
       "      <td>0.0</td>\n",
       "      <td>1.0</td>\n",
       "      <td>0</td>\n",
       "      <td>3.0</td>\n",
       "      <td>1.0</td>\n",
       "      <td>1.0</td>\n",
       "      <td>4.0</td>\n",
       "      <td>1.0</td>\n",
       "      <td>1.0</td>\n",
       "      <td>9.0</td>\n",
       "      <td>0</td>\n",
       "      <td>0</td>\n",
       "      <td>50.0</td>\n",
       "    </tr>\n",
       "    <tr>\n",
       "      <th>3</th>\n",
       "      <td>730</td>\n",
       "      <td>10.0</td>\n",
       "      <td>2</td>\n",
       "      <td>1.0</td>\n",
       "      <td>364</td>\n",
       "      <td>3</td>\n",
       "      <td>0.0</td>\n",
       "      <td>1.0</td>\n",
       "      <td>3661</td>\n",
       "      <td>7</td>\n",
       "      <td>4</td>\n",
       "      <td>1.0</td>\n",
       "      <td>0.0</td>\n",
       "      <td>1.0</td>\n",
       "      <td>0</td>\n",
       "      <td>3.0</td>\n",
       "      <td>1.0</td>\n",
       "      <td>1.0</td>\n",
       "      <td>4.0</td>\n",
       "      <td>1.0</td>\n",
       "      <td>1.0</td>\n",
       "      <td>10.0</td>\n",
       "      <td>0</td>\n",
       "      <td>0</td>\n",
       "      <td>89.0</td>\n",
       "    </tr>\n",
       "    <tr>\n",
       "      <th>4</th>\n",
       "      <td>10</td>\n",
       "      <td>0.0</td>\n",
       "      <td>4</td>\n",
       "      <td>3.0</td>\n",
       "      <td>322</td>\n",
       "      <td>4</td>\n",
       "      <td>2.0</td>\n",
       "      <td>1.0</td>\n",
       "      <td>3661</td>\n",
       "      <td>16</td>\n",
       "      <td>3</td>\n",
       "      <td>1.5</td>\n",
       "      <td>0.0</td>\n",
       "      <td>0.0</td>\n",
       "      <td>0</td>\n",
       "      <td>4.0</td>\n",
       "      <td>1.0</td>\n",
       "      <td>1.0</td>\n",
       "      <td>4.0</td>\n",
       "      <td>1.0</td>\n",
       "      <td>0.0</td>\n",
       "      <td>10.0</td>\n",
       "      <td>0</td>\n",
       "      <td>0</td>\n",
       "      <td>115.0</td>\n",
       "    </tr>\n",
       "  </tbody>\n",
       "</table>\n",
       "</div>"
      ],
      "text/plain": [
       "   maximum_nights  extra_people  guests_included  beds  availability_365  \\\n",
       "0             365          15.0                2   0.0                77   \n",
       "1              40           8.0                1   1.0               200   \n",
       "2             730          10.0                1   5.0               249   \n",
       "3             730          10.0                2   1.0               364   \n",
       "4              10           0.0                4   3.0               322   \n",
       "\n",
       "   accommodates  bedrooms  host_listings_count  host_for  \\\n",
       "0             2       1.0                  1.0      4010   \n",
       "1             1       1.0                  2.0      3699   \n",
       "2             6       3.0                  9.0      3703   \n",
       "3             3       0.0                  1.0      3661   \n",
       "4             4       2.0                  1.0      3661   \n",
       "\n",
       "   number_of_reviews_ltm  minimum_nights  bathrooms  secure  cleaning_fee  \\\n",
       "0                     14               1        1.0     0.0           1.0   \n",
       "1                      0               4        1.0     0.0           0.0   \n",
       "2                      0              15        2.0     0.0           1.0   \n",
       "3                      7               4        1.0     0.0           1.0   \n",
       "4                     16               3        1.5     0.0           0.0   \n",
       "\n",
       "   room_type_private_room  host_acceptance_rate  elevator  white_goods  \\\n",
       "0                       1                   3.0       1.0          1.0   \n",
       "1                       1                   4.0       1.0          1.0   \n",
       "2                       0                   3.0       1.0          1.0   \n",
       "3                       0                   3.0       1.0          1.0   \n",
       "4                       0                   4.0       1.0          1.0   \n",
       "\n",
       "   host_response_rate  security_deposit  government  review_scores_value  \\\n",
       "0                 4.0               0.0         1.0                 10.0   \n",
       "1                 4.0               0.0         1.0                  9.0   \n",
       "2                 4.0               1.0         1.0                  9.0   \n",
       "3                 4.0               1.0         1.0                 10.0   \n",
       "4                 4.0               1.0         0.0                 10.0   \n",
       "\n",
       "   area_name_salamanca  area_name_san_blas  price  \n",
       "0                    0                   0   70.0  \n",
       "1                    0                   0   17.0  \n",
       "2                    0                   0   50.0  \n",
       "3                    0                   0   89.0  \n",
       "4                    0                   0  115.0  "
      ]
     },
     "execution_count": 18,
     "metadata": {},
     "output_type": "execute_result"
    }
   ],
   "source": [
    "df.head()"
   ]
  },
  {
   "cell_type": "markdown",
   "metadata": {
    "colab_type": "text",
    "id": "tjMVaqLOwHUo"
   },
   "source": [
    "# Train Test Split"
   ]
  },
  {
   "cell_type": "code",
   "execution_count": 19,
   "metadata": {
    "colab": {
     "base_uri": "https://localhost:8080/",
     "height": 51
    },
    "colab_type": "code",
    "executionInfo": {
     "elapsed": 1016,
     "status": "ok",
     "timestamp": 1589040230326,
     "user": {
      "displayName": "Paula García",
      "photoUrl": "https://lh3.googleusercontent.com/a-/AOh14Gg4WKb6washm9YXiMQPHtgkJvqmBqySAQeKnD1n=s64",
      "userId": "11785220129244425743"
     },
     "user_tz": -120
    },
    "id": "vF_DQCgjKF3s",
    "outputId": "11beab1f-5afb-45ab-e4d0-66959298e485"
   },
   "outputs": [
    {
     "name": "stdout",
     "output_type": "stream",
     "text": [
      "Dataset shape: (15283, 25)\n",
      "Dataset shape: (6550, 25)\n"
     ]
    }
   ],
   "source": [
    "splitter = train_test_split\n",
    "\"-----------------------\"\n",
    "\n",
    "df_train, df_test = splitter(df, test_size = 0.3, random_state = 42)\n",
    "print(\"Dataset shape: {shape}\".format(shape = df_train.shape))\n",
    "print(\"Dataset shape: {shape}\".format(shape = df_test.shape))"
   ]
  },
  {
   "cell_type": "code",
   "execution_count": 20,
   "metadata": {
    "colab": {},
    "colab_type": "code",
    "id": "Z7qc6skLKF3v"
   },
   "outputs": [],
   "source": [
    "target = 'price'\n",
    "X_train= df_train.drop('price',axis=1)\n",
    "y_train = df_train[target]\n",
    "\n",
    "X_test= df_test.drop('price',axis=1)\n",
    "y_test = df_test[target]"
   ]
  },
  {
   "cell_type": "markdown",
   "metadata": {
    "colab_type": "text",
    "id": "7vd9epWZwToT"
   },
   "source": [
    "# Standardizing and Normalizing"
   ]
  },
  {
   "cell_type": "code",
   "execution_count": 21,
   "metadata": {
    "colab": {},
    "colab_type": "code",
    "id": "sOc_zOUvKF3x"
   },
   "outputs": [],
   "source": [
    "scaler = StandardScaler()\n",
    "X_train_sc = scaler.fit_transform(X_train)\n",
    "X_test_sc = scaler.fit_transform(X_test)\n",
    "X_train = pd.DataFrame(X_train_sc, index=X_train.index, columns=X_train.columns)\n",
    "X_test = pd.DataFrame(X_test_sc, index=X_test.index, columns=X_test.columns)"
   ]
  },
  {
   "cell_type": "code",
   "execution_count": 22,
   "metadata": {
    "colab": {},
    "colab_type": "code",
    "id": "zvNozfotKF3z"
   },
   "outputs": [],
   "source": [
    "scaler = MinMaxScaler()\n",
    "X_trains = scaler.fit_transform(X_train_sc)\n",
    "X_tests = scaler.fit_transform(X_test_sc)\n",
    "X_train = pd.DataFrame(X_trains, index=X_train.index, columns=X_train.columns)\n",
    "X_test = pd.DataFrame(X_tests, index=X_test.index, columns=X_test.columns)"
   ]
  },
  {
   "cell_type": "code",
   "execution_count": 23,
   "metadata": {
    "colab": {
     "base_uri": "https://localhost:8080/",
     "height": 258
    },
    "colab_type": "code",
    "executionInfo": {
     "elapsed": 714,
     "status": "ok",
     "timestamp": 1589040235432,
     "user": {
      "displayName": "Paula García",
      "photoUrl": "https://lh3.googleusercontent.com/a-/AOh14Gg4WKb6washm9YXiMQPHtgkJvqmBqySAQeKnD1n=s64",
      "userId": "11785220129244425743"
     },
     "user_tz": -120
    },
    "id": "NC0FC23xKF31",
    "outputId": "5264d6c6-4093-4006-f498-9291ac291fdc"
   },
   "outputs": [
    {
     "data": {
      "text/html": [
       "<div>\n",
       "<style scoped>\n",
       "    .dataframe tbody tr th:only-of-type {\n",
       "        vertical-align: middle;\n",
       "    }\n",
       "\n",
       "    .dataframe tbody tr th {\n",
       "        vertical-align: top;\n",
       "    }\n",
       "\n",
       "    .dataframe thead th {\n",
       "        text-align: right;\n",
       "    }\n",
       "</style>\n",
       "<table border=\"1\" class=\"dataframe\">\n",
       "  <thead>\n",
       "    <tr style=\"text-align: right;\">\n",
       "      <th></th>\n",
       "      <th>maximum_nights</th>\n",
       "      <th>extra_people</th>\n",
       "      <th>guests_included</th>\n",
       "      <th>beds</th>\n",
       "      <th>availability_365</th>\n",
       "      <th>accommodates</th>\n",
       "      <th>bedrooms</th>\n",
       "      <th>host_listings_count</th>\n",
       "      <th>host_for</th>\n",
       "      <th>number_of_reviews_ltm</th>\n",
       "      <th>minimum_nights</th>\n",
       "      <th>bathrooms</th>\n",
       "      <th>secure</th>\n",
       "      <th>cleaning_fee</th>\n",
       "      <th>room_type_private_room</th>\n",
       "      <th>host_acceptance_rate</th>\n",
       "      <th>elevator</th>\n",
       "      <th>white_goods</th>\n",
       "      <th>host_response_rate</th>\n",
       "      <th>security_deposit</th>\n",
       "      <th>government</th>\n",
       "      <th>review_scores_value</th>\n",
       "      <th>area_name_salamanca</th>\n",
       "      <th>area_name_san_blas</th>\n",
       "    </tr>\n",
       "  </thead>\n",
       "  <tbody>\n",
       "    <tr>\n",
       "      <th>3693</th>\n",
       "      <td>1.011600e-05</td>\n",
       "      <td>0.000000</td>\n",
       "      <td>0.000000</td>\n",
       "      <td>0.02</td>\n",
       "      <td>0.000000</td>\n",
       "      <td>0.052632</td>\n",
       "      <td>0.111111</td>\n",
       "      <td>0.001898</td>\n",
       "      <td>0.331536</td>\n",
       "      <td>0.000000</td>\n",
       "      <td>0.003559</td>\n",
       "      <td>0.090909</td>\n",
       "      <td>0.0</td>\n",
       "      <td>1.0</td>\n",
       "      <td>0.0</td>\n",
       "      <td>1.0</td>\n",
       "      <td>1.0</td>\n",
       "      <td>1.0</td>\n",
       "      <td>1.0</td>\n",
       "      <td>0.0</td>\n",
       "      <td>0.0</td>\n",
       "      <td>0.875</td>\n",
       "      <td>0.0</td>\n",
       "      <td>0.0</td>\n",
       "    </tr>\n",
       "    <tr>\n",
       "      <th>6385</th>\n",
       "      <td>1.011600e-05</td>\n",
       "      <td>0.000000</td>\n",
       "      <td>0.000000</td>\n",
       "      <td>0.02</td>\n",
       "      <td>0.715068</td>\n",
       "      <td>0.000000</td>\n",
       "      <td>0.111111</td>\n",
       "      <td>0.009488</td>\n",
       "      <td>0.478314</td>\n",
       "      <td>0.039877</td>\n",
       "      <td>0.024021</td>\n",
       "      <td>0.090909</td>\n",
       "      <td>0.0</td>\n",
       "      <td>1.0</td>\n",
       "      <td>1.0</td>\n",
       "      <td>1.0</td>\n",
       "      <td>0.0</td>\n",
       "      <td>1.0</td>\n",
       "      <td>1.0</td>\n",
       "      <td>1.0</td>\n",
       "      <td>1.0</td>\n",
       "      <td>0.875</td>\n",
       "      <td>0.0</td>\n",
       "      <td>0.0</td>\n",
       "    </tr>\n",
       "    <tr>\n",
       "      <th>4029</th>\n",
       "      <td>1.260000e-07</td>\n",
       "      <td>0.000000</td>\n",
       "      <td>0.000000</td>\n",
       "      <td>0.04</td>\n",
       "      <td>0.000000</td>\n",
       "      <td>0.157895</td>\n",
       "      <td>0.111111</td>\n",
       "      <td>0.001898</td>\n",
       "      <td>0.635874</td>\n",
       "      <td>0.000000</td>\n",
       "      <td>0.003559</td>\n",
       "      <td>0.090909</td>\n",
       "      <td>1.0</td>\n",
       "      <td>1.0</td>\n",
       "      <td>0.0</td>\n",
       "      <td>1.0</td>\n",
       "      <td>1.0</td>\n",
       "      <td>1.0</td>\n",
       "      <td>1.0</td>\n",
       "      <td>1.0</td>\n",
       "      <td>1.0</td>\n",
       "      <td>0.875</td>\n",
       "      <td>1.0</td>\n",
       "      <td>0.0</td>\n",
       "    </tr>\n",
       "    <tr>\n",
       "      <th>7220</th>\n",
       "      <td>8.010000e-07</td>\n",
       "      <td>0.055762</td>\n",
       "      <td>0.066667</td>\n",
       "      <td>0.04</td>\n",
       "      <td>0.873973</td>\n",
       "      <td>0.263158</td>\n",
       "      <td>0.222222</td>\n",
       "      <td>0.091082</td>\n",
       "      <td>0.520706</td>\n",
       "      <td>0.079755</td>\n",
       "      <td>0.001779</td>\n",
       "      <td>0.090909</td>\n",
       "      <td>0.0</td>\n",
       "      <td>1.0</td>\n",
       "      <td>0.0</td>\n",
       "      <td>1.0</td>\n",
       "      <td>0.0</td>\n",
       "      <td>1.0</td>\n",
       "      <td>1.0</td>\n",
       "      <td>1.0</td>\n",
       "      <td>0.0</td>\n",
       "      <td>1.000</td>\n",
       "      <td>0.0</td>\n",
       "      <td>0.0</td>\n",
       "    </tr>\n",
       "    <tr>\n",
       "      <th>3995</th>\n",
       "      <td>1.800000e-07</td>\n",
       "      <td>0.037175</td>\n",
       "      <td>0.000000</td>\n",
       "      <td>0.02</td>\n",
       "      <td>0.158904</td>\n",
       "      <td>0.052632</td>\n",
       "      <td>0.111111</td>\n",
       "      <td>0.001898</td>\n",
       "      <td>0.323940</td>\n",
       "      <td>0.015337</td>\n",
       "      <td>0.001779</td>\n",
       "      <td>0.090909</td>\n",
       "      <td>0.0</td>\n",
       "      <td>0.0</td>\n",
       "      <td>1.0</td>\n",
       "      <td>1.0</td>\n",
       "      <td>1.0</td>\n",
       "      <td>0.0</td>\n",
       "      <td>1.0</td>\n",
       "      <td>1.0</td>\n",
       "      <td>0.0</td>\n",
       "      <td>0.875</td>\n",
       "      <td>0.0</td>\n",
       "      <td>0.0</td>\n",
       "    </tr>\n",
       "  </tbody>\n",
       "</table>\n",
       "</div>"
      ],
      "text/plain": [
       "      maximum_nights  extra_people  guests_included  beds  availability_365  \\\n",
       "3693    1.011600e-05      0.000000         0.000000  0.02          0.000000   \n",
       "6385    1.011600e-05      0.000000         0.000000  0.02          0.715068   \n",
       "4029    1.260000e-07      0.000000         0.000000  0.04          0.000000   \n",
       "7220    8.010000e-07      0.055762         0.066667  0.04          0.873973   \n",
       "3995    1.800000e-07      0.037175         0.000000  0.02          0.158904   \n",
       "\n",
       "      accommodates  bedrooms  host_listings_count  host_for  \\\n",
       "3693      0.052632  0.111111             0.001898  0.331536   \n",
       "6385      0.000000  0.111111             0.009488  0.478314   \n",
       "4029      0.157895  0.111111             0.001898  0.635874   \n",
       "7220      0.263158  0.222222             0.091082  0.520706   \n",
       "3995      0.052632  0.111111             0.001898  0.323940   \n",
       "\n",
       "      number_of_reviews_ltm  minimum_nights  bathrooms  secure  cleaning_fee  \\\n",
       "3693               0.000000        0.003559   0.090909     0.0           1.0   \n",
       "6385               0.039877        0.024021   0.090909     0.0           1.0   \n",
       "4029               0.000000        0.003559   0.090909     1.0           1.0   \n",
       "7220               0.079755        0.001779   0.090909     0.0           1.0   \n",
       "3995               0.015337        0.001779   0.090909     0.0           0.0   \n",
       "\n",
       "      room_type_private_room  host_acceptance_rate  elevator  white_goods  \\\n",
       "3693                     0.0                   1.0       1.0          1.0   \n",
       "6385                     1.0                   1.0       0.0          1.0   \n",
       "4029                     0.0                   1.0       1.0          1.0   \n",
       "7220                     0.0                   1.0       0.0          1.0   \n",
       "3995                     1.0                   1.0       1.0          0.0   \n",
       "\n",
       "      host_response_rate  security_deposit  government  review_scores_value  \\\n",
       "3693                 1.0               0.0         0.0                0.875   \n",
       "6385                 1.0               1.0         1.0                0.875   \n",
       "4029                 1.0               1.0         1.0                0.875   \n",
       "7220                 1.0               1.0         0.0                1.000   \n",
       "3995                 1.0               1.0         0.0                0.875   \n",
       "\n",
       "      area_name_salamanca  area_name_san_blas  \n",
       "3693                  0.0                 0.0  \n",
       "6385                  0.0                 0.0  \n",
       "4029                  1.0                 0.0  \n",
       "7220                  0.0                 0.0  \n",
       "3995                  0.0                 0.0  "
      ]
     },
     "execution_count": 23,
     "metadata": {},
     "output_type": "execute_result"
    }
   ],
   "source": [
    "X_train.head()"
   ]
  },
  {
   "cell_type": "markdown",
   "metadata": {
    "colab_type": "text",
    "id": "IsyIJ7Q5KF4I"
   },
   "source": [
    "# Neural Network"
   ]
  },
  {
   "cell_type": "markdown",
   "metadata": {
    "colab_type": "text",
    "id": "LmyNsTthMx7X"
   },
   "source": [
    "__Fit the Neural Network__\n",
    "\n",
    "hidden_layer_sizestuple, length = n_layers - 2, default=(100,)\n",
    "\n",
    "activation{‘identity’, ‘logistic’, ‘tanh’, ‘relu’}, default=’relu’\n",
    "\n",
    "solver{‘lbfgs’, ‘sgd’, ‘adam’}, default=’adam’\n",
    "\n",
    "alphafloat, default=0.0001\n",
    "\n",
    "batch_sizeint, default=’auto’\n",
    "\n",
    "learning_rate{‘constant’, ‘invscaling’, ‘adaptive’}, default=’constant’\n",
    "Only used when solver=’sgd’.\n",
    "\n",
    "learning_rate_initdouble, default=0.001\n",
    "\n",
    "power_tdouble, default=0.5\n",
    "\n",
    "max_iterint, default=200\n",
    "\n",
    "shufflebool, default=True\n",
    "\n",
    "random_stateint, RandomState instance or None, default=None\n",
    "\n",
    "tolfloat, default=1e-4\n",
    "\n",
    "verbosebool, default=False\n",
    "\n",
    "warm_startbool, default=False\n",
    "\n",
    "momentumfloat, default=0.9\n",
    "Only used when solver=’sgd’.\n",
    "\n",
    "nesterovs_momentumboolean, default=True\n",
    "Only used when solver=’sgd’ and momentum > 0.\n",
    "\n",
    "early_stoppingbool, default=False\n",
    "Only effective when solver=’sgd’ or ‘adam’\n",
    "\n",
    "validation_fractionfloat, default=0.1\n",
    "Only used if early_stopping is True\n",
    "\n",
    "beta_1float, default=0.9\n",
    "Only used when solver=’adam’\n",
    "\n",
    "beta_2float, default=0.999\n",
    "Only used when solver=’adam’\n",
    "\n",
    "epsilonfloat, default=1e-8\n",
    "Only used when solver=’adam’\n",
    "\n",
    "n_iter_no_changeint, default=10\n",
    "Only effective when solver=’sgd’ or ‘adam’\n",
    "\n",
    "max_funint, default=15000"
   ]
  },
  {
   "cell_type": "code",
   "execution_count": 10,
   "metadata": {
    "colab": {
     "base_uri": "https://localhost:8080/",
     "height": 71
    },
    "colab_type": "code",
    "executionInfo": {
     "elapsed": 10263,
     "status": "ok",
     "timestamp": 1589042096118,
     "user": {
      "displayName": "Paula García",
      "photoUrl": "https://lh3.googleusercontent.com/a-/AOh14Gg4WKb6washm9YXiMQPHtgkJvqmBqySAQeKnD1n=s64",
      "userId": "11785220129244425743"
     },
     "user_tz": -120
    },
    "id": "CddsFj-hMxXB",
    "outputId": "fe11ddab-a75e-4a6e-eaa8-ee4edecbcb7b"
   },
   "outputs": [
    {
     "name": "stderr",
     "output_type": "stream",
     "text": [
      "/Applications/anaconda3/lib/python3.7/site-packages/sklearn/neural_network/_multilayer_perceptron.py:571: ConvergenceWarning: Stochastic Optimizer: Maximum iterations (200) reached and the optimization hasn't converged yet.\n",
      "  % self.max_iter, ConvergenceWarning)\n"
     ]
    }
   ],
   "source": [
    "clf = MLPRegressor(hidden_layer_sizes=(16,16),activation='tanh',solver='adam',random_state=0)\n",
    "clf = clf.fit(X_train, y_train)"
   ]
  },
  {
   "cell_type": "code",
   "execution_count": 11,
   "metadata": {
    "colab": {},
    "colab_type": "code",
    "id": "mq6GLCIDKF4c"
   },
   "outputs": [],
   "source": [
    "y_pred = clf.predict(X_test)\n",
    "y_predT = clf.predict(X_train)"
   ]
  },
  {
   "cell_type": "code",
   "execution_count": 24,
   "metadata": {
    "colab": {},
    "colab_type": "code",
    "id": "pfZJktiiKF4a"
   },
   "outputs": [],
   "source": [
    "def mean_absolute_percentage_error(y_true,y_pred):\n",
    "    y_true = np.array(y_true)\n",
    "    y_pred = np.array(y_pred)\n",
    "    return (np.sum(np.abs(y_true-y_pred)/y_true)/len(y_true))*100"
   ]
  },
  {
   "cell_type": "code",
   "execution_count": 13,
   "metadata": {
    "colab": {
     "base_uri": "https://localhost:8080/",
     "height": 51
    },
    "colab_type": "code",
    "executionInfo": {
     "elapsed": 8962,
     "status": "ok",
     "timestamp": 1589042096120,
     "user": {
      "displayName": "Paula García",
      "photoUrl": "https://lh3.googleusercontent.com/a-/AOh14Gg4WKb6washm9YXiMQPHtgkJvqmBqySAQeKnD1n=s64",
      "userId": "11785220129244425743"
     },
     "user_tz": -120
    },
    "id": "huZDf7q9PRkW",
    "outputId": "554b118c-84bf-4a5e-ed23-c5df6e474db7"
   },
   "outputs": [
    {
     "name": "stdout",
     "output_type": "stream",
     "text": [
      "TRAIN 80.379399814478\n",
      "TEST 77.65193986226753\n"
     ]
    }
   ],
   "source": [
    "print('TRAIN',mean_absolute_percentage_error(y_train, y_predT))\n",
    "print('TEST',mean_absolute_percentage_error(y_test, y_pred))"
   ]
  },
  {
   "cell_type": "markdown",
   "metadata": {
    "colab_type": "text",
    "id": "tMjbGdgTwyI_"
   },
   "source": [
    "Camila Barbagallo, Ryan Daher, Paula García, Rocío González Lantero"
   ]
  }
 ],
 "metadata": {
  "colab": {
   "collapsed_sections": [],
   "name": "MLP.ipynb",
   "provenance": []
  },
  "kernelspec": {
   "display_name": "Python 3",
   "language": "python",
   "name": "python3"
  },
  "language_info": {
   "codemirror_mode": {
    "name": "ipython",
    "version": 3
   },
   "file_extension": ".py",
   "mimetype": "text/x-python",
   "name": "python",
   "nbconvert_exporter": "python",
   "pygments_lexer": "ipython3",
   "version": "3.7.6"
  }
 },
 "nbformat": 4,
 "nbformat_minor": 1
}
