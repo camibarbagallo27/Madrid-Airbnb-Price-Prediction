{
 "cells": [
  {
   "cell_type": "code",
   "execution_count": 1,
   "metadata": {
    "colab": {},
    "colab_type": "code",
    "id": "CGTy6iiRz1IU"
   },
   "outputs": [],
   "source": [
    "import pandas as pd\n",
    "import numpy as np\n",
    "from sklearn.model_selection import train_test_split\n",
    "from sklearn.preprocessing import StandardScaler\n",
    "from sklearn.preprocessing import MinMaxScaler\n",
    "from sklearn.tree import DecisionTreeRegressor\n",
    "from sklearn.metrics import mean_squared_error\n",
    "from sklearn import linear_model\n",
    "from sklearn.linear_model import ElasticNet\n",
    "from sklearn.metrics import r2_score"
   ]
  },
  {
   "cell_type": "code",
   "execution_count": 2,
   "metadata": {
    "colab": {},
    "colab_type": "code",
    "id": "NfaiDWoO0Bml"
   },
   "outputs": [],
   "source": [
    "df= pd.read_csv('./CSVs/Modelling.csv')"
   ]
  },
  {
   "cell_type": "code",
   "execution_count": 3,
   "metadata": {
    "colab": {},
    "colab_type": "code",
    "id": "dAkRdENU0FN0"
   },
   "outputs": [],
   "source": [
    "pd.set_option('display.max_columns', None)\n",
    "pd.set_option(\"display.max_rows\",None)"
   ]
  },
  {
   "cell_type": "code",
   "execution_count": 4,
   "metadata": {
    "colab": {},
    "colab_type": "code",
    "id": "XB3TmJAs0Gyk"
   },
   "outputs": [
    {
     "data": {
      "text/html": [
       "<div>\n",
       "<style scoped>\n",
       "    .dataframe tbody tr th:only-of-type {\n",
       "        vertical-align: middle;\n",
       "    }\n",
       "\n",
       "    .dataframe tbody tr th {\n",
       "        vertical-align: top;\n",
       "    }\n",
       "\n",
       "    .dataframe thead th {\n",
       "        text-align: right;\n",
       "    }\n",
       "</style>\n",
       "<table border=\"1\" class=\"dataframe\">\n",
       "  <thead>\n",
       "    <tr style=\"text-align: right;\">\n",
       "      <th></th>\n",
       "      <th>maximum_nights</th>\n",
       "      <th>extra_people</th>\n",
       "      <th>guests_included</th>\n",
       "      <th>beds</th>\n",
       "      <th>availability_365</th>\n",
       "      <th>accommodates</th>\n",
       "      <th>bedrooms</th>\n",
       "      <th>host_listings_count</th>\n",
       "      <th>host_for</th>\n",
       "      <th>number_of_reviews_ltm</th>\n",
       "      <th>minimum_nights</th>\n",
       "      <th>bathrooms</th>\n",
       "      <th>secure</th>\n",
       "      <th>cleaning_fee</th>\n",
       "      <th>room_type_private_room</th>\n",
       "      <th>host_acceptance_rate</th>\n",
       "      <th>elevator</th>\n",
       "      <th>white_goods</th>\n",
       "      <th>host_response_rate</th>\n",
       "      <th>security_deposit</th>\n",
       "      <th>government</th>\n",
       "      <th>review_scores_value</th>\n",
       "      <th>area_name_salamanca</th>\n",
       "      <th>area_name_san_blas</th>\n",
       "      <th>price</th>\n",
       "    </tr>\n",
       "  </thead>\n",
       "  <tbody>\n",
       "    <tr>\n",
       "      <th>0</th>\n",
       "      <td>365</td>\n",
       "      <td>15.0</td>\n",
       "      <td>2</td>\n",
       "      <td>0.0</td>\n",
       "      <td>77</td>\n",
       "      <td>2</td>\n",
       "      <td>1.0</td>\n",
       "      <td>1.0</td>\n",
       "      <td>4010</td>\n",
       "      <td>14</td>\n",
       "      <td>1</td>\n",
       "      <td>1.0</td>\n",
       "      <td>0.0</td>\n",
       "      <td>1.0</td>\n",
       "      <td>1</td>\n",
       "      <td>3.0</td>\n",
       "      <td>1.0</td>\n",
       "      <td>1.0</td>\n",
       "      <td>4.0</td>\n",
       "      <td>0.0</td>\n",
       "      <td>1.0</td>\n",
       "      <td>10.0</td>\n",
       "      <td>0</td>\n",
       "      <td>0</td>\n",
       "      <td>70.0</td>\n",
       "    </tr>\n",
       "    <tr>\n",
       "      <th>1</th>\n",
       "      <td>40</td>\n",
       "      <td>8.0</td>\n",
       "      <td>1</td>\n",
       "      <td>1.0</td>\n",
       "      <td>200</td>\n",
       "      <td>1</td>\n",
       "      <td>1.0</td>\n",
       "      <td>2.0</td>\n",
       "      <td>3699</td>\n",
       "      <td>0</td>\n",
       "      <td>4</td>\n",
       "      <td>1.0</td>\n",
       "      <td>0.0</td>\n",
       "      <td>0.0</td>\n",
       "      <td>1</td>\n",
       "      <td>4.0</td>\n",
       "      <td>1.0</td>\n",
       "      <td>1.0</td>\n",
       "      <td>4.0</td>\n",
       "      <td>0.0</td>\n",
       "      <td>1.0</td>\n",
       "      <td>9.0</td>\n",
       "      <td>0</td>\n",
       "      <td>0</td>\n",
       "      <td>17.0</td>\n",
       "    </tr>\n",
       "    <tr>\n",
       "      <th>2</th>\n",
       "      <td>730</td>\n",
       "      <td>10.0</td>\n",
       "      <td>1</td>\n",
       "      <td>5.0</td>\n",
       "      <td>249</td>\n",
       "      <td>6</td>\n",
       "      <td>3.0</td>\n",
       "      <td>9.0</td>\n",
       "      <td>3703</td>\n",
       "      <td>0</td>\n",
       "      <td>15</td>\n",
       "      <td>2.0</td>\n",
       "      <td>0.0</td>\n",
       "      <td>1.0</td>\n",
       "      <td>0</td>\n",
       "      <td>3.0</td>\n",
       "      <td>1.0</td>\n",
       "      <td>1.0</td>\n",
       "      <td>4.0</td>\n",
       "      <td>1.0</td>\n",
       "      <td>1.0</td>\n",
       "      <td>9.0</td>\n",
       "      <td>0</td>\n",
       "      <td>0</td>\n",
       "      <td>50.0</td>\n",
       "    </tr>\n",
       "    <tr>\n",
       "      <th>3</th>\n",
       "      <td>730</td>\n",
       "      <td>10.0</td>\n",
       "      <td>2</td>\n",
       "      <td>1.0</td>\n",
       "      <td>364</td>\n",
       "      <td>3</td>\n",
       "      <td>0.0</td>\n",
       "      <td>1.0</td>\n",
       "      <td>3661</td>\n",
       "      <td>7</td>\n",
       "      <td>4</td>\n",
       "      <td>1.0</td>\n",
       "      <td>0.0</td>\n",
       "      <td>1.0</td>\n",
       "      <td>0</td>\n",
       "      <td>3.0</td>\n",
       "      <td>1.0</td>\n",
       "      <td>1.0</td>\n",
       "      <td>4.0</td>\n",
       "      <td>1.0</td>\n",
       "      <td>1.0</td>\n",
       "      <td>10.0</td>\n",
       "      <td>0</td>\n",
       "      <td>0</td>\n",
       "      <td>89.0</td>\n",
       "    </tr>\n",
       "    <tr>\n",
       "      <th>4</th>\n",
       "      <td>10</td>\n",
       "      <td>0.0</td>\n",
       "      <td>4</td>\n",
       "      <td>3.0</td>\n",
       "      <td>322</td>\n",
       "      <td>4</td>\n",
       "      <td>2.0</td>\n",
       "      <td>1.0</td>\n",
       "      <td>3661</td>\n",
       "      <td>16</td>\n",
       "      <td>3</td>\n",
       "      <td>1.5</td>\n",
       "      <td>0.0</td>\n",
       "      <td>0.0</td>\n",
       "      <td>0</td>\n",
       "      <td>4.0</td>\n",
       "      <td>1.0</td>\n",
       "      <td>1.0</td>\n",
       "      <td>4.0</td>\n",
       "      <td>1.0</td>\n",
       "      <td>0.0</td>\n",
       "      <td>10.0</td>\n",
       "      <td>0</td>\n",
       "      <td>0</td>\n",
       "      <td>115.0</td>\n",
       "    </tr>\n",
       "  </tbody>\n",
       "</table>\n",
       "</div>"
      ],
      "text/plain": [
       "   maximum_nights  extra_people  guests_included  beds  availability_365  \\\n",
       "0             365          15.0                2   0.0                77   \n",
       "1              40           8.0                1   1.0               200   \n",
       "2             730          10.0                1   5.0               249   \n",
       "3             730          10.0                2   1.0               364   \n",
       "4              10           0.0                4   3.0               322   \n",
       "\n",
       "   accommodates  bedrooms  host_listings_count  host_for  \\\n",
       "0             2       1.0                  1.0      4010   \n",
       "1             1       1.0                  2.0      3699   \n",
       "2             6       3.0                  9.0      3703   \n",
       "3             3       0.0                  1.0      3661   \n",
       "4             4       2.0                  1.0      3661   \n",
       "\n",
       "   number_of_reviews_ltm  minimum_nights  bathrooms  secure  cleaning_fee  \\\n",
       "0                     14               1        1.0     0.0           1.0   \n",
       "1                      0               4        1.0     0.0           0.0   \n",
       "2                      0              15        2.0     0.0           1.0   \n",
       "3                      7               4        1.0     0.0           1.0   \n",
       "4                     16               3        1.5     0.0           0.0   \n",
       "\n",
       "   room_type_private_room  host_acceptance_rate  elevator  white_goods  \\\n",
       "0                       1                   3.0       1.0          1.0   \n",
       "1                       1                   4.0       1.0          1.0   \n",
       "2                       0                   3.0       1.0          1.0   \n",
       "3                       0                   3.0       1.0          1.0   \n",
       "4                       0                   4.0       1.0          1.0   \n",
       "\n",
       "   host_response_rate  security_deposit  government  review_scores_value  \\\n",
       "0                 4.0               0.0         1.0                 10.0   \n",
       "1                 4.0               0.0         1.0                  9.0   \n",
       "2                 4.0               1.0         1.0                  9.0   \n",
       "3                 4.0               1.0         1.0                 10.0   \n",
       "4                 4.0               1.0         0.0                 10.0   \n",
       "\n",
       "   area_name_salamanca  area_name_san_blas  price  \n",
       "0                    0                   0   70.0  \n",
       "1                    0                   0   17.0  \n",
       "2                    0                   0   50.0  \n",
       "3                    0                   0   89.0  \n",
       "4                    0                   0  115.0  "
      ]
     },
     "execution_count": 4,
     "metadata": {},
     "output_type": "execute_result"
    }
   ],
   "source": [
    "df.head()"
   ]
  },
  {
   "cell_type": "markdown",
   "metadata": {
    "colab_type": "text",
    "id": "JL_eva700Ohv"
   },
   "source": [
    "# Train Test Split"
   ]
  },
  {
   "cell_type": "code",
   "execution_count": 5,
   "metadata": {
    "colab": {},
    "colab_type": "code",
    "id": "rrQKArx_0Iq-"
   },
   "outputs": [
    {
     "name": "stdout",
     "output_type": "stream",
     "text": [
      "Dataset shape: (15283, 25)\n",
      "Dataset shape: (6550, 25)\n"
     ]
    }
   ],
   "source": [
    "splitter = train_test_split\n",
    "\"-----------------------\"\n",
    "\n",
    "df_train, df_test = splitter(df, test_size = 0.3, random_state = 42)\n",
    "print(\"Dataset shape: {shape}\".format(shape = df_train.shape))\n",
    "print(\"Dataset shape: {shape}\".format(shape = df_test.shape))"
   ]
  },
  {
   "cell_type": "code",
   "execution_count": 6,
   "metadata": {
    "colab": {},
    "colab_type": "code",
    "id": "9xu_Bh-E0Q07"
   },
   "outputs": [],
   "source": [
    "target = 'price'\n",
    "\n",
    "X_train= df_train.drop('price',axis=1)\n",
    "y_train = df_train[target]\n",
    "\n",
    "X_test= df_test.drop('price',axis=1)\n",
    "y_test = df_test[target]"
   ]
  },
  {
   "cell_type": "markdown",
   "metadata": {
    "colab_type": "text",
    "id": "QAM6QaNI0TJR"
   },
   "source": [
    "# Standardizing and Normalizing"
   ]
  },
  {
   "cell_type": "code",
   "execution_count": 7,
   "metadata": {
    "colab": {},
    "colab_type": "code",
    "id": "yIGPxZGF0Vgk"
   },
   "outputs": [],
   "source": [
    "scaler = StandardScaler()\n",
    "X_train_sc = scaler.fit_transform(X_train)\n",
    "X_test_sc = scaler.fit_transform(X_test)\n",
    "X_train = pd.DataFrame(X_train_sc, index=X_train.index, columns=X_train.columns)\n",
    "X_test = pd.DataFrame(X_test_sc, index=X_test.index, columns=X_test.columns)"
   ]
  },
  {
   "cell_type": "code",
   "execution_count": 8,
   "metadata": {
    "colab": {},
    "colab_type": "code",
    "id": "ch43Ozvi0YTQ"
   },
   "outputs": [],
   "source": [
    "scaler = MinMaxScaler()\n",
    "X_trains = scaler.fit_transform(X_train_sc)\n",
    "X_tests = scaler.fit_transform(X_test_sc)\n",
    "X_train = pd.DataFrame(X_trains, index=X_train.index, columns=X_train.columns)\n",
    "X_test = pd.DataFrame(X_tests, index=X_test.index, columns=X_test.columns)"
   ]
  },
  {
   "cell_type": "code",
   "execution_count": 9,
   "metadata": {
    "colab": {},
    "colab_type": "code",
    "id": "d-JRRXhc0aIc",
    "scrolled": true
   },
   "outputs": [
    {
     "data": {
      "text/html": [
       "<div>\n",
       "<style scoped>\n",
       "    .dataframe tbody tr th:only-of-type {\n",
       "        vertical-align: middle;\n",
       "    }\n",
       "\n",
       "    .dataframe tbody tr th {\n",
       "        vertical-align: top;\n",
       "    }\n",
       "\n",
       "    .dataframe thead th {\n",
       "        text-align: right;\n",
       "    }\n",
       "</style>\n",
       "<table border=\"1\" class=\"dataframe\">\n",
       "  <thead>\n",
       "    <tr style=\"text-align: right;\">\n",
       "      <th></th>\n",
       "      <th>maximum_nights</th>\n",
       "      <th>extra_people</th>\n",
       "      <th>guests_included</th>\n",
       "      <th>beds</th>\n",
       "      <th>availability_365</th>\n",
       "      <th>accommodates</th>\n",
       "      <th>bedrooms</th>\n",
       "      <th>host_listings_count</th>\n",
       "      <th>host_for</th>\n",
       "      <th>number_of_reviews_ltm</th>\n",
       "      <th>minimum_nights</th>\n",
       "      <th>bathrooms</th>\n",
       "      <th>secure</th>\n",
       "      <th>cleaning_fee</th>\n",
       "      <th>room_type_private_room</th>\n",
       "      <th>host_acceptance_rate</th>\n",
       "      <th>elevator</th>\n",
       "      <th>white_goods</th>\n",
       "      <th>host_response_rate</th>\n",
       "      <th>security_deposit</th>\n",
       "      <th>government</th>\n",
       "      <th>review_scores_value</th>\n",
       "      <th>area_name_salamanca</th>\n",
       "      <th>area_name_san_blas</th>\n",
       "    </tr>\n",
       "  </thead>\n",
       "  <tbody>\n",
       "    <tr>\n",
       "      <th>3693</th>\n",
       "      <td>1.011600e-05</td>\n",
       "      <td>0.000000</td>\n",
       "      <td>0.000000</td>\n",
       "      <td>0.02</td>\n",
       "      <td>0.000000</td>\n",
       "      <td>0.052632</td>\n",
       "      <td>0.111111</td>\n",
       "      <td>0.001898</td>\n",
       "      <td>0.331536</td>\n",
       "      <td>0.000000</td>\n",
       "      <td>0.003559</td>\n",
       "      <td>0.090909</td>\n",
       "      <td>0.0</td>\n",
       "      <td>1.0</td>\n",
       "      <td>0.0</td>\n",
       "      <td>1.0</td>\n",
       "      <td>1.0</td>\n",
       "      <td>1.0</td>\n",
       "      <td>1.0</td>\n",
       "      <td>0.0</td>\n",
       "      <td>0.0</td>\n",
       "      <td>0.875</td>\n",
       "      <td>0.0</td>\n",
       "      <td>0.0</td>\n",
       "    </tr>\n",
       "    <tr>\n",
       "      <th>6385</th>\n",
       "      <td>1.011600e-05</td>\n",
       "      <td>0.000000</td>\n",
       "      <td>0.000000</td>\n",
       "      <td>0.02</td>\n",
       "      <td>0.715068</td>\n",
       "      <td>0.000000</td>\n",
       "      <td>0.111111</td>\n",
       "      <td>0.009488</td>\n",
       "      <td>0.478314</td>\n",
       "      <td>0.039877</td>\n",
       "      <td>0.024021</td>\n",
       "      <td>0.090909</td>\n",
       "      <td>0.0</td>\n",
       "      <td>1.0</td>\n",
       "      <td>1.0</td>\n",
       "      <td>1.0</td>\n",
       "      <td>0.0</td>\n",
       "      <td>1.0</td>\n",
       "      <td>1.0</td>\n",
       "      <td>1.0</td>\n",
       "      <td>1.0</td>\n",
       "      <td>0.875</td>\n",
       "      <td>0.0</td>\n",
       "      <td>0.0</td>\n",
       "    </tr>\n",
       "    <tr>\n",
       "      <th>4029</th>\n",
       "      <td>1.260000e-07</td>\n",
       "      <td>0.000000</td>\n",
       "      <td>0.000000</td>\n",
       "      <td>0.04</td>\n",
       "      <td>0.000000</td>\n",
       "      <td>0.157895</td>\n",
       "      <td>0.111111</td>\n",
       "      <td>0.001898</td>\n",
       "      <td>0.635874</td>\n",
       "      <td>0.000000</td>\n",
       "      <td>0.003559</td>\n",
       "      <td>0.090909</td>\n",
       "      <td>1.0</td>\n",
       "      <td>1.0</td>\n",
       "      <td>0.0</td>\n",
       "      <td>1.0</td>\n",
       "      <td>1.0</td>\n",
       "      <td>1.0</td>\n",
       "      <td>1.0</td>\n",
       "      <td>1.0</td>\n",
       "      <td>1.0</td>\n",
       "      <td>0.875</td>\n",
       "      <td>1.0</td>\n",
       "      <td>0.0</td>\n",
       "    </tr>\n",
       "    <tr>\n",
       "      <th>7220</th>\n",
       "      <td>8.010000e-07</td>\n",
       "      <td>0.055762</td>\n",
       "      <td>0.066667</td>\n",
       "      <td>0.04</td>\n",
       "      <td>0.873973</td>\n",
       "      <td>0.263158</td>\n",
       "      <td>0.222222</td>\n",
       "      <td>0.091082</td>\n",
       "      <td>0.520706</td>\n",
       "      <td>0.079755</td>\n",
       "      <td>0.001779</td>\n",
       "      <td>0.090909</td>\n",
       "      <td>0.0</td>\n",
       "      <td>1.0</td>\n",
       "      <td>0.0</td>\n",
       "      <td>1.0</td>\n",
       "      <td>0.0</td>\n",
       "      <td>1.0</td>\n",
       "      <td>1.0</td>\n",
       "      <td>1.0</td>\n",
       "      <td>0.0</td>\n",
       "      <td>1.000</td>\n",
       "      <td>0.0</td>\n",
       "      <td>0.0</td>\n",
       "    </tr>\n",
       "    <tr>\n",
       "      <th>3995</th>\n",
       "      <td>1.800000e-07</td>\n",
       "      <td>0.037175</td>\n",
       "      <td>0.000000</td>\n",
       "      <td>0.02</td>\n",
       "      <td>0.158904</td>\n",
       "      <td>0.052632</td>\n",
       "      <td>0.111111</td>\n",
       "      <td>0.001898</td>\n",
       "      <td>0.323940</td>\n",
       "      <td>0.015337</td>\n",
       "      <td>0.001779</td>\n",
       "      <td>0.090909</td>\n",
       "      <td>0.0</td>\n",
       "      <td>0.0</td>\n",
       "      <td>1.0</td>\n",
       "      <td>1.0</td>\n",
       "      <td>1.0</td>\n",
       "      <td>0.0</td>\n",
       "      <td>1.0</td>\n",
       "      <td>1.0</td>\n",
       "      <td>0.0</td>\n",
       "      <td>0.875</td>\n",
       "      <td>0.0</td>\n",
       "      <td>0.0</td>\n",
       "    </tr>\n",
       "  </tbody>\n",
       "</table>\n",
       "</div>"
      ],
      "text/plain": [
       "      maximum_nights  extra_people  guests_included  beds  availability_365  \\\n",
       "3693    1.011600e-05      0.000000         0.000000  0.02          0.000000   \n",
       "6385    1.011600e-05      0.000000         0.000000  0.02          0.715068   \n",
       "4029    1.260000e-07      0.000000         0.000000  0.04          0.000000   \n",
       "7220    8.010000e-07      0.055762         0.066667  0.04          0.873973   \n",
       "3995    1.800000e-07      0.037175         0.000000  0.02          0.158904   \n",
       "\n",
       "      accommodates  bedrooms  host_listings_count  host_for  \\\n",
       "3693      0.052632  0.111111             0.001898  0.331536   \n",
       "6385      0.000000  0.111111             0.009488  0.478314   \n",
       "4029      0.157895  0.111111             0.001898  0.635874   \n",
       "7220      0.263158  0.222222             0.091082  0.520706   \n",
       "3995      0.052632  0.111111             0.001898  0.323940   \n",
       "\n",
       "      number_of_reviews_ltm  minimum_nights  bathrooms  secure  cleaning_fee  \\\n",
       "3693               0.000000        0.003559   0.090909     0.0           1.0   \n",
       "6385               0.039877        0.024021   0.090909     0.0           1.0   \n",
       "4029               0.000000        0.003559   0.090909     1.0           1.0   \n",
       "7220               0.079755        0.001779   0.090909     0.0           1.0   \n",
       "3995               0.015337        0.001779   0.090909     0.0           0.0   \n",
       "\n",
       "      room_type_private_room  host_acceptance_rate  elevator  white_goods  \\\n",
       "3693                     0.0                   1.0       1.0          1.0   \n",
       "6385                     1.0                   1.0       0.0          1.0   \n",
       "4029                     0.0                   1.0       1.0          1.0   \n",
       "7220                     0.0                   1.0       0.0          1.0   \n",
       "3995                     1.0                   1.0       1.0          0.0   \n",
       "\n",
       "      host_response_rate  security_deposit  government  review_scores_value  \\\n",
       "3693                 1.0               0.0         0.0                0.875   \n",
       "6385                 1.0               1.0         1.0                0.875   \n",
       "4029                 1.0               1.0         1.0                0.875   \n",
       "7220                 1.0               1.0         0.0                1.000   \n",
       "3995                 1.0               1.0         0.0                0.875   \n",
       "\n",
       "      area_name_salamanca  area_name_san_blas  \n",
       "3693                  0.0                 0.0  \n",
       "6385                  0.0                 0.0  \n",
       "4029                  1.0                 0.0  \n",
       "7220                  0.0                 0.0  \n",
       "3995                  0.0                 0.0  "
      ]
     },
     "execution_count": 9,
     "metadata": {},
     "output_type": "execute_result"
    }
   ],
   "source": [
    "X_train.head()"
   ]
  },
  {
   "cell_type": "code",
   "execution_count": 10,
   "metadata": {},
   "outputs": [],
   "source": [
    "def mean_absolute_percentage_error(y_true,y_pred):\n",
    "    y_true = np.array(y_true)\n",
    "    y_pred = np.array(y_pred)\n",
    "    return (np.sum(np.abs(y_true-y_pred)/y_true)/len(y_true))*100"
   ]
  },
  {
   "cell_type": "markdown",
   "metadata": {
    "colab_type": "text",
    "id": "8foLce1_0c3o"
   },
   "source": [
    "# Regression Tree"
   ]
  },
  {
   "cell_type": "code",
   "execution_count": 11,
   "metadata": {
    "colab": {},
    "colab_type": "code",
    "id": "0g87VioO1BBs"
   },
   "outputs": [
    {
     "data": {
      "text/plain": [
       "DecisionTreeRegressor(ccp_alpha=0.0, criterion='mse', max_depth=None,\n",
       "                      max_features=None, max_leaf_nodes=None,\n",
       "                      min_impurity_decrease=0.0, min_impurity_split=None,\n",
       "                      min_samples_leaf=1, min_samples_split=2,\n",
       "                      min_weight_fraction_leaf=0.0, presort='deprecated',\n",
       "                      random_state=42, splitter='best')"
      ]
     },
     "execution_count": 11,
     "metadata": {},
     "output_type": "execute_result"
    }
   ],
   "source": [
    "tree_model = DecisionTreeRegressor(random_state=42)\n",
    "tree_model.fit(X_train, y_train)"
   ]
  },
  {
   "cell_type": "code",
   "execution_count": 12,
   "metadata": {
    "colab": {},
    "colab_type": "code",
    "id": "Aquk9PF_1D-U"
   },
   "outputs": [
    {
     "name": "stdout",
     "output_type": "stream",
     "text": [
      "----TRAIN----\n",
      "Mean Squared Error for Regression Tree: 6.373983074876223\n",
      "Root Mean Squared Error for Regression Tree: 2.524674845376375\n",
      "R^2 for Regression Tree: 0.9999753623128372\n",
      "MAPE for Regression Tree: 0.030000257142757947\n",
      "\n",
      "----TEST----\n",
      "Mean Squared Error for Regression Tree: 167252.71966497033\n",
      "Root Mean Squared Error for Regression Tree: 408.965426001967\n",
      "R^2 for Regression Tree: 0.3661195637373649\n",
      "MAPE for Regression Tree: 83.22558815127773\n"
     ]
    }
   ],
   "source": [
    "y_pred_tree = tree_model.predict(X_test)\n",
    "print('----TRAIN----')\n",
    "print('Mean Squared Error for Regression Tree:', mean_squared_error(y_train, tree_model.predict(X_train)))\n",
    "print('Root Mean Squared Error for Regression Tree:', np.sqrt(mean_squared_error(y_train, tree_model.predict(X_train))))\n",
    "print('R^2 for Regression Tree:',r2_score(y_train, tree_model.predict(X_train)))\n",
    "print('MAPE for Regression Tree:',mean_absolute_percentage_error(y_train, tree_model.predict(X_train)))\n",
    "print('\\n----TEST----')\n",
    "print('Mean Squared Error for Regression Tree:', mean_squared_error(y_test, y_pred_tree))\n",
    "print('Root Mean Squared Error for Regression Tree:', np.sqrt(mean_squared_error(y_test, y_pred_tree)))\n",
    "print('R^2 for Regression Tree:',r2_score(y_test, y_pred_tree))\n",
    "print('MAPE for Regression Tree:',mean_absolute_percentage_error(y_test, y_pred_tree))"
   ]
  },
  {
   "cell_type": "markdown",
   "metadata": {
    "colab_type": "text",
    "id": "mdWl5Fd-1Mp8"
   },
   "source": [
    "# Stochastic Gradient Descent"
   ]
  },
  {
   "cell_type": "code",
   "execution_count": 13,
   "metadata": {
    "colab": {},
    "colab_type": "code",
    "id": "X_iBWgzi1Rwg"
   },
   "outputs": [
    {
     "data": {
      "text/plain": [
       "SGDRegressor(alpha=0.0001, average=False, early_stopping=False, epsilon=0.1,\n",
       "             eta0=0.01, fit_intercept=True, l1_ratio=0.15,\n",
       "             learning_rate='invscaling', loss='squared_loss', max_iter=1000,\n",
       "             n_iter_no_change=5, penalty='l2', power_t=0.25, random_state=42,\n",
       "             shuffle=True, tol=0.001, validation_fraction=0.1, verbose=0,\n",
       "             warm_start=False)"
      ]
     },
     "execution_count": 13,
     "metadata": {},
     "output_type": "execute_result"
    }
   ],
   "source": [
    "gradient_model = linear_model.SGDRegressor(max_iter=1000, tol=1e-3, random_state = 42)\n",
    "gradient_model.fit(X_train, y_train)"
   ]
  },
  {
   "cell_type": "code",
   "execution_count": 14,
   "metadata": {
    "colab": {},
    "colab_type": "code",
    "id": "b0Kojy4t1Zw0"
   },
   "outputs": [
    {
     "name": "stdout",
     "output_type": "stream",
     "text": [
      "----TRAIN----\n",
      "Mean Squared Error for Stochastic Gradient Descent: 239431.92726790134\n",
      "Root Mean Squared Error for Stochastic Gradient Descent: 489.3178182612006\n",
      "R^2 for Stochastic Gradient Descent: 0.07451136102726919\n",
      "MAPE for Stochastic Gradient Descent: 200.17975042678808\n",
      "\n",
      "----TEST----\n",
      "Mean Squared Error for Stochastic Gradient Descent: 243012.17642107658\n",
      "Root Mean Squared Error for Stochastic Gradient Descent: 492.96265215640483\n",
      "R^2 for Stochastic Gradient Descent: 0.07899456155039741\n",
      "MAPE for Stochastic Gradient Descent: 202.13221777648283\n"
     ]
    }
   ],
   "source": [
    "y_pred_gradient = gradient_model.predict(X_test)\n",
    "print('----TRAIN----')\n",
    "print('Mean Squared Error for Stochastic Gradient Descent:', mean_squared_error(y_train, gradient_model.predict(X_train)))\n",
    "print('Root Mean Squared Error for Stochastic Gradient Descent:', np.sqrt(mean_squared_error(y_train, gradient_model.predict(X_train))))\n",
    "print('R^2 for Stochastic Gradient Descent:',r2_score(y_train, gradient_model.predict(X_train)))\n",
    "print('MAPE for Stochastic Gradient Descent:',mean_absolute_percentage_error(y_train, gradient_model.predict(X_train)))\n",
    "print('\\n----TEST----')\n",
    "print('Mean Squared Error for Stochastic Gradient Descent:', mean_squared_error(y_test, y_pred_gradient))\n",
    "print('Root Mean Squared Error for Stochastic Gradient Descent:', np.sqrt(mean_squared_error(y_test, y_pred_gradient)))\n",
    "print('R^2 for Stochastic Gradient Descent:',r2_score(y_test, y_pred_gradient))\n",
    "print('MAPE for Stochastic Gradient Descent:',mean_absolute_percentage_error(y_test, y_pred_gradient))"
   ]
  },
  {
   "cell_type": "markdown",
   "metadata": {
    "colab_type": "text",
    "id": "T1jmmIOI1h1y"
   },
   "source": [
    "# Multiple Regression"
   ]
  },
  {
   "cell_type": "code",
   "execution_count": 15,
   "metadata": {
    "colab": {},
    "colab_type": "code",
    "id": "4tNdf6ru1lU0"
   },
   "outputs": [
    {
     "data": {
      "text/plain": [
       "LinearRegression(copy_X=True, fit_intercept=True, n_jobs=None, normalize=False)"
      ]
     },
     "execution_count": 15,
     "metadata": {},
     "output_type": "execute_result"
    }
   ],
   "source": [
    "multiple_model = linear_model.LinearRegression()\n",
    "multiple_model.fit(X_train, y_train)"
   ]
  },
  {
   "cell_type": "code",
   "execution_count": 16,
   "metadata": {
    "colab": {},
    "colab_type": "code",
    "id": "Y0CLcnQO1pUd"
   },
   "outputs": [
    {
     "name": "stdout",
     "output_type": "stream",
     "text": [
      "----TRAIN----\n",
      "Mean Squared Error for Multiple Regression: 239051.341714417\n",
      "Root Mean Squared Error for Multiple Regression: 488.9287695712096\n",
      "R^2 for Multiple Regression: 0.07598245809408921\n",
      "MAPE for Multiple Regression: 211.72601471335008\n",
      "\n",
      "----TEST----\n",
      "Mean Squared Error for Multiple Regression: 243631.4797429635\n",
      "Root Mean Squared Error for Multiple Regression: 493.59039672887025\n",
      "R^2 for Multiple Regression: 0.07664742925477341\n",
      "MAPE for Multiple Regression: 218.49697165762228\n"
     ]
    }
   ],
   "source": [
    "y_pred_multiple = multiple_model.predict(X_test)\n",
    "print('----TRAIN----')\n",
    "print('Mean Squared Error for Multiple Regression:', mean_squared_error(y_train, multiple_model.predict(X_train)))\n",
    "print('Root Mean Squared Error for Multiple Regression:', np.sqrt(mean_squared_error(y_train, multiple_model.predict(X_train))))\n",
    "print('R^2 for Multiple Regression:',r2_score(y_train, multiple_model.predict(X_train)))\n",
    "print('MAPE for Multiple Regression:',mean_absolute_percentage_error(y_train, multiple_model.predict(X_train)))\n",
    "print('\\n----TEST----')\n",
    "print('Mean Squared Error for Multiple Regression:', mean_squared_error(y_test, y_pred_multiple))\n",
    "print('Root Mean Squared Error for Multiple Regression:', np.sqrt(mean_squared_error(y_test, y_pred_multiple)))\n",
    "print('R^2 for Multiple Regression:',r2_score(y_test, y_pred_multiple))\n",
    "print('MAPE for Multiple Regression:',mean_absolute_percentage_error(y_test, y_pred_multiple))"
   ]
  },
  {
   "cell_type": "markdown",
   "metadata": {
    "colab_type": "text",
    "id": "GUjhaznU10QW"
   },
   "source": [
    "# Elastic Net"
   ]
  },
  {
   "cell_type": "code",
   "execution_count": 17,
   "metadata": {
    "colab": {},
    "colab_type": "code",
    "id": "D8hYjCg219h3"
   },
   "outputs": [
    {
     "data": {
      "text/plain": [
       "ElasticNet(alpha=1.0, copy_X=True, fit_intercept=True, l1_ratio=0.5,\n",
       "           max_iter=1000, normalize=False, positive=False, precompute=False,\n",
       "           random_state=0, selection='cyclic', tol=0.0001, warm_start=False)"
      ]
     },
     "execution_count": 17,
     "metadata": {},
     "output_type": "execute_result"
    }
   ],
   "source": [
    "regr = ElasticNet(random_state=0)\n",
    "regr.fit(X_train, y_train)"
   ]
  },
  {
   "cell_type": "code",
   "execution_count": 18,
   "metadata": {},
   "outputs": [],
   "source": [
    "yt_pred_en = regr.predict(X_train)\n",
    "yte_pred_en=regr.predict(X_test)"
   ]
  },
  {
   "cell_type": "code",
   "execution_count": 20,
   "metadata": {
    "colab": {},
    "colab_type": "code",
    "id": "0DhmrTBD2Bx6"
   },
   "outputs": [
    {
     "name": "stdout",
     "output_type": "stream",
     "text": [
      "----TRAIN----\n",
      "Mean Squared Error for EN: 253645.04636695847\n",
      "Root Mean Squared Error for EN: 503.6318559890334\n",
      "R^2:  0.019572655063358257\n",
      "MAPE:  204.21112310005327\n",
      "\n",
      "----TEST----\n",
      "Mean Squared Error for EN: 258113.90871789108\n",
      "Root Mean Squared Error for EN: 508.0491203790152\n",
      "R^2:  0.021759661718563805\n",
      "MAPE:  199.59124730571918\n"
     ]
    }
   ],
   "source": [
    "print('----TRAIN----')\n",
    "print('Mean Squared Error for EN:', mean_squared_error(y_train, yt_pred_en))\n",
    "print('Root Mean Squared Error for EN:', np.sqrt(mean_squared_error(y_train, yt_pred_en)))\n",
    "print('R^2: ',r2_score(y_train, yt_pred_en))\n",
    "print('MAPE: ',mean_absolute_percentage_error(y_train, yt_pred_en))\n",
    "print('\\n----TEST----')\n",
    "print('Mean Squared Error for EN:', mean_squared_error(y_test, yte_pred_en))\n",
    "print('Root Mean Squared Error for EN:', np.sqrt(mean_squared_error(y_test, yte_pred_en)))\n",
    "print('R^2: ',r2_score(y_test, yte_pred_en))\n",
    "print('MAPE: ',mean_absolute_percentage_error(y_test, yte_pred_en))"
   ]
  },
  {
   "cell_type": "markdown",
   "metadata": {
    "colab_type": "text",
    "id": "zyo8Be9w2Lus"
   },
   "source": [
    "Camila Barbagallo, Ryan Daher, Paula García, Rocío González Lantero"
   ]
  }
 ],
 "metadata": {
  "colab": {
   "authorship_tag": "ABX9TyPfLiSo8x1eHdBAJfR8Y8Jb",
   "collapsed_sections": [],
   "name": "Quick_Model_Tryouts.ipynb",
   "provenance": []
  },
  "kernelspec": {
   "display_name": "Python 3",
   "language": "python",
   "name": "python3"
  },
  "language_info": {
   "codemirror_mode": {
    "name": "ipython",
    "version": 3
   },
   "file_extension": ".py",
   "mimetype": "text/x-python",
   "name": "python",
   "nbconvert_exporter": "python",
   "pygments_lexer": "ipython3",
   "version": "3.7.6"
  }
 },
 "nbformat": 4,
 "nbformat_minor": 1
}
